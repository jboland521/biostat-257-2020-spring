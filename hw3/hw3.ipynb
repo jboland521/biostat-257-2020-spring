{
 "cells": [
  {
   "cell_type": "markdown",
   "metadata": {},
   "source": [
    "## Homework 3\n",
    "### BIOSTAT 257\n",
    "#### Joanna Boland\n",
    "#### May 15, 2020"
   ]
  },
  {
   "cell_type": "markdown",
   "metadata": {},
   "source": [
    "## Question 1: Problem Structure \n",
    "\n",
    "Let $\\mathbf{A} \\in \\{0,1\\}^{n \\times n}$ be the connectivity matrix of $n$ web pages with entries,\n",
    "\\begin{eqnarray*}\n",
    "    a_{ij}= \\begin{cases},\n",
    "    1 & \\text{if page $i$ links to page $j$} \\\\,\n",
    "    0 & \\text{otherwise}\n",
    "    \\end{cases}.\n",
    "\\end{eqnarray*}\n",
    "$r_i = \\sum_j a_{ij}$ is the out-degree of page $i$. That is $r_i$ is the number of links on page $i$. Imagine a random surfer exploring the space of pages according to the following rules, \n",
    "* From a page $i$ with $r_i>0$, with probability $p$, (s)he randomly chooses a link on page $i$ (uniformly) and follows that link to the next page \n",
    "* with probability $1-p$, (s)he randomly chooses one page from the set of all $n$ pages (uniformly) and proceeds to that page, \n",
    "* From a page $i$ with $r_i=0$ (a dangling page), (s)he randomly chooses one page from the set of all $n$ pages (uniformly) and proceeds to that page, \n",
    "\n",
    "The process defines a Markov chain on the space of $n$ pages. Write the transition matrix $\\mathbf{P}$ of the Markov chain as a sparse matrix plus rank 1 matrix.\n",
    "\n",
    "We can write this in mathematical form as\n",
    "\n",
    "$$\n",
    "\\begin{eqnarray*}\n",
    "    p_{ij} = \\begin{cases}\n",
    "    \\frac{1}{r_i}p + \\frac{1}{n}(1 - p) & r_i > 0 \\\\\n",
    "    \\frac{1}{n} & r_i = 0\n",
    "    \\end{cases}\n",
    "\\end{eqnarray*}\n",
    "$$\n",
    "\n",
    "If we let $1$ be a vector of ones and $r$ is the vector containing all the $r_i$ values, then we can write $P$ as a matrix that is a sparse matrix plus rank 1 matrix as\n",
    "\n",
    "$$P = \\text{diag}\\Big(\\frac{p}{r}\\Big) + \\frac{1-p}{n}11^T$$\n",
    "\n",
    "where $\\frac{p}{r} = 0$ when $r_i = 0$. "
   ]
  },
  {
   "cell_type": "markdown",
   "metadata": {},
   "source": [
    "## Question 2: Relate to Numerical Linear Algebra\n",
    "\n",
    "According to standard Markov chain theory, the (random) position of the surfer converges to the stationary distribution $\\mathbf{x} = (x_1,\\ldots,x_n)^T$ of the Markov chain. $x_i$ has the natural interpretation of the proportion of times the surfer visits page $i$ in the long run. Therefore $\\mathbf{x}$ serves as page ranks: a higher $x_i$ means page $i$ is more visited. It is well-known that $\\mathbf{x}$ is the left eigenvector corresponding to the top eigenvalue 1 of the transition matrix $\\mathbf{P}$. That is $\\mathbf{P}^T \\mathbf{x} = \\mathbf{x}$. Therefore $\\mathbf{x}$ can be solved as an **eigen-problem**. It can also be cast as **solving a linear system**. Since the row sums of $\\mathbf{P}$ are 1, $\\mathbf{P}$ is rank deficient. We can replace the first equation by the $\\sum_{i=1}^n x_i = 1$.\n",
    "\n",
    "Hint: For iterative solvers, we don't need to replace the 1st equation. We can use the matrix $\\mathbf{I} - \\mathbf{P}^T$ directly if we start with a vector with all positive entries.\n"
   ]
  },
  {
   "cell_type": "markdown",
   "metadata": {},
   "source": [
    "## Question 3: Explore the Data"
   ]
  },
  {
   "cell_type": "code",
   "execution_count": 1,
   "metadata": {},
   "outputs": [
    {
     "name": "stdout",
     "output_type": "stream",
     "text": [
      "include group.jl for user defined matrix generators\n",
      "verify download of index files...\n",
      "used remote site is https://sparse.tamu.edu/?per_page=All\n"
     ]
    },
    {
     "data": {
      "text/plain": [
       "916428×916428 SparseMatrixCSC{Bool,Int64} with 5105039 stored entries:\n",
       "  [11343 ,      1]  =  1\n",
       "  [11928 ,      1]  =  1\n",
       "  [15902 ,      1]  =  1\n",
       "  [29547 ,      1]  =  1\n",
       "  [30282 ,      1]  =  1\n",
       "  [31301 ,      1]  =  1\n",
       "  [38717 ,      1]  =  1\n",
       "  [43930 ,      1]  =  1\n",
       "  [46275 ,      1]  =  1\n",
       "  [48193 ,      1]  =  1\n",
       "  [50823 ,      1]  =  1\n",
       "  [56911 ,      1]  =  1\n",
       "  ⋮\n",
       "  [608625, 916427]  =  1\n",
       "  [618730, 916427]  =  1\n",
       "  [622998, 916427]  =  1\n",
       "  [673046, 916427]  =  1\n",
       "  [716616, 916427]  =  1\n",
       "  [720325, 916427]  =  1\n",
       "  [772226, 916427]  =  1\n",
       "  [785097, 916427]  =  1\n",
       "  [788476, 916427]  =  1\n",
       "  [822938, 916427]  =  1\n",
       "  [833616, 916427]  =  1\n",
       "  [417498, 916428]  =  1\n",
       "  [843845, 916428]  =  1"
      ]
     },
     "execution_count": 1,
     "metadata": {},
     "output_type": "execute_result"
    }
   ],
   "source": [
    "using MatrixDepot, SparseArrays, LinearAlgebra, UnicodePlots\n",
    "\n",
    "md = mdopen(\"SNAP/web-Google\")\n",
    "# display documentation for the SNAP/web-Google data\n",
    "\n",
    "# connectivity matrix\n",
    "A = md.A"
   ]
  },
  {
   "cell_type": "markdown",
   "metadata": {},
   "source": [
    "* There are 3 bits in a single digit, so if we had a matrix of 916428 x 916428 entries of zeros or 1, then the number of gigabytes of that matrix would be:"
   ]
  },
  {
   "cell_type": "code",
   "execution_count": 2,
   "metadata": {},
   "outputs": [
    {
     "data": {
      "text/plain": [
       "314.940104694"
      ]
     },
     "execution_count": 2,
     "metadata": {},
     "output_type": "execute_result"
    }
   ],
   "source": [
    "GB = ((916428)^2 * 3)/(8000000000)"
   ]
  },
  {
   "cell_type": "markdown",
   "metadata": {},
   "source": [
    "* The number of web pages is $916,428$ as the A matrix is and $n \\times n$ matrix where $n = $ total number of web page entries\n",
    "* Since the only stored entries are 1's and the rest are assumed to be 0's, then there are $5,105,039$ web links."
   ]
  },
  {
   "cell_type": "code",
   "execution_count": 3,
   "metadata": {},
   "outputs": [
    {
     "data": {
      "text/plain": [
       "201883"
      ]
     },
     "execution_count": 3,
     "metadata": {},
     "output_type": "execute_result"
    }
   ],
   "source": [
    "out = vec(sum(A, dims = 1)) # out-degrees\n",
    "x = vec(sum(A, dims = 2)) # in-degrees\n",
    "count(iszero, out)"
   ]
  },
  {
   "cell_type": "markdown",
   "metadata": {},
   "source": [
    "* The number of dangling nodes is $201,883$."
   ]
  },
  {
   "cell_type": "code",
   "execution_count": 4,
   "metadata": {},
   "outputs": [
    {
     "data": {
      "text/plain": [
       "\u001b[1m                           Histogram of In-Degrees\u001b[22m\n",
       "\u001b[90m                  ┌                                        ┐\u001b[39m \n",
       "   \u001b[0m\u001b[90m[\u001b[0m  0.0\u001b[90m, \u001b[0m 20.0\u001b[90m)\u001b[0m\u001b[90m ┤\u001b[39m\u001b[32m▇▇▇▇▇▇▇▇▇▇▇▇▇▇▇▇▇▇▇▇▇▇▇▇▇▇▇▇▇▇▇▇\u001b[39m\u001b[0m 891798 \u001b[90m \u001b[39m \n",
       "   \u001b[0m\u001b[90m[\u001b[0m 20.0\u001b[90m, \u001b[0m 40.0\u001b[90m)\u001b[0m\u001b[90m ┤\u001b[39m\u001b[32m▇\u001b[39m\u001b[0m 22628                                 \u001b[90m \u001b[39m \n",
       "   \u001b[0m\u001b[90m[\u001b[0m 40.0\u001b[90m, \u001b[0m 60.0\u001b[90m)\u001b[0m\u001b[90m ┤\u001b[39m\u001b[0m 1329                                   \u001b[90m \u001b[39m \n",
       "   \u001b[0m\u001b[90m[\u001b[0m 60.0\u001b[90m, \u001b[0m 80.0\u001b[90m)\u001b[0m\u001b[90m ┤\u001b[39m\u001b[0m 371                                    \u001b[90m \u001b[39m \n",
       "   \u001b[0m\u001b[90m[\u001b[0m 80.0\u001b[90m, \u001b[0m100.0\u001b[90m)\u001b[0m\u001b[90m ┤\u001b[39m\u001b[0m 124                                    \u001b[90m \u001b[39m \n",
       "   \u001b[0m\u001b[90m[\u001b[0m100.0\u001b[90m, \u001b[0m120.0\u001b[90m)\u001b[0m\u001b[90m ┤\u001b[39m\u001b[0m 86                                     \u001b[90m \u001b[39m \n",
       "   \u001b[0m\u001b[90m[\u001b[0m120.0\u001b[90m, \u001b[0m140.0\u001b[90m)\u001b[0m\u001b[90m ┤\u001b[39m\u001b[0m 29                                     \u001b[90m \u001b[39m \n",
       "   \u001b[0m\u001b[90m[\u001b[0m140.0\u001b[90m, \u001b[0m160.0\u001b[90m)\u001b[0m\u001b[90m ┤\u001b[39m\u001b[0m 15                                     \u001b[90m \u001b[39m \n",
       "   \u001b[0m\u001b[90m[\u001b[0m160.0\u001b[90m, \u001b[0m180.0\u001b[90m)\u001b[0m\u001b[90m ┤\u001b[39m\u001b[0m 15                                     \u001b[90m \u001b[39m \n",
       "   \u001b[0m\u001b[90m[\u001b[0m180.0\u001b[90m, \u001b[0m200.0\u001b[90m)\u001b[0m\u001b[90m ┤\u001b[39m\u001b[0m 8                                      \u001b[90m \u001b[39m \n",
       "   \u001b[0m\u001b[90m[\u001b[0m200.0\u001b[90m, \u001b[0m220.0\u001b[90m)\u001b[0m\u001b[90m ┤\u001b[39m\u001b[0m 7                                      \u001b[90m \u001b[39m \n",
       "   \u001b[0m\u001b[90m[\u001b[0m220.0\u001b[90m, \u001b[0m240.0\u001b[90m)\u001b[0m\u001b[90m ┤\u001b[39m\u001b[0m 3                                      \u001b[90m \u001b[39m \n",
       "   \u001b[0m\u001b[90m[\u001b[0m240.0\u001b[90m, \u001b[0m260.0\u001b[90m)\u001b[0m\u001b[90m ┤\u001b[39m\u001b[0m 8                                      \u001b[90m \u001b[39m \n",
       "   \u001b[0m\u001b[90m[\u001b[0m260.0\u001b[90m, \u001b[0m280.0\u001b[90m)\u001b[0m\u001b[90m ┤\u001b[39m\u001b[0m 3                                      \u001b[90m \u001b[39m \n",
       "   \u001b[0m\u001b[90m[\u001b[0m280.0\u001b[90m, \u001b[0m300.0\u001b[90m)\u001b[0m\u001b[90m ┤\u001b[39m\u001b[0m 0                                      \u001b[90m \u001b[39m \n",
       "   \u001b[0m\u001b[90m[\u001b[0m300.0\u001b[90m, \u001b[0m320.0\u001b[90m)\u001b[0m\u001b[90m ┤\u001b[39m\u001b[0m 0                                      \u001b[90m \u001b[39m \n",
       "   \u001b[0m\u001b[90m[\u001b[0m320.0\u001b[90m, \u001b[0m340.0\u001b[90m)\u001b[0m\u001b[90m ┤\u001b[39m\u001b[0m 1                                      \u001b[90m \u001b[39m \n",
       "   \u001b[0m\u001b[90m[\u001b[0m340.0\u001b[90m, \u001b[0m360.0\u001b[90m)\u001b[0m\u001b[90m ┤\u001b[39m\u001b[0m 0                                      \u001b[90m \u001b[39m \n",
       "   \u001b[0m\u001b[90m[\u001b[0m360.0\u001b[90m, \u001b[0m380.0\u001b[90m)\u001b[0m\u001b[90m ┤\u001b[39m\u001b[0m 2                                      \u001b[90m \u001b[39m \n",
       "   \u001b[0m\u001b[90m[\u001b[0m380.0\u001b[90m, \u001b[0m400.0\u001b[90m)\u001b[0m\u001b[90m ┤\u001b[39m\u001b[0m 0                                      \u001b[90m \u001b[39m \n",
       "   \u001b[0m\u001b[90m[\u001b[0m400.0\u001b[90m, \u001b[0m420.0\u001b[90m)\u001b[0m\u001b[90m ┤\u001b[39m\u001b[0m 0                                      \u001b[90m \u001b[39m \n",
       "   \u001b[0m\u001b[90m[\u001b[0m420.0\u001b[90m, \u001b[0m440.0\u001b[90m)\u001b[0m\u001b[90m ┤\u001b[39m\u001b[0m 0                                      \u001b[90m \u001b[39m \n",
       "   \u001b[0m\u001b[90m[\u001b[0m440.0\u001b[90m, \u001b[0m460.0\u001b[90m)\u001b[0m\u001b[90m ┤\u001b[39m\u001b[0m 1                                      \u001b[90m \u001b[39m \n",
       "\u001b[90m                  └                                        ┘\u001b[39m \n",
       "\u001b[0m                                  Frequency"
      ]
     },
     "execution_count": 4,
     "metadata": {},
     "output_type": "execute_result"
    }
   ],
   "source": [
    "histogram(x, nbins = 25, closed = :left, title = \"Histogram of In-Degrees\")"
   ]
  },
  {
   "cell_type": "markdown",
   "metadata": {},
   "source": [
    "* The top 20 pages with the largest in-degrees are:"
   ]
  },
  {
   "cell_type": "code",
   "execution_count": 19,
   "metadata": {},
   "outputs": [
    {
     "data": {
      "text/plain": [
       "20-element Array{Int64,1}:\n",
       " 506743\n",
       " 203749\n",
       " 305230\n",
       " 768092\n",
       " 808644\n",
       " 412411\n",
       " 600480\n",
       " 376429\n",
       " 156951\n",
       " 885729\n",
       " 667585\n",
       " 685696\n",
       " 282141\n",
       " 598189\n",
       " 579315\n",
       " 411594\n",
       " 321092\n",
       " 838279\n",
       " 302734\n",
       " 915274"
      ]
     },
     "execution_count": 19,
     "metadata": {},
     "output_type": "execute_result"
    }
   ],
   "source": [
    "sortperm(vec(x), rev = true)[1:20]"
   ]
  },
  {
   "cell_type": "code",
   "execution_count": 5,
   "metadata": {},
   "outputs": [
    {
     "data": {
      "text/plain": [
       "\u001b[1m                            Histogram of Out-Degrees\u001b[22m\n",
       "\u001b[90m                    ┌                                        ┐\u001b[39m \n",
       "   \u001b[0m\u001b[90m[\u001b[0m   0.0\u001b[90m, \u001b[0m 500.0\u001b[90m)\u001b[0m\u001b[90m ┤\u001b[39m\u001b[32m▇▇▇▇▇▇▇▇▇▇▇▇▇▇▇▇▇▇▇▇▇▇▇▇▇▇▇▇▇▇▇▇\u001b[39m\u001b[0m 916114 \u001b[90m \u001b[39m \n",
       "   \u001b[0m\u001b[90m[\u001b[0m 500.0\u001b[90m, \u001b[0m1000.0\u001b[90m)\u001b[0m\u001b[90m ┤\u001b[39m\u001b[0m 180                                    \u001b[90m \u001b[39m \n",
       "   \u001b[0m\u001b[90m[\u001b[0m1000.0\u001b[90m, \u001b[0m1500.0\u001b[90m)\u001b[0m\u001b[90m ┤\u001b[39m\u001b[0m 32                                     \u001b[90m \u001b[39m \n",
       "   \u001b[0m\u001b[90m[\u001b[0m1500.0\u001b[90m, \u001b[0m2000.0\u001b[90m)\u001b[0m\u001b[90m ┤\u001b[39m\u001b[0m 20                                     \u001b[90m \u001b[39m \n",
       "   \u001b[0m\u001b[90m[\u001b[0m2000.0\u001b[90m, \u001b[0m2500.0\u001b[90m)\u001b[0m\u001b[90m ┤\u001b[39m\u001b[0m 16                                     \u001b[90m \u001b[39m \n",
       "   \u001b[0m\u001b[90m[\u001b[0m2500.0\u001b[90m, \u001b[0m3000.0\u001b[90m)\u001b[0m\u001b[90m ┤\u001b[39m\u001b[0m 20                                     \u001b[90m \u001b[39m \n",
       "   \u001b[0m\u001b[90m[\u001b[0m3000.0\u001b[90m, \u001b[0m3500.0\u001b[90m)\u001b[0m\u001b[90m ┤\u001b[39m\u001b[0m 18                                     \u001b[90m \u001b[39m \n",
       "   \u001b[0m\u001b[90m[\u001b[0m3500.0\u001b[90m, \u001b[0m4000.0\u001b[90m)\u001b[0m\u001b[90m ┤\u001b[39m\u001b[0m 10                                     \u001b[90m \u001b[39m \n",
       "   \u001b[0m\u001b[90m[\u001b[0m4000.0\u001b[90m, \u001b[0m4500.0\u001b[90m)\u001b[0m\u001b[90m ┤\u001b[39m\u001b[0m 9                                      \u001b[90m \u001b[39m \n",
       "   \u001b[0m\u001b[90m[\u001b[0m4500.0\u001b[90m, \u001b[0m5000.0\u001b[90m)\u001b[0m\u001b[90m ┤\u001b[39m\u001b[0m 4                                      \u001b[90m \u001b[39m \n",
       "   \u001b[0m\u001b[90m[\u001b[0m5000.0\u001b[90m, \u001b[0m5500.0\u001b[90m)\u001b[0m\u001b[90m ┤\u001b[39m\u001b[0m 4                                      \u001b[90m \u001b[39m \n",
       "   \u001b[0m\u001b[90m[\u001b[0m5500.0\u001b[90m, \u001b[0m6000.0\u001b[90m)\u001b[0m\u001b[90m ┤\u001b[39m\u001b[0m 0                                      \u001b[90m \u001b[39m \n",
       "   \u001b[0m\u001b[90m[\u001b[0m6000.0\u001b[90m, \u001b[0m6500.0\u001b[90m)\u001b[0m\u001b[90m ┤\u001b[39m\u001b[0m 1                                      \u001b[90m \u001b[39m \n",
       "\u001b[90m                    └                                        ┘\u001b[39m \n",
       "\u001b[0m                                    Frequency"
      ]
     },
     "execution_count": 5,
     "metadata": {},
     "output_type": "execute_result"
    }
   ],
   "source": [
    "histogram(out, nbins = 25, closed = :left, title = \"Histogram of Out-Degrees\")"
   ]
  },
  {
   "cell_type": "markdown",
   "metadata": {},
   "source": [
    "* The top 20 pages with the largest number of out-degrees are:\n"
   ]
  },
  {
   "cell_type": "code",
   "execution_count": 20,
   "metadata": {},
   "outputs": [
    {
     "data": {
      "text/plain": [
       "20-element Array{Int64,1}:\n",
       " 506743\n",
       " 203749\n",
       " 305230\n",
       " 768092\n",
       " 808644\n",
       " 412411\n",
       " 600480\n",
       " 376429\n",
       " 156951\n",
       " 885729\n",
       " 667585\n",
       " 685696\n",
       " 282141\n",
       " 598189\n",
       " 579315\n",
       " 411594\n",
       " 321092\n",
       " 838279\n",
       " 302734\n",
       " 915274"
      ]
     },
     "execution_count": 20,
     "metadata": {},
     "output_type": "execute_result"
    }
   ],
   "source": [
    "sortperm(vec(x), rev = true)[1:20]"
   ]
  },
  {
   "cell_type": "code",
   "execution_count": 6,
   "metadata": {},
   "outputs": [
    {
     "data": {
      "text/plain": [
       "\u001b[1m                Sparsity of a Submatrix of A\u001b[22m\n",
       "\u001b[90m         ┌──────────────────────────────────────────┐\u001b[39m    \n",
       "       \u001b[90m1\u001b[39m\u001b[90m │\u001b[39m\u001b[0m⠀\u001b[0m⠀\u001b[0m⠀\u001b[0m⠀\u001b[0m⠀\u001b[0m⠀\u001b[0m⠀\u001b[31m⠂\u001b[39m\u001b[0m⠀\u001b[0m⠀\u001b[0m⠀\u001b[0m⠀\u001b[31m⢀\u001b[39m\u001b[31m⢂\u001b[39m\u001b[31m⡂\u001b[39m\u001b[31m⠐\u001b[39m\u001b[0m⠀\u001b[0m⠀\u001b[0m⠀\u001b[31m⠠\u001b[39m\u001b[0m⠀\u001b[0m⠀\u001b[0m⠀\u001b[31m⠔\u001b[39m\u001b[31m⠄\u001b[39m\u001b[0m⠀\u001b[31m⠈\u001b[39m\u001b[31m⢀\u001b[39m\u001b[0m⠀\u001b[0m⠀\u001b[31m⠉\u001b[39m\u001b[0m⠀\u001b[0m⠀\u001b[31m⠁\u001b[39m\u001b[0m⠀\u001b[0m⠀\u001b[31m⠐\u001b[39m\u001b[0m⠀\u001b[31m⠄\u001b[39m\u001b[0m⠀\u001b[31m⠐\u001b[39m\u001b[0m⠀\u001b[90m│\u001b[39m \u001b[31m> 0\u001b[39m\n",
       "        \u001b[90m │\u001b[39m\u001b[0m⠀\u001b[0m⠀\u001b[0m⠀\u001b[0m⠀\u001b[0m⠀\u001b[31m⠂\u001b[39m\u001b[31m⡂\u001b[39m\u001b[0m⠀\u001b[31m⠄\u001b[39m\u001b[31m⠄\u001b[39m\u001b[31m⠈\u001b[39m\u001b[31m⠈\u001b[39m\u001b[31m⡔\u001b[39m\u001b[0m⠀\u001b[0m⠀\u001b[31m⠁\u001b[39m\u001b[31m⠂\u001b[39m\u001b[0m⠀\u001b[0m⠀\u001b[0m⠀\u001b[0m⠀\u001b[31m⠠\u001b[39m\u001b[31m⠁\u001b[39m\u001b[31m⠒\u001b[39m\u001b[31m⠁\u001b[39m\u001b[0m⠀\u001b[31m⠄\u001b[39m\u001b[0m⠀\u001b[31m⠐\u001b[39m\u001b[0m⠀\u001b[31m⠈\u001b[39m\u001b[0m⠀\u001b[0m⠀\u001b[31m⡐\u001b[39m\u001b[0m⠀\u001b[0m⠀\u001b[31m⠠\u001b[39m\u001b[0m⠀\u001b[31m⡀\u001b[39m\u001b[0m⠀\u001b[31m⠉\u001b[39m\u001b[0m⠀\u001b[90m│\u001b[39m \u001b[34m< 0\u001b[39m\n",
       "        \u001b[90m │\u001b[39m\u001b[0m⠀\u001b[31m⠐\u001b[39m\u001b[31m⠠\u001b[39m\u001b[0m⠀\u001b[0m⠀\u001b[31m⠁\u001b[39m\u001b[31m⢐\u001b[39m\u001b[31m⠄\u001b[39m\u001b[0m⠀\u001b[31m⠢\u001b[39m\u001b[31m⠠\u001b[39m\u001b[0m⠀\u001b[0m⠀\u001b[31m⡀\u001b[39m\u001b[31m⠈\u001b[39m\u001b[0m⠀\u001b[31m⠋\u001b[39m\u001b[0m⠀\u001b[0m⠀\u001b[0m⠀\u001b[0m⠀\u001b[0m⠀\u001b[31m⠂\u001b[39m\u001b[31m⡀\u001b[39m\u001b[0m⠀\u001b[31m⠈\u001b[39m\u001b[31m⠄\u001b[39m\u001b[0m⠀\u001b[31m⠄\u001b[39m\u001b[31m⠁\u001b[39m\u001b[31m⠈\u001b[39m\u001b[0m⠀\u001b[31m⠠\u001b[39m\u001b[0m⠀\u001b[31m⠰\u001b[39m\u001b[0m⠀\u001b[0m⠀\u001b[0m⠀\u001b[0m⠀\u001b[31m⢀\u001b[39m\u001b[31m⠆\u001b[39m\u001b[0m⠀\u001b[90m│\u001b[39m    \n",
       "        \u001b[90m │\u001b[39m\u001b[0m⠀\u001b[31m⠈\u001b[39m\u001b[31m⠠\u001b[39m\u001b[31m⠂\u001b[39m\u001b[0m⠀\u001b[31m⠈\u001b[39m\u001b[0m⠀\u001b[31m⡠\u001b[39m\u001b[31m⠐\u001b[39m\u001b[0m⠀\u001b[0m⠀\u001b[0m⠀\u001b[0m⠀\u001b[0m⠀\u001b[0m⠀\u001b[0m⠀\u001b[0m⠀\u001b[0m⠀\u001b[0m⠀\u001b[31m⡀\u001b[39m\u001b[31m⠈\u001b[39m\u001b[31m⠄\u001b[39m\u001b[31m⠁\u001b[39m\u001b[31m⢀\u001b[39m\u001b[31m⡀\u001b[39m\u001b[31m⠐\u001b[39m\u001b[31m⠄\u001b[39m\u001b[31m⠄\u001b[39m\u001b[0m⠀\u001b[0m⠀\u001b[31m⢀\u001b[39m\u001b[0m⠀\u001b[31m⠈\u001b[39m\u001b[31m⠂\u001b[39m\u001b[31m⢠\u001b[39m\u001b[0m⠀\u001b[31m⠢\u001b[39m\u001b[31m⠐\u001b[39m\u001b[0m⠀\u001b[0m⠀\u001b[0m⠀\u001b[31m⡀\u001b[39m\u001b[90m│\u001b[39m    \n",
       "        \u001b[90m │\u001b[39m\u001b[0m⠀\u001b[0m⠀\u001b[31m⠐\u001b[39m\u001b[31m⡁\u001b[39m\u001b[0m⠀\u001b[31m⡀\u001b[39m\u001b[0m⠀\u001b[0m⠀\u001b[31m⠠\u001b[39m\u001b[0m⠀\u001b[31m⠁\u001b[39m\u001b[0m⠀\u001b[0m⠀\u001b[0m⠀\u001b[31m⡄\u001b[39m\u001b[0m⠀\u001b[31m⠈\u001b[39m\u001b[31m⠁\u001b[39m\u001b[0m⠀\u001b[0m⠀\u001b[0m⠀\u001b[0m⠀\u001b[31m⠠\u001b[39m\u001b[31m⠂\u001b[39m\u001b[0m⠀\u001b[0m⠀\u001b[0m⠀\u001b[0m⠀\u001b[0m⠀\u001b[31m⠂\u001b[39m\u001b[31m⠪\u001b[39m\u001b[0m⠀\u001b[0m⠀\u001b[31m⠂\u001b[39m\u001b[0m⠀\u001b[0m⠀\u001b[0m⠀\u001b[31m⠄\u001b[39m\u001b[31m⢀\u001b[39m\u001b[0m⠀\u001b[31m⠁\u001b[39m\u001b[0m⠀\u001b[90m│\u001b[39m    \n",
       "        \u001b[90m │\u001b[39m\u001b[31m⠂\u001b[39m\u001b[31m⢀\u001b[39m\u001b[0m⠀\u001b[31m⠁\u001b[39m\u001b[0m⠀\u001b[0m⠀\u001b[31m⡀\u001b[39m\u001b[31m⡉\u001b[39m\u001b[0m⠀\u001b[0m⠀\u001b[31m⠠\u001b[39m\u001b[31m⠂\u001b[39m\u001b[31m⠐\u001b[39m\u001b[31m⢀\u001b[39m\u001b[31m⠄\u001b[39m\u001b[31m⠁\u001b[39m\u001b[31m⠐\u001b[39m\u001b[0m⠀\u001b[31m⠈\u001b[39m\u001b[0m⠀\u001b[0m⠀\u001b[0m⠀\u001b[0m⠀\u001b[0m⠀\u001b[31m⡀\u001b[39m\u001b[31m⠐\u001b[39m\u001b[31m⠁\u001b[39m\u001b[31m⡠\u001b[39m\u001b[0m⠀\u001b[31m⠂\u001b[39m\u001b[31m⠚\u001b[39m\u001b[0m⠀\u001b[31m⠁\u001b[39m\u001b[0m⠀\u001b[31m⠐\u001b[39m\u001b[31m⢀\u001b[39m\u001b[31m⠆\u001b[39m\u001b[0m⠀\u001b[31m⠈\u001b[39m\u001b[31m⠄\u001b[39m\u001b[31m⢀\u001b[39m\u001b[31m⠂\u001b[39m\u001b[90m│\u001b[39m    \n",
       "        \u001b[90m │\u001b[39m\u001b[0m⠀\u001b[0m⠀\u001b[0m⠀\u001b[31m⠁\u001b[39m\u001b[0m⠀\u001b[31m⡄\u001b[39m\u001b[0m⠀\u001b[0m⠀\u001b[0m⠀\u001b[0m⠀\u001b[31m⠒\u001b[39m\u001b[0m⠀\u001b[31m⢄\u001b[39m\u001b[31m⠄\u001b[39m\u001b[31m⢂\u001b[39m\u001b[0m⠀\u001b[31m⠂\u001b[39m\u001b[0m⠀\u001b[0m⠀\u001b[31m⠄\u001b[39m\u001b[0m⠀\u001b[31m⢀\u001b[39m\u001b[0m⠀\u001b[31m⠣\u001b[39m\u001b[0m⠀\u001b[31m⢀\u001b[39m\u001b[0m⠀\u001b[0m⠀\u001b[0m⠀\u001b[0m⠀\u001b[31m⠠\u001b[39m\u001b[31m⡀\u001b[39m\u001b[0m⠀\u001b[0m⠀\u001b[31m⢠\u001b[39m\u001b[31m⠄\u001b[39m\u001b[0m⠀\u001b[31m⡀\u001b[39m\u001b[0m⠀\u001b[31m⠂\u001b[39m\u001b[31m⠂\u001b[39m\u001b[0m⠀\u001b[90m│\u001b[39m    \n",
       "        \u001b[90m │\u001b[39m\u001b[31m⢀\u001b[39m\u001b[31m⠈\u001b[39m\u001b[0m⠀\u001b[0m⠀\u001b[31m⠂\u001b[39m\u001b[0m⠀\u001b[0m⠀\u001b[31m⠁\u001b[39m\u001b[31m⢠\u001b[39m\u001b[31m⠈\u001b[39m\u001b[31m⠄\u001b[39m\u001b[31m⠁\u001b[39m\u001b[0m⠀\u001b[0m⠀\u001b[31m⡈\u001b[39m\u001b[31m⠈\u001b[39m\u001b[31m⠠\u001b[39m\u001b[0m⠀\u001b[31m⢀\u001b[39m\u001b[31m⡦\u001b[39m\u001b[0m⠀\u001b[0m⠀\u001b[31m⠅\u001b[39m\u001b[31m⠐\u001b[39m\u001b[0m⠀\u001b[31m⠨\u001b[39m\u001b[31m⠁\u001b[39m\u001b[31m⠨\u001b[39m\u001b[0m⠀\u001b[31m⠄\u001b[39m\u001b[31m⠠\u001b[39m\u001b[31m⢀\u001b[39m\u001b[0m⠀\u001b[31m⠐\u001b[39m\u001b[31m⢐\u001b[39m\u001b[0m⠀\u001b[0m⠀\u001b[31m⠉\u001b[39m\u001b[0m⠀\u001b[0m⠀\u001b[31m⠠\u001b[39m\u001b[31m⠉\u001b[39m\u001b[90m│\u001b[39m    \n",
       "        \u001b[90m │\u001b[39m\u001b[0m⠀\u001b[0m⠀\u001b[31m⠨\u001b[39m\u001b[0m⠀\u001b[31m⠋\u001b[39m\u001b[0m⠀\u001b[31m⠄\u001b[39m\u001b[0m⠀\u001b[31m⠂\u001b[39m\u001b[0m⠀\u001b[31m⠈\u001b[39m\u001b[0m⠀\u001b[0m⠀\u001b[0m⠀\u001b[31m⠈\u001b[39m\u001b[0m⠀\u001b[0m⠀\u001b[0m⠀\u001b[0m⠀\u001b[31m⡑\u001b[39m\u001b[0m⠀\u001b[31m⢀\u001b[39m\u001b[31m⠈\u001b[39m\u001b[31m⠈\u001b[39m\u001b[0m⠀\u001b[0m⠀\u001b[0m⠀\u001b[31m⠈\u001b[39m\u001b[0m⠀\u001b[31m⠂\u001b[39m\u001b[31m⠐\u001b[39m\u001b[31m⠼\u001b[39m\u001b[0m⠀\u001b[31m⠠\u001b[39m\u001b[0m⠀\u001b[0m⠀\u001b[31m⡈\u001b[39m\u001b[31m⠁\u001b[39m\u001b[0m⠀\u001b[0m⠀\u001b[31m⠡\u001b[39m\u001b[31m⠄\u001b[39m\u001b[90m│\u001b[39m    \n",
       "        \u001b[90m │\u001b[39m\u001b[31m⠠\u001b[39m\u001b[31m⡁\u001b[39m\u001b[0m⠀\u001b[0m⠀\u001b[0m⠀\u001b[0m⠀\u001b[0m⠀\u001b[0m⠀\u001b[0m⠀\u001b[0m⠀\u001b[31m⠂\u001b[39m\u001b[31m⢀\u001b[39m\u001b[0m⠀\u001b[0m⠀\u001b[0m⠀\u001b[31m⡄\u001b[39m\u001b[0m⠀\u001b[0m⠀\u001b[0m⠀\u001b[31m⠤\u001b[39m\u001b[0m⠀\u001b[0m⠀\u001b[31m⠁\u001b[39m\u001b[0m⠀\u001b[31m⡂\u001b[39m\u001b[0m⠀\u001b[0m⠀\u001b[0m⠀\u001b[31m⠄\u001b[39m\u001b[0m⠀\u001b[31m⢈\u001b[39m\u001b[0m⠀\u001b[31m⢔\u001b[39m\u001b[31m⡊\u001b[39m\u001b[31m⣨\u001b[39m\u001b[31m⠈\u001b[39m\u001b[31m⠂\u001b[39m\u001b[0m⠀\u001b[31m⠄\u001b[39m\u001b[31m⢀\u001b[39m\u001b[0m⠀\u001b[0m⠀\u001b[90m│\u001b[39m    \n",
       "        \u001b[90m │\u001b[39m\u001b[0m⠀\u001b[31m⠂\u001b[39m\u001b[0m⠀\u001b[31m⠈\u001b[39m\u001b[0m⠀\u001b[0m⠀\u001b[0m⠀\u001b[0m⠀\u001b[0m⠀\u001b[0m⠀\u001b[31m⠈\u001b[39m\u001b[0m⠀\u001b[31m⡀\u001b[39m\u001b[0m⠀\u001b[31m⠂\u001b[39m\u001b[31m⠠\u001b[39m\u001b[31m⠐\u001b[39m\u001b[0m⠀\u001b[31m⠄\u001b[39m\u001b[0m⠀\u001b[0m⠀\u001b[0m⠀\u001b[0m⠀\u001b[0m⠀\u001b[0m⠀\u001b[31m⠤\u001b[39m\u001b[0m⠀\u001b[0m⠀\u001b[0m⠀\u001b[31m⠠\u001b[39m\u001b[31m⠘\u001b[39m\u001b[31m⠐\u001b[39m\u001b[0m⠀\u001b[31m⠄\u001b[39m\u001b[31m⢘\u001b[39m\u001b[0m⠀\u001b[0m⠀\u001b[31m⢐\u001b[39m\u001b[31m⠄\u001b[39m\u001b[0m⠀\u001b[31m⠁\u001b[39m\u001b[0m⠀\u001b[90m│\u001b[39m    \n",
       "        \u001b[90m │\u001b[39m\u001b[31m⢀\u001b[39m\u001b[31m⠄\u001b[39m\u001b[31m⢠\u001b[39m\u001b[31m⠄\u001b[39m\u001b[31m⡊\u001b[39m\u001b[31m⠂\u001b[39m\u001b[31m⠢\u001b[39m\u001b[31m⢀\u001b[39m\u001b[0m⠀\u001b[0m⠀\u001b[0m⠀\u001b[0m⠀\u001b[31m⠄\u001b[39m\u001b[31m⡀\u001b[39m\u001b[31m⡑\u001b[39m\u001b[0m⠀\u001b[31m⡐\u001b[39m\u001b[0m⠀\u001b[31m⠁\u001b[39m\u001b[31m⡂\u001b[39m\u001b[0m⠀\u001b[0m⠀\u001b[0m⠀\u001b[31m⠰\u001b[39m\u001b[31m⠂\u001b[39m\u001b[31m⢠\u001b[39m\u001b[31m⠄\u001b[39m\u001b[31m⠈\u001b[39m\u001b[0m⠀\u001b[31m⠈\u001b[39m\u001b[31m⠐\u001b[39m\u001b[0m⠀\u001b[0m⠀\u001b[0m⠀\u001b[31m⠉\u001b[39m\u001b[0m⠀\u001b[0m⠀\u001b[31m⡀\u001b[39m\u001b[0m⠀\u001b[0m⠀\u001b[31m⠃\u001b[39m\u001b[0m⠀\u001b[90m│\u001b[39m    \n",
       "        \u001b[90m │\u001b[39m\u001b[0m⠀\u001b[0m⠀\u001b[31m⠅\u001b[39m\u001b[0m⠀\u001b[31m⡁\u001b[39m\u001b[0m⠀\u001b[0m⠀\u001b[0m⠀\u001b[0m⠀\u001b[0m⠀\u001b[31m⢁\u001b[39m\u001b[31m⢀\u001b[39m\u001b[0m⠀\u001b[31m⡀\u001b[39m\u001b[31m⡀\u001b[39m\u001b[31m⡐\u001b[39m\u001b[0m⠀\u001b[0m⠀\u001b[31m⠈\u001b[39m\u001b[31m⠈\u001b[39m\u001b[31m⠔\u001b[39m\u001b[31m⠄\u001b[39m\u001b[0m⠀\u001b[0m⠀\u001b[31m⢀\u001b[39m\u001b[0m⠀\u001b[0m⠀\u001b[0m⠀\u001b[0m⠀\u001b[0m⠀\u001b[0m⠀\u001b[0m⠀\u001b[0m⠀\u001b[31m⠄\u001b[39m\u001b[31m⢉\u001b[39m\u001b[31m⠠\u001b[39m\u001b[31m⠁\u001b[39m\u001b[0m⠀\u001b[31m⠁\u001b[39m\u001b[0m⠀\u001b[0m⠀\u001b[0m⠀\u001b[90m│\u001b[39m    \n",
       "        \u001b[90m │\u001b[39m\u001b[31m⠊\u001b[39m\u001b[31m⢈\u001b[39m\u001b[0m⠀\u001b[31m⠁\u001b[39m\u001b[0m⠀\u001b[0m⠀\u001b[0m⠀\u001b[31m⠅\u001b[39m\u001b[0m⠀\u001b[31m⠂\u001b[39m\u001b[0m⠀\u001b[31m⡀\u001b[39m\u001b[0m⠀\u001b[0m⠀\u001b[0m⠀\u001b[0m⠀\u001b[31m⡀\u001b[39m\u001b[0m⠀\u001b[0m⠀\u001b[31m⠐\u001b[39m\u001b[31m⠄\u001b[39m\u001b[31m⠁\u001b[39m\u001b[31m⠠\u001b[39m\u001b[0m⠀\u001b[31m⠐\u001b[39m\u001b[31m⠈\u001b[39m\u001b[0m⠀\u001b[0m⠀\u001b[0m⠀\u001b[31m⡀\u001b[39m\u001b[31m⢠\u001b[39m\u001b[0m⠀\u001b[0m⠀\u001b[0m⠀\u001b[31m⢰\u001b[39m\u001b[0m⠀\u001b[0m⠀\u001b[0m⠀\u001b[31m⢀\u001b[39m\u001b[0m⠀\u001b[31m⠠\u001b[39m\u001b[31m⠂\u001b[39m\u001b[90m│\u001b[39m    \n",
       "        \u001b[90m │\u001b[39m\u001b[31m⠈\u001b[39m\u001b[0m⠀\u001b[0m⠀\u001b[31m⠈\u001b[39m\u001b[31m⠄\u001b[39m\u001b[0m⠀\u001b[0m⠀\u001b[31m⠄\u001b[39m\u001b[31m⠐\u001b[39m\u001b[0m⠀\u001b[31m⠠\u001b[39m\u001b[31m⠁\u001b[39m\u001b[31m⠁\u001b[39m\u001b[0m⠀\u001b[31m⡂\u001b[39m\u001b[0m⠀\u001b[31m⠠\u001b[39m\u001b[31m⠄\u001b[39m\u001b[31m⠌\u001b[39m\u001b[31m⠅\u001b[39m\u001b[31m⣀\u001b[39m\u001b[0m⠀\u001b[0m⠀\u001b[31m⢀\u001b[39m\u001b[0m⠀\u001b[31m⠠\u001b[39m\u001b[0m⠀\u001b[31m⠠\u001b[39m\u001b[31m⠠\u001b[39m\u001b[0m⠀\u001b[31m⠲\u001b[39m\u001b[31m⢂\u001b[39m\u001b[0m⠀\u001b[31m⠰\u001b[39m\u001b[31m⡄\u001b[39m\u001b[0m⠀\u001b[31m⢀\u001b[39m\u001b[31m⠬\u001b[39m\u001b[31m⠈\u001b[39m\u001b[0m⠀\u001b[0m⠀\u001b[0m⠀\u001b[90m│\u001b[39m    \n",
       "        \u001b[90m │\u001b[39m\u001b[31m⠈\u001b[39m\u001b[0m⠀\u001b[0m⠀\u001b[31m⠄\u001b[39m\u001b[0m⠀\u001b[0m⠀\u001b[31m⡀\u001b[39m\u001b[31m⠈\u001b[39m\u001b[0m⠀\u001b[0m⠀\u001b[31m⠙\u001b[39m\u001b[0m⠀\u001b[0m⠀\u001b[0m⠀\u001b[31m⢀\u001b[39m\u001b[31m⢀\u001b[39m\u001b[31m⠂\u001b[39m\u001b[0m⠀\u001b[0m⠀\u001b[31m⡄\u001b[39m\u001b[31m⢀\u001b[39m\u001b[0m⠀\u001b[31m⠠\u001b[39m\u001b[0m⠀\u001b[31m⠂\u001b[39m\u001b[0m⠀\u001b[0m⠀\u001b[31m⠐\u001b[39m\u001b[0m⠀\u001b[0m⠀\u001b[31m⠸\u001b[39m\u001b[0m⠀\u001b[0m⠀\u001b[0m⠀\u001b[31m⠈\u001b[39m\u001b[31m⠠\u001b[39m\u001b[0m⠀\u001b[31m⠠\u001b[39m\u001b[31m⠁\u001b[39m\u001b[0m⠀\u001b[31m⠂\u001b[39m\u001b[0m⠀\u001b[90m│\u001b[39m    \n",
       "        \u001b[90m │\u001b[39m\u001b[31m⠄\u001b[39m\u001b[0m⠀\u001b[0m⠀\u001b[0m⠀\u001b[31m⠄\u001b[39m\u001b[31m⠂\u001b[39m\u001b[31m⠂\u001b[39m\u001b[0m⠀\u001b[0m⠀\u001b[0m⠀\u001b[31m⠡\u001b[39m\u001b[31m⠁\u001b[39m\u001b[0m⠀\u001b[31m⢉\u001b[39m\u001b[31m⠄\u001b[39m\u001b[0m⠀\u001b[0m⠀\u001b[0m⠀\u001b[31m⡐\u001b[39m\u001b[31m⠑\u001b[39m\u001b[31m⠂\u001b[39m\u001b[31m⠄\u001b[39m\u001b[31m⠂\u001b[39m\u001b[0m⠀\u001b[0m⠀\u001b[0m⠀\u001b[31m⢀\u001b[39m\u001b[0m⠀\u001b[31m⢀\u001b[39m\u001b[0m⠀\u001b[0m⠀\u001b[0m⠀\u001b[0m⠀\u001b[31m⠉\u001b[39m\u001b[31m⠠\u001b[39m\u001b[31m⠈\u001b[39m\u001b[0m⠀\u001b[31m⠁\u001b[39m\u001b[0m⠀\u001b[0m⠀\u001b[31m⡀\u001b[39m\u001b[31m⠄\u001b[39m\u001b[90m│\u001b[39m    \n",
       "        \u001b[90m │\u001b[39m\u001b[0m⠀\u001b[0m⠀\u001b[0m⠀\u001b[0m⠀\u001b[0m⠀\u001b[0m⠀\u001b[0m⠀\u001b[0m⠀\u001b[0m⠀\u001b[0m⠀\u001b[0m⠀\u001b[31m⠠\u001b[39m\u001b[31m⠂\u001b[39m\u001b[0m⠀\u001b[0m⠀\u001b[31m⠄\u001b[39m\u001b[0m⠀\u001b[0m⠀\u001b[0m⠀\u001b[0m⠀\u001b[31m⠐\u001b[39m\u001b[31m⡀\u001b[39m\u001b[0m⠀\u001b[0m⠀\u001b[31m⠁\u001b[39m\u001b[0m⠀\u001b[31m⠐\u001b[39m\u001b[0m⠀\u001b[0m⠀\u001b[0m⠀\u001b[31m⢰\u001b[39m\u001b[31m⡄\u001b[39m\u001b[31m⠁\u001b[39m\u001b[0m⠀\u001b[0m⠀\u001b[31m⠉\u001b[39m\u001b[31m⠠\u001b[39m\u001b[0m⠀\u001b[31m⠠\u001b[39m\u001b[0m⠀\u001b[31m⡀\u001b[39m\u001b[0m⠀\u001b[90m│\u001b[39m    \n",
       "        \u001b[90m │\u001b[39m\u001b[31m⡁\u001b[39m\u001b[31m⠄\u001b[39m\u001b[31m⢀\u001b[39m\u001b[31m⠂\u001b[39m\u001b[0m⠀\u001b[31m⠁\u001b[39m\u001b[31m⡈\u001b[39m\u001b[31m⠆\u001b[39m\u001b[0m⠀\u001b[31m⠄\u001b[39m\u001b[31m⠁\u001b[39m\u001b[31m⠁\u001b[39m\u001b[0m⠀\u001b[31m⠂\u001b[39m\u001b[31m⠁\u001b[39m\u001b[0m⠀\u001b[31m⠂\u001b[39m\u001b[31m⢀\u001b[39m\u001b[0m⠀\u001b[0m⠀\u001b[0m⠀\u001b[0m⠀\u001b[0m⠀\u001b[0m⠀\u001b[31m⠁\u001b[39m\u001b[0m⠀\u001b[0m⠀\u001b[31m⡀\u001b[39m\u001b[0m⠀\u001b[31m⠐\u001b[39m\u001b[0m⠀\u001b[0m⠀\u001b[0m⠀\u001b[0m⠀\u001b[0m⠀\u001b[0m⠀\u001b[0m⠀\u001b[31m⢀\u001b[39m\u001b[31m⠄\u001b[39m\u001b[31m⠤\u001b[39m\u001b[31m⠁\u001b[39m\u001b[31m⠠\u001b[39m\u001b[90m│\u001b[39m    \n",
       "        \u001b[90m │\u001b[39m\u001b[0m⠀\u001b[31m⠅\u001b[39m\u001b[31m⠄\u001b[39m\u001b[31m⠈\u001b[39m\u001b[0m⠀\u001b[31m⢀\u001b[39m\u001b[31m⠂\u001b[39m\u001b[31m⠁\u001b[39m\u001b[31m⠐\u001b[39m\u001b[0m⠀\u001b[31m⡠\u001b[39m\u001b[31m⠄\u001b[39m\u001b[0m⠀\u001b[31m⠄\u001b[39m\u001b[31m⠐\u001b[39m\u001b[0m⠀\u001b[0m⠀\u001b[0m⠀\u001b[0m⠀\u001b[31m⡀\u001b[39m\u001b[0m⠀\u001b[31m⠁\u001b[39m\u001b[31m⡢\u001b[39m\u001b[0m⠀\u001b[31m⠙\u001b[39m\u001b[0m⠀\u001b[31m⠇\u001b[39m\u001b[0m⠀\u001b[31m⢂\u001b[39m\u001b[0m⠀\u001b[31m⣠\u001b[39m\u001b[0m⠀\u001b[31m⠂\u001b[39m\u001b[0m⠀\u001b[0m⠀\u001b[31m⠂\u001b[39m\u001b[0m⠀\u001b[31m⠥\u001b[39m\u001b[31m⠄\u001b[39m\u001b[31m⢁\u001b[39m\u001b[31m⡀\u001b[39m\u001b[31m⡀\u001b[39m\u001b[90m│\u001b[39m    \n",
       "   \u001b[90m10000\u001b[39m\u001b[90m │\u001b[39m\u001b[31m⠘\u001b[39m\u001b[0m⠀\u001b[0m⠀\u001b[0m⠀\u001b[31m⠈\u001b[39m\u001b[31m⠃\u001b[39m\u001b[31m⡁\u001b[39m\u001b[31m⠨\u001b[39m\u001b[31m⠁\u001b[39m\u001b[31m⠐\u001b[39m\u001b[0m⠀\u001b[0m⠀\u001b[31m⠈\u001b[39m\u001b[31m⠁\u001b[39m\u001b[31m⠄\u001b[39m\u001b[0m⠀\u001b[31m⠁\u001b[39m\u001b[0m⠀\u001b[0m⠀\u001b[31m⠂\u001b[39m\u001b[31m⠁\u001b[39m\u001b[31m⢈\u001b[39m\u001b[31m⠁\u001b[39m\u001b[0m⠀\u001b[0m⠀\u001b[31m⡁\u001b[39m\u001b[0m⠀\u001b[0m⠀\u001b[0m⠀\u001b[31m⢀\u001b[39m\u001b[31m⢰\u001b[39m\u001b[0m⠀\u001b[0m⠀\u001b[31m⠈\u001b[39m\u001b[0m⠀\u001b[31m⠈\u001b[39m\u001b[0m⠀\u001b[0m⠀\u001b[0m⠀\u001b[0m⠀\u001b[31m⡂\u001b[39m\u001b[0m⠀\u001b[90m│\u001b[39m    \n",
       "\u001b[90m         └──────────────────────────────────────────┘\u001b[39m    \n",
       "\u001b[90m         1\u001b[39m\u001b[90m                    \u001b[39m\u001b[90m                  10000\u001b[39m\n",
       "\u001b[0m                          nz = 600"
      ]
     },
     "execution_count": 6,
     "metadata": {},
     "output_type": "execute_result"
    }
   ],
   "source": [
    "A1 = A[1:10000, 1:10000]\n",
    "spy(A1, title = \"Sparsity of a Submatrix of A\")"
   ]
  },
  {
   "cell_type": "markdown",
   "metadata": {},
   "source": [
    "## Question 4: Dense Linear Algebra\n",
    "\n",
    "Consider the following methods to obtain the page ranks of the `SNAP/web-Google` data. \n",
    "\n",
    "1. A dense linear system solver such as LU decomposition.\n",
    "2. A dense eigen-solver for asymmetric matrix.\n",
    "\n",
    "For the LU approach, estimate (1) the memory usage and (2) how long it will take assuming that the LAPACK functions can achieve the theoretical throughput of your computer.\n",
    "\n",
    "The GE/LU approach will take\n",
    "$$2 \\times (109)^3/3/10^{12}≈6.66 \\text{ TB}$$\n",
    "\n",
    "While the amount of time it would take is\n",
    "\n",
    "$$6.66×10^{14} \\text{seconds} ≈20  \\text{ million years}$$"
   ]
  },
  {
   "cell_type": "markdown",
   "metadata": {},
   "source": [
    "## Question 5: Iterative Solvers\n",
    "\n",
    "Set the _teleportation_ parameter at $p = 0.85$. Consider the following methods for solving the PageRank problem. \n",
    "\n",
    "1. An iterative linear system solver such as GMRES.\n",
    "2. An iterative eigen-solver such as Arnoldi method.\n",
    "\n",
    "For iterative methods, we have many choices in Julia. See a list of existing Julia packages for linear solvers at this [page](https://jutho.github.io/KrylovKit.jl/stable/#Package-features-and-alternatives-1). The start-up code below uses the [KrylovKit.jl](https://github.com/Jutho/KrylovKit.jl) package. You can use other packages if you prefer. Make sure to utilize the special structure of $\\mathbf{P}$ (sparse + rank 1) to speed up the matrix-vector multiplication.\n"
   ]
  },
  {
   "cell_type": "markdown",
   "metadata": {},
   "source": [
    "### Step 1\n",
    "\n",
    "Let's implement a type `PageRankImPt` that mimics the matrix $\\mathbf{M} = \\mathbf{I} - \\mathbf{P}^T$. For iterative methods, all we need to provide is methods for evaluating $\\mathbf{M} \\mathbf{v}$ and $\\mathbf{M}^T \\mathbf{v}$ for arbitrary vector $\\mathbf{v}$."
   ]
  },
  {
   "cell_type": "code",
   "execution_count": 7,
   "metadata": {},
   "outputs": [],
   "source": [
    "using BenchmarkTools, LinearAlgebra, SparseArrays, Revise\n",
    "\n",
    "# a type for the matrix M = I - P^T in PageRank problem\n",
    "struct PageRankImPt{TA <: Number, IA <: Integer, T <: AbstractFloat} <: AbstractMatrix{T}\n",
    "    A         :: SparseMatrixCSC{TA, IA} # adjacency matrix\n",
    "    telep     :: T\n",
    "    r         :: Vector{T}\n",
    "    d         :: Vector{T}\n",
    "    z         :: Vector{T} \n",
    "    dtv       :: Vector{T}\n",
    "    AtDtvb    :: Vector{T}\n",
    "    o1dtv     :: Vector{T} \n",
    "    Av        :: Vector{T}\n",
    "    DAv       :: Vector{T}\n",
    "    ztonetv   :: Vector{T}\n",
    "    one       :: Vector{T}\n",
    "end\n",
    "\n",
    "# constructor\n",
    "function PageRankImPt(A::SparseMatrixCSC, telep::T) where T <: AbstractFloat\n",
    "    n = size(A, 1)\n",
    "    one = ones(n)\n",
    "    r = A * one\n",
    "    d = Vector{Float64}(undef, n)\n",
    "    z = Vector{Float64}(undef, n)\n",
    "    dtv = Vector{Float64}(undef, n)\n",
    "    AtDtvb = Vector{Float64}(undef, n)\n",
    "    o1dtv = Vector{Float64}(undef, n)\n",
    "    Av = Vector{Float64}(undef, n)\n",
    "    DAv = Vector{Float64}(undef, n)\n",
    "    ztonetv = Vector{Float64}(undef, n)\n",
    "    for i in 1:n\n",
    "        if r[i] == 0\n",
    "            d[i], z[i] = 0, 1 / n\n",
    "        else \n",
    "            d[i], z[i] = telep / r[i], (1 - telep) / n\n",
    "        end\n",
    "    end\n",
    "    PageRankImPt(A, telep, r, d, z, dtv, AtDtvb, o1dtv, Av, DAv, ztonetv, one)\n",
    "end\n",
    "\n",
    "LinearAlgebra.issymmetric(::PageRankImPt) = false\n",
    "Base.size(M::PageRankImPt) = size(M.A)\n",
    "\n",
    "function Base.getindex(M::PageRankImPt, i, j) \n",
    "    if i == j\n",
    "        outsc = 1 - M.A[j, i] * M.d[i] - M.z[i]\n",
    "    else \n",
    "        outsc = - M.A[j, i] * M.d[i] - M.z[j]\n",
    "    end\n",
    "    return outsc\n",
    "end \n",
    "\n",
    "# overwrite `out` by `(I - Pt) * v`\n",
    "function LinearAlgebra.mul!(\n",
    "        out :: Vector{T}, \n",
    "        M   :: PageRankImPt{<:Number, <:Integer, T}, \n",
    "        v   :: Vector{T}) where T <: AbstractFloat\n",
    "    M.dtv .= M.d .* v\n",
    "    ztv = dot(M.z, v)\n",
    "    mul!(M.AtDtvb, transpose(M.A), M.dtv)\n",
    "    M.o1dtv .= M.one .* ztv\n",
    "    axpby!(-1, M.AtDtvb, -1, M.o1dtv)\n",
    "    out = v - M.o1dtv\n",
    "    sleep(1e-2) \n",
    "    return out\n",
    "end\n",
    "\n",
    "# overwrite `out` by `(I - P) * v`\n",
    "function LinearAlgebra.mul!(\n",
    "        out :: Vector{T}, \n",
    "        Mt  :: Transpose{T, PageRankImPt{TA, IA, T}}, \n",
    "        v   :: Vector{T}) where {TA<:Number, IA<:Integer, T <: AbstractFloat}\n",
    "    M = Mt.parent\n",
    "    mul!(M.Av, M.A, v)\n",
    "    onetv = dot(M.one, v)\n",
    "    M.DAv .= M.Av .* M.d\n",
    "    M.ztonetv .= M.z .* onetv\n",
    "    axpby!(-1, M.DAv, -1, M.ztonetv)\n",
    "    out = v - M.ztonetv\n",
    "    return out\n",
    "end"
   ]
  },
  {
   "cell_type": "code",
   "execution_count": 8,
   "metadata": {},
   "outputs": [
    {
     "data": {
      "text/plain": [
       "916428-element Array{Float64,1}:\n",
       " 3.3783428216975054e-5\n",
       " 2.0710155392568165e-6\n",
       " 3.663065984832893e-6 \n",
       " 7.527510785028837e-7 \n",
       " 8.63328599674051e-7  \n",
       " 1.769418252415541e-6 \n",
       " 2.431230382883396e-7 \n",
       " 6.368417180141445e-7 \n",
       " 4.744973703681939e-7 \n",
       " 2.6895486110647536e-7\n",
       " 3.18574314847409e-6  \n",
       " 7.375106374416742e-7 \n",
       " 2.431230382883396e-7 \n",
       " ⋮                    \n",
       " 1.1305006040148547e-6\n",
       " 4.874825281822915e-6 \n",
       " 3.167946973112519e-6 \n",
       " 9.72688040308568e-7  \n",
       " 6.588614479285245e-7 \n",
       " 7.737011774300648e-7 \n",
       " 2.431230382883396e-7 \n",
       " 1.6219204214797293e-6\n",
       " 3.912130060551738e-7 \n",
       " 2.431230382883396e-7 \n",
       " 7.296033831163157e-6 \n",
       " 6.330939996912478e-7 "
      ]
     },
     "execution_count": 8,
     "metadata": {},
     "output_type": "execute_result"
    }
   ],
   "source": [
    "using DelimitedFiles\n",
    "\n",
    "isfile(\"pgrksol.csv\") || download(\"https://raw.githubusercontent.com/ucla-biostat-257-2020spring/ucla-biostat-257-2020spring.github.io/master/hw/hw3/pgrksol.csv\", \"./pgrksol.csv\")\n",
    "xsol = vec(readdlm(\"./pgrksol.csv\"))"
   ]
  },
  {
   "cell_type": "markdown",
   "metadata": {},
   "source": [
    "### Step 2\n",
    "We want to benchmark the hot functions `mul!` to make sure they are efficient and allocate litte memory."
   ]
  },
  {
   "cell_type": "code",
   "execution_count": 17,
   "metadata": {},
   "outputs": [
    {
     "data": {
      "text/plain": [
       "false"
      ]
     },
     "execution_count": 17,
     "metadata": {},
     "output_type": "execute_result"
    }
   ],
   "source": [
    "M = PageRankImPt(A, 0.85)\n",
    "n = size(M, 1)\n",
    "v, out = ones(n), zeros(n)\n",
    "\n",
    "norm(transpose(M) * ones(n)) < 1e-12"
   ]
  },
  {
   "cell_type": "code",
   "execution_count": null,
   "metadata": {},
   "outputs": [],
   "source": [
    "bm_mtv = @benchmark mul!($out, $(transpose(M)), $v) setup=(fill!(out, 0); fill!(v, 1))"
   ]
  },
  {
   "cell_type": "code",
   "execution_count": null,
   "metadata": {},
   "outputs": [],
   "source": [
    "clamp(10 - median(bm_mv).memory / 100, 0, 10) + \n",
    "clamp(10 - median(bm_mtv).memory / 100, 0, 10)"
   ]
  },
  {
   "cell_type": "code",
   "execution_count": 14,
   "metadata": {},
   "outputs": [
    {
     "ename": "AssertionError",
     "evalue": "AssertionError: transpose(M) * ones(n) ≈ zeros(n)",
     "output_type": "error",
     "traceback": [
      "AssertionError: transpose(M) * ones(n) ≈ zeros(n)",
      "",
      "Stacktrace:",
      " [1] top-level scope at In[14]:3"
     ]
    }
   ],
   "source": [
    "M = PageRankImPt(A, 0.85)\n",
    "n = size(M, 1)\n",
    "\n",
    "@assert transpose(M) * ones(n) ≈ zeros(n)"
   ]
  },
  {
   "cell_type": "markdown",
   "metadata": {},
   "source": [
    "### Step 3\n",
    "Let's first try to solve the PageRank problem by the GMRES method for solving linear equations."
   ]
  },
  {
   "cell_type": "code",
   "execution_count": null,
   "metadata": {},
   "outputs": [],
   "source": [
    "using KrylovKit\n",
    "\n",
    "# normalize in-degrees to be the start point\n",
    "x0   = vec(sum(A, dims = 1)) .+ 1.0\n",
    "x0 ./= sum(x0)\n",
    "\n",
    "# right hand side\n",
    "b = zeros(n)\n",
    "\n",
    "# warm up (compilation)\n",
    "linsolve(M, b, x0, issymmetric = false, isposdef = false, maxiter = 1) \n",
    "# output is complex eigenvalue/eigenvector\n",
    "(x_gmres, info), time_gmres, = @timed linsolve(M, b, x0, issymmetric = false, isposdef = false)"
   ]
  },
  {
   "cell_type": "code",
   "execution_count": null,
   "metadata": {},
   "outputs": [],
   "source": [
    "@assert norm(x_gmres - xsol) < 1e-8"
   ]
  },
  {
   "cell_type": "code",
   "execution_count": null,
   "metadata": {},
   "outputs": [],
   "source": [
    "clamp(20 / time_gmres * 20, 0, 20)"
   ]
  },
  {
   "cell_type": "markdown",
   "metadata": {},
   "source": [
    "### Step 4\n",
    "\n",
    "Let's first try to solve the PageRank problem by the Arnoldi method for solving eigen problems."
   ]
  },
  {
   "cell_type": "code",
   "execution_count": null,
   "metadata": {},
   "outputs": [],
   "source": [
    "# warm up (compilation)\n",
    "eigsolve(M, x0, 1, :SR, issymmetric = false, maxiter = 1)\n",
    "# output is complex eigenvalue/eigenvector\n",
    "(vals, vecs, info), time_arnoldi, = @timed eigsolve(M, x0, 1, :SR, issymmetric = false)"
   ]
  },
  {
   "cell_type": "code",
   "execution_count": null,
   "metadata": {},
   "outputs": [],
   "source": [
    "@assert abs(Real(vals[1])) < 1e-8"
   ]
  },
  {
   "cell_type": "code",
   "execution_count": null,
   "metadata": {},
   "outputs": [],
   "source": [
    "x_arnoldi   = abs.(Real.(vecs[1]))\n",
    "x_arnoldi ./= sum(x_arnoldi)\n",
    "@assert norm(x_arnoldi - xsol) < 1e-8"
   ]
  },
  {
   "cell_type": "code",
   "execution_count": null,
   "metadata": {},
   "outputs": [],
   "source": [
    "clamp(20 / time_arnoldi * 20, 0, 20)"
   ]
  },
  {
   "cell_type": "markdown",
   "metadata": {},
   "source": [
    "## Question 6: Results\n",
    "\n",
    "The top twenty pages based on this method is:"
   ]
  },
  {
   "cell_type": "code",
   "execution_count": null,
   "metadata": {},
   "outputs": [],
   "source": [
    "sortperm(vec(x_arnoldi), rev = true)[1:20]"
   ]
  },
  {
   "cell_type": "markdown",
   "metadata": {},
   "source": [
    "Versus"
   ]
  },
  {
   "cell_type": "code",
   "execution_count": null,
   "metadata": {},
   "outputs": [],
   "source": [
    "sortperm(vec(x), rev = true)[1:20]"
   ]
  }
 ],
 "metadata": {
  "kernelspec": {
   "display_name": "Julia 1.3.0",
   "language": "julia",
   "name": "julia-1.3"
  },
  "language_info": {
   "file_extension": ".jl",
   "mimetype": "application/julia",
   "name": "julia",
   "version": "1.3.0"
  }
 },
 "nbformat": 4,
 "nbformat_minor": 4
}
