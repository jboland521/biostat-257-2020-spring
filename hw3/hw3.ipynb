{
 "cells": [
  {
   "cell_type": "markdown",
   "metadata": {},
   "source": [
    "## Homework 3\n",
    "### BIOSTAT 257\n",
    "#### Joanna Boland\n",
    "#### May 15, 2020"
   ]
  },
  {
   "cell_type": "markdown",
   "metadata": {},
   "source": [
    "## Question 1: Problem Structure \n",
    "\n",
    "Let $\\mathbf{A} \\in \\{0,1\\}^{n \\times n}$ be the connectivity matrix of $n$ web pages with entries,\n",
    "\\begin{eqnarray*}\n",
    "    a_{ij}= \\begin{cases}\n",
    "    1 & \\text{if page $i$ links to page $j$} \\\\\n",
    "    0 & \\text{otherwise}\n",
    "    \\end{cases}.\n",
    "\\end{eqnarray*}\n",
    "$r_i = \\sum_j a_{ij}$ is the out-degree of page $i$. That is $r_i$ is the number of links on page $i$. Imagine a random surfer exploring the space of pages according to the following rules, \n",
    "* From a page $i$ with $r_i>0$, with probability $p$, (s)he randomly chooses a link on page $i$ (uniformly) and follows that link to the next page \n",
    "* with probability $1-p$, (s)he randomly chooses one page from the set of all $n$ pages (uniformly) and proceeds to that page, \n",
    "* From a page $i$ with $r_i=0$ (a dangling page), (s)he randomly chooses one page from the set of all $n$ pages (uniformly) and proceeds to that page, \n",
    "\n",
    "The process defines a Markov chain on the space of $n$ pages. Write the transition matrix $\\mathbf{P}$ of the Markov chain as a sparse matrix plus rank 1 matrix.\n",
    "\n",
    "We can write this in mathematical form as\n",
    "\n",
    "$$\n",
    "\\begin{eqnarray*}\n",
    "    p_{ij} = \\begin{cases}\n",
    "    \\frac{1}{r_i}p + \\frac{1}{n}(1 - p) & r_i > 0 \\\\\n",
    "    \\frac{1}{n} & r_i = 0\n",
    "    \\end{cases}\n",
    "\\end{eqnarray*}\n",
    "$$\n",
    "\n",
    "If we let $1$ be a vector of ones and $r$ is the vector containing all the $r_i$ values, then we can write $P$ as a matrix that is a sparse matrix plus rank 1 matrix as\n",
    "\n",
    "$$P = \\text{diag}\\Big(\\frac{p}{r}\\Big) + \\frac{1-p}{n}11^T$$\n",
    "\n",
    "where $\\frac{p}{r} = 0$ when $r_i = 0$. "
   ]
  },
  {
   "cell_type": "markdown",
   "metadata": {},
   "source": [
    "## Question 2: Relate to Numerical Linear Algebra\n",
    "\n",
    "According to standard Markov chain theory, the (random) position of the surfer converges to the stationary distribution $\\mathbf{x} = (x_1,\\ldots,x_n)^T$ of the Markov chain. $x_i$ has the natural interpretation of the proportion of times the surfer visits page $i$ in the long run. Therefore $\\mathbf{x}$ serves as page ranks: a higher $x_i$ means page $i$ is more visited. It is well-known that $\\mathbf{x}$ is the left eigenvector corresponding to the top eigenvalue 1 of the transition matrix $\\mathbf{P}$. That is $\\mathbf{P}^T \\mathbf{x} = \\mathbf{x}$. Therefore $\\mathbf{x}$ can be solved as an **eigen-problem**. It can also be cast as **solving a linear system**. Since the row sums of $\\mathbf{P}$ are 1, $\\mathbf{P}$ is rank deficient. We can replace the first equation by the $\\sum_{i=1}^n x_i = 1$.\n",
    "\n",
    "Hint: For iterative solvers, we don't need to replace the 1st equation. We can use the matrix $\\mathbf{I} - \\mathbf{P}^T$ directly if we start with a vector with all positive entries.\n"
   ]
  },
  {
   "cell_type": "markdown",
   "metadata": {},
   "source": [
    "## Question 3: Explore the Data"
   ]
  },
  {
   "cell_type": "code",
   "execution_count": 5,
   "metadata": {},
   "outputs": [
    {
     "name": "stdout",
     "output_type": "stream",
     "text": [
      "include group.jl for user defined matrix generators\n",
      "verify download of index files...\n",
      "used remote site is https://sparse.tamu.edu/?per_page=All\n",
      "populating internal database...\n"
     ]
    }
   ],
   "source": [
    "using MatrixDepot, UnicodePlots\n",
    "md = mdopen(\"SNAP/web-Google\")\n",
    "MatrixDepot.addmetadata!(md.data)"
   ]
  },
  {
   "cell_type": "code",
   "execution_count": 6,
   "metadata": {},
   "outputs": [
    {
     "data": {
      "text/plain": [
       "916428×916428 SparseMatrixCSC{Bool,Int64} with 5105039 stored entries:\n",
       "  [11343 ,      1]  =  1\n",
       "  [11928 ,      1]  =  1\n",
       "  [15902 ,      1]  =  1\n",
       "  [29547 ,      1]  =  1\n",
       "  [30282 ,      1]  =  1\n",
       "  [31301 ,      1]  =  1\n",
       "  [38717 ,      1]  =  1\n",
       "  [43930 ,      1]  =  1\n",
       "  [46275 ,      1]  =  1\n",
       "  [48193 ,      1]  =  1\n",
       "  [50823 ,      1]  =  1\n",
       "  [56911 ,      1]  =  1\n",
       "  ⋮\n",
       "  [608625, 916427]  =  1\n",
       "  [618730, 916427]  =  1\n",
       "  [622998, 916427]  =  1\n",
       "  [673046, 916427]  =  1\n",
       "  [716616, 916427]  =  1\n",
       "  [720325, 916427]  =  1\n",
       "  [772226, 916427]  =  1\n",
       "  [785097, 916427]  =  1\n",
       "  [788476, 916427]  =  1\n",
       "  [822938, 916427]  =  1\n",
       "  [833616, 916427]  =  1\n",
       "  [417498, 916428]  =  1\n",
       "  [843845, 916428]  =  1"
      ]
     },
     "execution_count": 6,
     "metadata": {},
     "output_type": "execute_result"
    }
   ],
   "source": [
    "# connectivity matrix\n",
    "A = md.A"
   ]
  },
  {
   "cell_type": "markdown",
   "metadata": {},
   "source": [
    "* There are 3 bits in a single digit, so if we had a matrix of 916428 x 916428 entries of zeros or 1, then the number of gigabytes of that matrix would be:"
   ]
  },
  {
   "cell_type": "code",
   "execution_count": 7,
   "metadata": {},
   "outputs": [
    {
     "data": {
      "text/plain": [
       "314.940104694"
      ]
     },
     "execution_count": 7,
     "metadata": {},
     "output_type": "execute_result"
    }
   ],
   "source": [
    "GB = ((916428)^2 * 3)/(8000000000)"
   ]
  },
  {
   "cell_type": "markdown",
   "metadata": {},
   "source": [
    "* The number of web pages is $916,428$ as the A matrix is and $n \\times n$ matrix where $n = $ total number of web page entries\n",
    "* Since the only stored entries are 1's and the rest are assumed to be 0's, then there are $5,105,039$ web links."
   ]
  },
  {
   "cell_type": "code",
   "execution_count": 8,
   "metadata": {},
   "outputs": [
    {
     "data": {
      "text/plain": [
       "201883"
      ]
     },
     "execution_count": 8,
     "metadata": {},
     "output_type": "execute_result"
    }
   ],
   "source": [
    "outz = vec(sum(A, dims = 1)) # out-degrees\n",
    "inz = vec(sum(A, dims = 2)) # in-degrees\n",
    "count(iszero, outz)"
   ]
  },
  {
   "cell_type": "markdown",
   "metadata": {},
   "source": [
    "* The number of dangling nodes is $201,883$."
   ]
  },
  {
   "cell_type": "code",
   "execution_count": 9,
   "metadata": {},
   "outputs": [
    {
     "data": {
      "text/plain": [
       "\u001b[1m                           Histogram of In-Degrees\u001b[22m\n",
       "\u001b[90m                  ┌                                        ┐\u001b[39m \n",
       "   \u001b[0m\u001b[90m[\u001b[0m  0.0\u001b[90m, \u001b[0m 20.0\u001b[90m)\u001b[0m\u001b[90m ┤\u001b[39m\u001b[32m▇▇▇▇▇▇▇▇▇▇▇▇▇▇▇▇▇▇▇▇▇▇▇▇▇▇▇▇▇▇▇▇\u001b[39m\u001b[0m 891798 \u001b[90m \u001b[39m \n",
       "   \u001b[0m\u001b[90m[\u001b[0m 20.0\u001b[90m, \u001b[0m 40.0\u001b[90m)\u001b[0m\u001b[90m ┤\u001b[39m\u001b[32m▇\u001b[39m\u001b[0m 22628                                 \u001b[90m \u001b[39m \n",
       "   \u001b[0m\u001b[90m[\u001b[0m 40.0\u001b[90m, \u001b[0m 60.0\u001b[90m)\u001b[0m\u001b[90m ┤\u001b[39m\u001b[0m 1329                                   \u001b[90m \u001b[39m \n",
       "   \u001b[0m\u001b[90m[\u001b[0m 60.0\u001b[90m, \u001b[0m 80.0\u001b[90m)\u001b[0m\u001b[90m ┤\u001b[39m\u001b[0m 371                                    \u001b[90m \u001b[39m \n",
       "   \u001b[0m\u001b[90m[\u001b[0m 80.0\u001b[90m, \u001b[0m100.0\u001b[90m)\u001b[0m\u001b[90m ┤\u001b[39m\u001b[0m 124                                    \u001b[90m \u001b[39m \n",
       "   \u001b[0m\u001b[90m[\u001b[0m100.0\u001b[90m, \u001b[0m120.0\u001b[90m)\u001b[0m\u001b[90m ┤\u001b[39m\u001b[0m 86                                     \u001b[90m \u001b[39m \n",
       "   \u001b[0m\u001b[90m[\u001b[0m120.0\u001b[90m, \u001b[0m140.0\u001b[90m)\u001b[0m\u001b[90m ┤\u001b[39m\u001b[0m 29                                     \u001b[90m \u001b[39m \n",
       "   \u001b[0m\u001b[90m[\u001b[0m140.0\u001b[90m, \u001b[0m160.0\u001b[90m)\u001b[0m\u001b[90m ┤\u001b[39m\u001b[0m 15                                     \u001b[90m \u001b[39m \n",
       "   \u001b[0m\u001b[90m[\u001b[0m160.0\u001b[90m, \u001b[0m180.0\u001b[90m)\u001b[0m\u001b[90m ┤\u001b[39m\u001b[0m 15                                     \u001b[90m \u001b[39m \n",
       "   \u001b[0m\u001b[90m[\u001b[0m180.0\u001b[90m, \u001b[0m200.0\u001b[90m)\u001b[0m\u001b[90m ┤\u001b[39m\u001b[0m 8                                      \u001b[90m \u001b[39m \n",
       "   \u001b[0m\u001b[90m[\u001b[0m200.0\u001b[90m, \u001b[0m220.0\u001b[90m)\u001b[0m\u001b[90m ┤\u001b[39m\u001b[0m 7                                      \u001b[90m \u001b[39m \n",
       "   \u001b[0m\u001b[90m[\u001b[0m220.0\u001b[90m, \u001b[0m240.0\u001b[90m)\u001b[0m\u001b[90m ┤\u001b[39m\u001b[0m 3                                      \u001b[90m \u001b[39m \n",
       "   \u001b[0m\u001b[90m[\u001b[0m240.0\u001b[90m, \u001b[0m260.0\u001b[90m)\u001b[0m\u001b[90m ┤\u001b[39m\u001b[0m 8                                      \u001b[90m \u001b[39m \n",
       "   \u001b[0m\u001b[90m[\u001b[0m260.0\u001b[90m, \u001b[0m280.0\u001b[90m)\u001b[0m\u001b[90m ┤\u001b[39m\u001b[0m 3                                      \u001b[90m \u001b[39m \n",
       "   \u001b[0m\u001b[90m[\u001b[0m280.0\u001b[90m, \u001b[0m300.0\u001b[90m)\u001b[0m\u001b[90m ┤\u001b[39m\u001b[0m 0                                      \u001b[90m \u001b[39m \n",
       "   \u001b[0m\u001b[90m[\u001b[0m300.0\u001b[90m, \u001b[0m320.0\u001b[90m)\u001b[0m\u001b[90m ┤\u001b[39m\u001b[0m 0                                      \u001b[90m \u001b[39m \n",
       "   \u001b[0m\u001b[90m[\u001b[0m320.0\u001b[90m, \u001b[0m340.0\u001b[90m)\u001b[0m\u001b[90m ┤\u001b[39m\u001b[0m 1                                      \u001b[90m \u001b[39m \n",
       "   \u001b[0m\u001b[90m[\u001b[0m340.0\u001b[90m, \u001b[0m360.0\u001b[90m)\u001b[0m\u001b[90m ┤\u001b[39m\u001b[0m 0                                      \u001b[90m \u001b[39m \n",
       "   \u001b[0m\u001b[90m[\u001b[0m360.0\u001b[90m, \u001b[0m380.0\u001b[90m)\u001b[0m\u001b[90m ┤\u001b[39m\u001b[0m 2                                      \u001b[90m \u001b[39m \n",
       "   \u001b[0m\u001b[90m[\u001b[0m380.0\u001b[90m, \u001b[0m400.0\u001b[90m)\u001b[0m\u001b[90m ┤\u001b[39m\u001b[0m 0                                      \u001b[90m \u001b[39m \n",
       "   \u001b[0m\u001b[90m[\u001b[0m400.0\u001b[90m, \u001b[0m420.0\u001b[90m)\u001b[0m\u001b[90m ┤\u001b[39m\u001b[0m 0                                      \u001b[90m \u001b[39m \n",
       "   \u001b[0m\u001b[90m[\u001b[0m420.0\u001b[90m, \u001b[0m440.0\u001b[90m)\u001b[0m\u001b[90m ┤\u001b[39m\u001b[0m 0                                      \u001b[90m \u001b[39m \n",
       "   \u001b[0m\u001b[90m[\u001b[0m440.0\u001b[90m, \u001b[0m460.0\u001b[90m)\u001b[0m\u001b[90m ┤\u001b[39m\u001b[0m 1                                      \u001b[90m \u001b[39m \n",
       "\u001b[90m                  └                                        ┘\u001b[39m \n",
       "\u001b[0m                                  Frequency"
      ]
     },
     "execution_count": 9,
     "metadata": {},
     "output_type": "execute_result"
    }
   ],
   "source": [
    "histogram(inz, nbins = 25, closed = :left, title = \"Histogram of In-Degrees\")"
   ]
  },
  {
   "cell_type": "markdown",
   "metadata": {},
   "source": [
    "* The top 20 pages with the largest in-degrees are:"
   ]
  },
  {
   "cell_type": "code",
   "execution_count": 10,
   "metadata": {},
   "outputs": [
    {
     "data": {
      "text/plain": [
       "20-element Array{Int64,1}:\n",
       " 506743\n",
       " 203749\n",
       " 305230\n",
       " 768092\n",
       " 808644\n",
       " 412411\n",
       " 600480\n",
       " 376429\n",
       " 156951\n",
       " 885729\n",
       " 667585\n",
       " 685696\n",
       " 282141\n",
       " 598189\n",
       " 579315\n",
       " 411594\n",
       " 321092\n",
       " 838279\n",
       " 302734\n",
       " 915274"
      ]
     },
     "execution_count": 10,
     "metadata": {},
     "output_type": "execute_result"
    }
   ],
   "source": [
    "sortperm(vec(inz), rev = true)[1:20]"
   ]
  },
  {
   "cell_type": "code",
   "execution_count": 11,
   "metadata": {},
   "outputs": [
    {
     "data": {
      "text/plain": [
       "\u001b[1m                            Histogram of Out-Degrees\u001b[22m\n",
       "\u001b[90m                    ┌                                        ┐\u001b[39m \n",
       "   \u001b[0m\u001b[90m[\u001b[0m   0.0\u001b[90m, \u001b[0m 500.0\u001b[90m)\u001b[0m\u001b[90m ┤\u001b[39m\u001b[32m▇▇▇▇▇▇▇▇▇▇▇▇▇▇▇▇▇▇▇▇▇▇▇▇▇▇▇▇▇▇▇▇\u001b[39m\u001b[0m 916114 \u001b[90m \u001b[39m \n",
       "   \u001b[0m\u001b[90m[\u001b[0m 500.0\u001b[90m, \u001b[0m1000.0\u001b[90m)\u001b[0m\u001b[90m ┤\u001b[39m\u001b[0m 180                                    \u001b[90m \u001b[39m \n",
       "   \u001b[0m\u001b[90m[\u001b[0m1000.0\u001b[90m, \u001b[0m1500.0\u001b[90m)\u001b[0m\u001b[90m ┤\u001b[39m\u001b[0m 32                                     \u001b[90m \u001b[39m \n",
       "   \u001b[0m\u001b[90m[\u001b[0m1500.0\u001b[90m, \u001b[0m2000.0\u001b[90m)\u001b[0m\u001b[90m ┤\u001b[39m\u001b[0m 20                                     \u001b[90m \u001b[39m \n",
       "   \u001b[0m\u001b[90m[\u001b[0m2000.0\u001b[90m, \u001b[0m2500.0\u001b[90m)\u001b[0m\u001b[90m ┤\u001b[39m\u001b[0m 16                                     \u001b[90m \u001b[39m \n",
       "   \u001b[0m\u001b[90m[\u001b[0m2500.0\u001b[90m, \u001b[0m3000.0\u001b[90m)\u001b[0m\u001b[90m ┤\u001b[39m\u001b[0m 20                                     \u001b[90m \u001b[39m \n",
       "   \u001b[0m\u001b[90m[\u001b[0m3000.0\u001b[90m, \u001b[0m3500.0\u001b[90m)\u001b[0m\u001b[90m ┤\u001b[39m\u001b[0m 18                                     \u001b[90m \u001b[39m \n",
       "   \u001b[0m\u001b[90m[\u001b[0m3500.0\u001b[90m, \u001b[0m4000.0\u001b[90m)\u001b[0m\u001b[90m ┤\u001b[39m\u001b[0m 10                                     \u001b[90m \u001b[39m \n",
       "   \u001b[0m\u001b[90m[\u001b[0m4000.0\u001b[90m, \u001b[0m4500.0\u001b[90m)\u001b[0m\u001b[90m ┤\u001b[39m\u001b[0m 9                                      \u001b[90m \u001b[39m \n",
       "   \u001b[0m\u001b[90m[\u001b[0m4500.0\u001b[90m, \u001b[0m5000.0\u001b[90m)\u001b[0m\u001b[90m ┤\u001b[39m\u001b[0m 4                                      \u001b[90m \u001b[39m \n",
       "   \u001b[0m\u001b[90m[\u001b[0m5000.0\u001b[90m, \u001b[0m5500.0\u001b[90m)\u001b[0m\u001b[90m ┤\u001b[39m\u001b[0m 4                                      \u001b[90m \u001b[39m \n",
       "   \u001b[0m\u001b[90m[\u001b[0m5500.0\u001b[90m, \u001b[0m6000.0\u001b[90m)\u001b[0m\u001b[90m ┤\u001b[39m\u001b[0m 0                                      \u001b[90m \u001b[39m \n",
       "   \u001b[0m\u001b[90m[\u001b[0m6000.0\u001b[90m, \u001b[0m6500.0\u001b[90m)\u001b[0m\u001b[90m ┤\u001b[39m\u001b[0m 1                                      \u001b[90m \u001b[39m \n",
       "\u001b[90m                    └                                        ┘\u001b[39m \n",
       "\u001b[0m                                    Frequency"
      ]
     },
     "execution_count": 11,
     "metadata": {},
     "output_type": "execute_result"
    }
   ],
   "source": [
    "histogram(outz, nbins = 25, closed = :left, title = \"Histogram of Out-Degrees\")"
   ]
  },
  {
   "cell_type": "markdown",
   "metadata": {},
   "source": [
    "* The top 20 pages with the largest number of out-degrees are:\n"
   ]
  },
  {
   "cell_type": "code",
   "execution_count": 12,
   "metadata": {},
   "outputs": [
    {
     "data": {
      "text/plain": [
       "20-element Array{Int64,1}:\n",
       " 506743\n",
       " 203749\n",
       " 305230\n",
       " 768092\n",
       " 808644\n",
       " 412411\n",
       " 600480\n",
       " 376429\n",
       " 156951\n",
       " 885729\n",
       " 667585\n",
       " 685696\n",
       " 282141\n",
       " 598189\n",
       " 579315\n",
       " 411594\n",
       " 321092\n",
       " 838279\n",
       " 302734\n",
       " 915274"
      ]
     },
     "execution_count": 12,
     "metadata": {},
     "output_type": "execute_result"
    }
   ],
   "source": [
    "sortperm(vec(inz), rev = true)[1:20]"
   ]
  },
  {
   "cell_type": "code",
   "execution_count": 13,
   "metadata": {},
   "outputs": [
    {
     "data": {
      "text/plain": [
       "\u001b[1m                Sparsity of a Submatrix of A\u001b[22m\n",
       "\u001b[90m         ┌──────────────────────────────────────────┐\u001b[39m    \n",
       "       \u001b[90m1\u001b[39m\u001b[90m │\u001b[39m\u001b[0m⠀\u001b[0m⠀\u001b[0m⠀\u001b[0m⠀\u001b[0m⠀\u001b[0m⠀\u001b[0m⠀\u001b[31m⠂\u001b[39m\u001b[0m⠀\u001b[0m⠀\u001b[0m⠀\u001b[0m⠀\u001b[31m⢀\u001b[39m\u001b[31m⢂\u001b[39m\u001b[31m⡂\u001b[39m\u001b[31m⠐\u001b[39m\u001b[0m⠀\u001b[0m⠀\u001b[0m⠀\u001b[31m⠠\u001b[39m\u001b[0m⠀\u001b[0m⠀\u001b[0m⠀\u001b[31m⠔\u001b[39m\u001b[31m⠄\u001b[39m\u001b[0m⠀\u001b[31m⠈\u001b[39m\u001b[31m⢀\u001b[39m\u001b[0m⠀\u001b[0m⠀\u001b[31m⠉\u001b[39m\u001b[0m⠀\u001b[0m⠀\u001b[31m⠁\u001b[39m\u001b[0m⠀\u001b[0m⠀\u001b[31m⠐\u001b[39m\u001b[0m⠀\u001b[31m⠄\u001b[39m\u001b[0m⠀\u001b[31m⠐\u001b[39m\u001b[0m⠀\u001b[90m│\u001b[39m \u001b[31m> 0\u001b[39m\n",
       "        \u001b[90m │\u001b[39m\u001b[0m⠀\u001b[0m⠀\u001b[0m⠀\u001b[0m⠀\u001b[0m⠀\u001b[31m⠂\u001b[39m\u001b[31m⡂\u001b[39m\u001b[0m⠀\u001b[31m⠄\u001b[39m\u001b[31m⠄\u001b[39m\u001b[31m⠈\u001b[39m\u001b[31m⠈\u001b[39m\u001b[31m⡔\u001b[39m\u001b[0m⠀\u001b[0m⠀\u001b[31m⠁\u001b[39m\u001b[31m⠂\u001b[39m\u001b[0m⠀\u001b[0m⠀\u001b[0m⠀\u001b[0m⠀\u001b[31m⠠\u001b[39m\u001b[31m⠁\u001b[39m\u001b[31m⠒\u001b[39m\u001b[31m⠁\u001b[39m\u001b[0m⠀\u001b[31m⠄\u001b[39m\u001b[0m⠀\u001b[31m⠐\u001b[39m\u001b[0m⠀\u001b[31m⠈\u001b[39m\u001b[0m⠀\u001b[0m⠀\u001b[31m⡐\u001b[39m\u001b[0m⠀\u001b[0m⠀\u001b[31m⠠\u001b[39m\u001b[0m⠀\u001b[31m⡀\u001b[39m\u001b[0m⠀\u001b[31m⠉\u001b[39m\u001b[0m⠀\u001b[90m│\u001b[39m \u001b[34m< 0\u001b[39m\n",
       "        \u001b[90m │\u001b[39m\u001b[0m⠀\u001b[31m⠐\u001b[39m\u001b[31m⠠\u001b[39m\u001b[0m⠀\u001b[0m⠀\u001b[31m⠁\u001b[39m\u001b[31m⢐\u001b[39m\u001b[31m⠄\u001b[39m\u001b[0m⠀\u001b[31m⠢\u001b[39m\u001b[31m⠠\u001b[39m\u001b[0m⠀\u001b[0m⠀\u001b[31m⡀\u001b[39m\u001b[31m⠈\u001b[39m\u001b[0m⠀\u001b[31m⠋\u001b[39m\u001b[0m⠀\u001b[0m⠀\u001b[0m⠀\u001b[0m⠀\u001b[0m⠀\u001b[31m⠂\u001b[39m\u001b[31m⡀\u001b[39m\u001b[0m⠀\u001b[31m⠈\u001b[39m\u001b[31m⠄\u001b[39m\u001b[0m⠀\u001b[31m⠄\u001b[39m\u001b[31m⠁\u001b[39m\u001b[31m⠈\u001b[39m\u001b[0m⠀\u001b[31m⠠\u001b[39m\u001b[0m⠀\u001b[31m⠰\u001b[39m\u001b[0m⠀\u001b[0m⠀\u001b[0m⠀\u001b[0m⠀\u001b[31m⢀\u001b[39m\u001b[31m⠆\u001b[39m\u001b[0m⠀\u001b[90m│\u001b[39m    \n",
       "        \u001b[90m │\u001b[39m\u001b[0m⠀\u001b[31m⠈\u001b[39m\u001b[31m⠠\u001b[39m\u001b[31m⠂\u001b[39m\u001b[0m⠀\u001b[31m⠈\u001b[39m\u001b[0m⠀\u001b[31m⡠\u001b[39m\u001b[31m⠐\u001b[39m\u001b[0m⠀\u001b[0m⠀\u001b[0m⠀\u001b[0m⠀\u001b[0m⠀\u001b[0m⠀\u001b[0m⠀\u001b[0m⠀\u001b[0m⠀\u001b[0m⠀\u001b[31m⡀\u001b[39m\u001b[31m⠈\u001b[39m\u001b[31m⠄\u001b[39m\u001b[31m⠁\u001b[39m\u001b[31m⢀\u001b[39m\u001b[31m⡀\u001b[39m\u001b[31m⠐\u001b[39m\u001b[31m⠄\u001b[39m\u001b[31m⠄\u001b[39m\u001b[0m⠀\u001b[0m⠀\u001b[31m⢀\u001b[39m\u001b[0m⠀\u001b[31m⠈\u001b[39m\u001b[31m⠂\u001b[39m\u001b[31m⢠\u001b[39m\u001b[0m⠀\u001b[31m⠢\u001b[39m\u001b[31m⠐\u001b[39m\u001b[0m⠀\u001b[0m⠀\u001b[0m⠀\u001b[31m⡀\u001b[39m\u001b[90m│\u001b[39m    \n",
       "        \u001b[90m │\u001b[39m\u001b[0m⠀\u001b[0m⠀\u001b[31m⠐\u001b[39m\u001b[31m⡁\u001b[39m\u001b[0m⠀\u001b[31m⡀\u001b[39m\u001b[0m⠀\u001b[0m⠀\u001b[31m⠠\u001b[39m\u001b[0m⠀\u001b[31m⠁\u001b[39m\u001b[0m⠀\u001b[0m⠀\u001b[0m⠀\u001b[31m⡄\u001b[39m\u001b[0m⠀\u001b[31m⠈\u001b[39m\u001b[31m⠁\u001b[39m\u001b[0m⠀\u001b[0m⠀\u001b[0m⠀\u001b[0m⠀\u001b[31m⠠\u001b[39m\u001b[31m⠂\u001b[39m\u001b[0m⠀\u001b[0m⠀\u001b[0m⠀\u001b[0m⠀\u001b[0m⠀\u001b[31m⠂\u001b[39m\u001b[31m⠪\u001b[39m\u001b[0m⠀\u001b[0m⠀\u001b[31m⠂\u001b[39m\u001b[0m⠀\u001b[0m⠀\u001b[0m⠀\u001b[31m⠄\u001b[39m\u001b[31m⢀\u001b[39m\u001b[0m⠀\u001b[31m⠁\u001b[39m\u001b[0m⠀\u001b[90m│\u001b[39m    \n",
       "        \u001b[90m │\u001b[39m\u001b[31m⠂\u001b[39m\u001b[31m⢀\u001b[39m\u001b[0m⠀\u001b[31m⠁\u001b[39m\u001b[0m⠀\u001b[0m⠀\u001b[31m⡀\u001b[39m\u001b[31m⡉\u001b[39m\u001b[0m⠀\u001b[0m⠀\u001b[31m⠠\u001b[39m\u001b[31m⠂\u001b[39m\u001b[31m⠐\u001b[39m\u001b[31m⢀\u001b[39m\u001b[31m⠄\u001b[39m\u001b[31m⠁\u001b[39m\u001b[31m⠐\u001b[39m\u001b[0m⠀\u001b[31m⠈\u001b[39m\u001b[0m⠀\u001b[0m⠀\u001b[0m⠀\u001b[0m⠀\u001b[0m⠀\u001b[31m⡀\u001b[39m\u001b[31m⠐\u001b[39m\u001b[31m⠁\u001b[39m\u001b[31m⡠\u001b[39m\u001b[0m⠀\u001b[31m⠂\u001b[39m\u001b[31m⠚\u001b[39m\u001b[0m⠀\u001b[31m⠁\u001b[39m\u001b[0m⠀\u001b[31m⠐\u001b[39m\u001b[31m⢀\u001b[39m\u001b[31m⠆\u001b[39m\u001b[0m⠀\u001b[31m⠈\u001b[39m\u001b[31m⠄\u001b[39m\u001b[31m⢀\u001b[39m\u001b[31m⠂\u001b[39m\u001b[90m│\u001b[39m    \n",
       "        \u001b[90m │\u001b[39m\u001b[0m⠀\u001b[0m⠀\u001b[0m⠀\u001b[31m⠁\u001b[39m\u001b[0m⠀\u001b[31m⡄\u001b[39m\u001b[0m⠀\u001b[0m⠀\u001b[0m⠀\u001b[0m⠀\u001b[31m⠒\u001b[39m\u001b[0m⠀\u001b[31m⢄\u001b[39m\u001b[31m⠄\u001b[39m\u001b[31m⢂\u001b[39m\u001b[0m⠀\u001b[31m⠂\u001b[39m\u001b[0m⠀\u001b[0m⠀\u001b[31m⠄\u001b[39m\u001b[0m⠀\u001b[31m⢀\u001b[39m\u001b[0m⠀\u001b[31m⠣\u001b[39m\u001b[0m⠀\u001b[31m⢀\u001b[39m\u001b[0m⠀\u001b[0m⠀\u001b[0m⠀\u001b[0m⠀\u001b[31m⠠\u001b[39m\u001b[31m⡀\u001b[39m\u001b[0m⠀\u001b[0m⠀\u001b[31m⢠\u001b[39m\u001b[31m⠄\u001b[39m\u001b[0m⠀\u001b[31m⡀\u001b[39m\u001b[0m⠀\u001b[31m⠂\u001b[39m\u001b[31m⠂\u001b[39m\u001b[0m⠀\u001b[90m│\u001b[39m    \n",
       "        \u001b[90m │\u001b[39m\u001b[31m⢀\u001b[39m\u001b[31m⠈\u001b[39m\u001b[0m⠀\u001b[0m⠀\u001b[31m⠂\u001b[39m\u001b[0m⠀\u001b[0m⠀\u001b[31m⠁\u001b[39m\u001b[31m⢠\u001b[39m\u001b[31m⠈\u001b[39m\u001b[31m⠄\u001b[39m\u001b[31m⠁\u001b[39m\u001b[0m⠀\u001b[0m⠀\u001b[31m⡈\u001b[39m\u001b[31m⠈\u001b[39m\u001b[31m⠠\u001b[39m\u001b[0m⠀\u001b[31m⢀\u001b[39m\u001b[31m⡦\u001b[39m\u001b[0m⠀\u001b[0m⠀\u001b[31m⠅\u001b[39m\u001b[31m⠐\u001b[39m\u001b[0m⠀\u001b[31m⠨\u001b[39m\u001b[31m⠁\u001b[39m\u001b[31m⠨\u001b[39m\u001b[0m⠀\u001b[31m⠄\u001b[39m\u001b[31m⠠\u001b[39m\u001b[31m⢀\u001b[39m\u001b[0m⠀\u001b[31m⠐\u001b[39m\u001b[31m⢐\u001b[39m\u001b[0m⠀\u001b[0m⠀\u001b[31m⠉\u001b[39m\u001b[0m⠀\u001b[0m⠀\u001b[31m⠠\u001b[39m\u001b[31m⠉\u001b[39m\u001b[90m│\u001b[39m    \n",
       "        \u001b[90m │\u001b[39m\u001b[0m⠀\u001b[0m⠀\u001b[31m⠨\u001b[39m\u001b[0m⠀\u001b[31m⠋\u001b[39m\u001b[0m⠀\u001b[31m⠄\u001b[39m\u001b[0m⠀\u001b[31m⠂\u001b[39m\u001b[0m⠀\u001b[31m⠈\u001b[39m\u001b[0m⠀\u001b[0m⠀\u001b[0m⠀\u001b[31m⠈\u001b[39m\u001b[0m⠀\u001b[0m⠀\u001b[0m⠀\u001b[0m⠀\u001b[31m⡑\u001b[39m\u001b[0m⠀\u001b[31m⢀\u001b[39m\u001b[31m⠈\u001b[39m\u001b[31m⠈\u001b[39m\u001b[0m⠀\u001b[0m⠀\u001b[0m⠀\u001b[31m⠈\u001b[39m\u001b[0m⠀\u001b[31m⠂\u001b[39m\u001b[31m⠐\u001b[39m\u001b[31m⠼\u001b[39m\u001b[0m⠀\u001b[31m⠠\u001b[39m\u001b[0m⠀\u001b[0m⠀\u001b[31m⡈\u001b[39m\u001b[31m⠁\u001b[39m\u001b[0m⠀\u001b[0m⠀\u001b[31m⠡\u001b[39m\u001b[31m⠄\u001b[39m\u001b[90m│\u001b[39m    \n",
       "        \u001b[90m │\u001b[39m\u001b[31m⠠\u001b[39m\u001b[31m⡁\u001b[39m\u001b[0m⠀\u001b[0m⠀\u001b[0m⠀\u001b[0m⠀\u001b[0m⠀\u001b[0m⠀\u001b[0m⠀\u001b[0m⠀\u001b[31m⠂\u001b[39m\u001b[31m⢀\u001b[39m\u001b[0m⠀\u001b[0m⠀\u001b[0m⠀\u001b[31m⡄\u001b[39m\u001b[0m⠀\u001b[0m⠀\u001b[0m⠀\u001b[31m⠤\u001b[39m\u001b[0m⠀\u001b[0m⠀\u001b[31m⠁\u001b[39m\u001b[0m⠀\u001b[31m⡂\u001b[39m\u001b[0m⠀\u001b[0m⠀\u001b[0m⠀\u001b[31m⠄\u001b[39m\u001b[0m⠀\u001b[31m⢈\u001b[39m\u001b[0m⠀\u001b[31m⢔\u001b[39m\u001b[31m⡊\u001b[39m\u001b[31m⣨\u001b[39m\u001b[31m⠈\u001b[39m\u001b[31m⠂\u001b[39m\u001b[0m⠀\u001b[31m⠄\u001b[39m\u001b[31m⢀\u001b[39m\u001b[0m⠀\u001b[0m⠀\u001b[90m│\u001b[39m    \n",
       "        \u001b[90m │\u001b[39m\u001b[0m⠀\u001b[31m⠂\u001b[39m\u001b[0m⠀\u001b[31m⠈\u001b[39m\u001b[0m⠀\u001b[0m⠀\u001b[0m⠀\u001b[0m⠀\u001b[0m⠀\u001b[0m⠀\u001b[31m⠈\u001b[39m\u001b[0m⠀\u001b[31m⡀\u001b[39m\u001b[0m⠀\u001b[31m⠂\u001b[39m\u001b[31m⠠\u001b[39m\u001b[31m⠐\u001b[39m\u001b[0m⠀\u001b[31m⠄\u001b[39m\u001b[0m⠀\u001b[0m⠀\u001b[0m⠀\u001b[0m⠀\u001b[0m⠀\u001b[0m⠀\u001b[31m⠤\u001b[39m\u001b[0m⠀\u001b[0m⠀\u001b[0m⠀\u001b[31m⠠\u001b[39m\u001b[31m⠘\u001b[39m\u001b[31m⠐\u001b[39m\u001b[0m⠀\u001b[31m⠄\u001b[39m\u001b[31m⢘\u001b[39m\u001b[0m⠀\u001b[0m⠀\u001b[31m⢐\u001b[39m\u001b[31m⠄\u001b[39m\u001b[0m⠀\u001b[31m⠁\u001b[39m\u001b[0m⠀\u001b[90m│\u001b[39m    \n",
       "        \u001b[90m │\u001b[39m\u001b[31m⢀\u001b[39m\u001b[31m⠄\u001b[39m\u001b[31m⢠\u001b[39m\u001b[31m⠄\u001b[39m\u001b[31m⡊\u001b[39m\u001b[31m⠂\u001b[39m\u001b[31m⠢\u001b[39m\u001b[31m⢀\u001b[39m\u001b[0m⠀\u001b[0m⠀\u001b[0m⠀\u001b[0m⠀\u001b[31m⠄\u001b[39m\u001b[31m⡀\u001b[39m\u001b[31m⡑\u001b[39m\u001b[0m⠀\u001b[31m⡐\u001b[39m\u001b[0m⠀\u001b[31m⠁\u001b[39m\u001b[31m⡂\u001b[39m\u001b[0m⠀\u001b[0m⠀\u001b[0m⠀\u001b[31m⠰\u001b[39m\u001b[31m⠂\u001b[39m\u001b[31m⢠\u001b[39m\u001b[31m⠄\u001b[39m\u001b[31m⠈\u001b[39m\u001b[0m⠀\u001b[31m⠈\u001b[39m\u001b[31m⠐\u001b[39m\u001b[0m⠀\u001b[0m⠀\u001b[0m⠀\u001b[31m⠉\u001b[39m\u001b[0m⠀\u001b[0m⠀\u001b[31m⡀\u001b[39m\u001b[0m⠀\u001b[0m⠀\u001b[31m⠃\u001b[39m\u001b[0m⠀\u001b[90m│\u001b[39m    \n",
       "        \u001b[90m │\u001b[39m\u001b[0m⠀\u001b[0m⠀\u001b[31m⠅\u001b[39m\u001b[0m⠀\u001b[31m⡁\u001b[39m\u001b[0m⠀\u001b[0m⠀\u001b[0m⠀\u001b[0m⠀\u001b[0m⠀\u001b[31m⢁\u001b[39m\u001b[31m⢀\u001b[39m\u001b[0m⠀\u001b[31m⡀\u001b[39m\u001b[31m⡀\u001b[39m\u001b[31m⡐\u001b[39m\u001b[0m⠀\u001b[0m⠀\u001b[31m⠈\u001b[39m\u001b[31m⠈\u001b[39m\u001b[31m⠔\u001b[39m\u001b[31m⠄\u001b[39m\u001b[0m⠀\u001b[0m⠀\u001b[31m⢀\u001b[39m\u001b[0m⠀\u001b[0m⠀\u001b[0m⠀\u001b[0m⠀\u001b[0m⠀\u001b[0m⠀\u001b[0m⠀\u001b[0m⠀\u001b[31m⠄\u001b[39m\u001b[31m⢉\u001b[39m\u001b[31m⠠\u001b[39m\u001b[31m⠁\u001b[39m\u001b[0m⠀\u001b[31m⠁\u001b[39m\u001b[0m⠀\u001b[0m⠀\u001b[0m⠀\u001b[90m│\u001b[39m    \n",
       "        \u001b[90m │\u001b[39m\u001b[31m⠊\u001b[39m\u001b[31m⢈\u001b[39m\u001b[0m⠀\u001b[31m⠁\u001b[39m\u001b[0m⠀\u001b[0m⠀\u001b[0m⠀\u001b[31m⠅\u001b[39m\u001b[0m⠀\u001b[31m⠂\u001b[39m\u001b[0m⠀\u001b[31m⡀\u001b[39m\u001b[0m⠀\u001b[0m⠀\u001b[0m⠀\u001b[0m⠀\u001b[31m⡀\u001b[39m\u001b[0m⠀\u001b[0m⠀\u001b[31m⠐\u001b[39m\u001b[31m⠄\u001b[39m\u001b[31m⠁\u001b[39m\u001b[31m⠠\u001b[39m\u001b[0m⠀\u001b[31m⠐\u001b[39m\u001b[31m⠈\u001b[39m\u001b[0m⠀\u001b[0m⠀\u001b[0m⠀\u001b[31m⡀\u001b[39m\u001b[31m⢠\u001b[39m\u001b[0m⠀\u001b[0m⠀\u001b[0m⠀\u001b[31m⢰\u001b[39m\u001b[0m⠀\u001b[0m⠀\u001b[0m⠀\u001b[31m⢀\u001b[39m\u001b[0m⠀\u001b[31m⠠\u001b[39m\u001b[31m⠂\u001b[39m\u001b[90m│\u001b[39m    \n",
       "        \u001b[90m │\u001b[39m\u001b[31m⠈\u001b[39m\u001b[0m⠀\u001b[0m⠀\u001b[31m⠈\u001b[39m\u001b[31m⠄\u001b[39m\u001b[0m⠀\u001b[0m⠀\u001b[31m⠄\u001b[39m\u001b[31m⠐\u001b[39m\u001b[0m⠀\u001b[31m⠠\u001b[39m\u001b[31m⠁\u001b[39m\u001b[31m⠁\u001b[39m\u001b[0m⠀\u001b[31m⡂\u001b[39m\u001b[0m⠀\u001b[31m⠠\u001b[39m\u001b[31m⠄\u001b[39m\u001b[31m⠌\u001b[39m\u001b[31m⠅\u001b[39m\u001b[31m⣀\u001b[39m\u001b[0m⠀\u001b[0m⠀\u001b[31m⢀\u001b[39m\u001b[0m⠀\u001b[31m⠠\u001b[39m\u001b[0m⠀\u001b[31m⠠\u001b[39m\u001b[31m⠠\u001b[39m\u001b[0m⠀\u001b[31m⠲\u001b[39m\u001b[31m⢂\u001b[39m\u001b[0m⠀\u001b[31m⠰\u001b[39m\u001b[31m⡄\u001b[39m\u001b[0m⠀\u001b[31m⢀\u001b[39m\u001b[31m⠬\u001b[39m\u001b[31m⠈\u001b[39m\u001b[0m⠀\u001b[0m⠀\u001b[0m⠀\u001b[90m│\u001b[39m    \n",
       "        \u001b[90m │\u001b[39m\u001b[31m⠈\u001b[39m\u001b[0m⠀\u001b[0m⠀\u001b[31m⠄\u001b[39m\u001b[0m⠀\u001b[0m⠀\u001b[31m⡀\u001b[39m\u001b[31m⠈\u001b[39m\u001b[0m⠀\u001b[0m⠀\u001b[31m⠙\u001b[39m\u001b[0m⠀\u001b[0m⠀\u001b[0m⠀\u001b[31m⢀\u001b[39m\u001b[31m⢀\u001b[39m\u001b[31m⠂\u001b[39m\u001b[0m⠀\u001b[0m⠀\u001b[31m⡄\u001b[39m\u001b[31m⢀\u001b[39m\u001b[0m⠀\u001b[31m⠠\u001b[39m\u001b[0m⠀\u001b[31m⠂\u001b[39m\u001b[0m⠀\u001b[0m⠀\u001b[31m⠐\u001b[39m\u001b[0m⠀\u001b[0m⠀\u001b[31m⠸\u001b[39m\u001b[0m⠀\u001b[0m⠀\u001b[0m⠀\u001b[31m⠈\u001b[39m\u001b[31m⠠\u001b[39m\u001b[0m⠀\u001b[31m⠠\u001b[39m\u001b[31m⠁\u001b[39m\u001b[0m⠀\u001b[31m⠂\u001b[39m\u001b[0m⠀\u001b[90m│\u001b[39m    \n",
       "        \u001b[90m │\u001b[39m\u001b[31m⠄\u001b[39m\u001b[0m⠀\u001b[0m⠀\u001b[0m⠀\u001b[31m⠄\u001b[39m\u001b[31m⠂\u001b[39m\u001b[31m⠂\u001b[39m\u001b[0m⠀\u001b[0m⠀\u001b[0m⠀\u001b[31m⠡\u001b[39m\u001b[31m⠁\u001b[39m\u001b[0m⠀\u001b[31m⢉\u001b[39m\u001b[31m⠄\u001b[39m\u001b[0m⠀\u001b[0m⠀\u001b[0m⠀\u001b[31m⡐\u001b[39m\u001b[31m⠑\u001b[39m\u001b[31m⠂\u001b[39m\u001b[31m⠄\u001b[39m\u001b[31m⠂\u001b[39m\u001b[0m⠀\u001b[0m⠀\u001b[0m⠀\u001b[31m⢀\u001b[39m\u001b[0m⠀\u001b[31m⢀\u001b[39m\u001b[0m⠀\u001b[0m⠀\u001b[0m⠀\u001b[0m⠀\u001b[31m⠉\u001b[39m\u001b[31m⠠\u001b[39m\u001b[31m⠈\u001b[39m\u001b[0m⠀\u001b[31m⠁\u001b[39m\u001b[0m⠀\u001b[0m⠀\u001b[31m⡀\u001b[39m\u001b[31m⠄\u001b[39m\u001b[90m│\u001b[39m    \n",
       "        \u001b[90m │\u001b[39m\u001b[0m⠀\u001b[0m⠀\u001b[0m⠀\u001b[0m⠀\u001b[0m⠀\u001b[0m⠀\u001b[0m⠀\u001b[0m⠀\u001b[0m⠀\u001b[0m⠀\u001b[0m⠀\u001b[31m⠠\u001b[39m\u001b[31m⠂\u001b[39m\u001b[0m⠀\u001b[0m⠀\u001b[31m⠄\u001b[39m\u001b[0m⠀\u001b[0m⠀\u001b[0m⠀\u001b[0m⠀\u001b[31m⠐\u001b[39m\u001b[31m⡀\u001b[39m\u001b[0m⠀\u001b[0m⠀\u001b[31m⠁\u001b[39m\u001b[0m⠀\u001b[31m⠐\u001b[39m\u001b[0m⠀\u001b[0m⠀\u001b[0m⠀\u001b[31m⢰\u001b[39m\u001b[31m⡄\u001b[39m\u001b[31m⠁\u001b[39m\u001b[0m⠀\u001b[0m⠀\u001b[31m⠉\u001b[39m\u001b[31m⠠\u001b[39m\u001b[0m⠀\u001b[31m⠠\u001b[39m\u001b[0m⠀\u001b[31m⡀\u001b[39m\u001b[0m⠀\u001b[90m│\u001b[39m    \n",
       "        \u001b[90m │\u001b[39m\u001b[31m⡁\u001b[39m\u001b[31m⠄\u001b[39m\u001b[31m⢀\u001b[39m\u001b[31m⠂\u001b[39m\u001b[0m⠀\u001b[31m⠁\u001b[39m\u001b[31m⡈\u001b[39m\u001b[31m⠆\u001b[39m\u001b[0m⠀\u001b[31m⠄\u001b[39m\u001b[31m⠁\u001b[39m\u001b[31m⠁\u001b[39m\u001b[0m⠀\u001b[31m⠂\u001b[39m\u001b[31m⠁\u001b[39m\u001b[0m⠀\u001b[31m⠂\u001b[39m\u001b[31m⢀\u001b[39m\u001b[0m⠀\u001b[0m⠀\u001b[0m⠀\u001b[0m⠀\u001b[0m⠀\u001b[0m⠀\u001b[31m⠁\u001b[39m\u001b[0m⠀\u001b[0m⠀\u001b[31m⡀\u001b[39m\u001b[0m⠀\u001b[31m⠐\u001b[39m\u001b[0m⠀\u001b[0m⠀\u001b[0m⠀\u001b[0m⠀\u001b[0m⠀\u001b[0m⠀\u001b[0m⠀\u001b[31m⢀\u001b[39m\u001b[31m⠄\u001b[39m\u001b[31m⠤\u001b[39m\u001b[31m⠁\u001b[39m\u001b[31m⠠\u001b[39m\u001b[90m│\u001b[39m    \n",
       "        \u001b[90m │\u001b[39m\u001b[0m⠀\u001b[31m⠅\u001b[39m\u001b[31m⠄\u001b[39m\u001b[31m⠈\u001b[39m\u001b[0m⠀\u001b[31m⢀\u001b[39m\u001b[31m⠂\u001b[39m\u001b[31m⠁\u001b[39m\u001b[31m⠐\u001b[39m\u001b[0m⠀\u001b[31m⡠\u001b[39m\u001b[31m⠄\u001b[39m\u001b[0m⠀\u001b[31m⠄\u001b[39m\u001b[31m⠐\u001b[39m\u001b[0m⠀\u001b[0m⠀\u001b[0m⠀\u001b[0m⠀\u001b[31m⡀\u001b[39m\u001b[0m⠀\u001b[31m⠁\u001b[39m\u001b[31m⡢\u001b[39m\u001b[0m⠀\u001b[31m⠙\u001b[39m\u001b[0m⠀\u001b[31m⠇\u001b[39m\u001b[0m⠀\u001b[31m⢂\u001b[39m\u001b[0m⠀\u001b[31m⣠\u001b[39m\u001b[0m⠀\u001b[31m⠂\u001b[39m\u001b[0m⠀\u001b[0m⠀\u001b[31m⠂\u001b[39m\u001b[0m⠀\u001b[31m⠥\u001b[39m\u001b[31m⠄\u001b[39m\u001b[31m⢁\u001b[39m\u001b[31m⡀\u001b[39m\u001b[31m⡀\u001b[39m\u001b[90m│\u001b[39m    \n",
       "   \u001b[90m10000\u001b[39m\u001b[90m │\u001b[39m\u001b[31m⠘\u001b[39m\u001b[0m⠀\u001b[0m⠀\u001b[0m⠀\u001b[31m⠈\u001b[39m\u001b[31m⠃\u001b[39m\u001b[31m⡁\u001b[39m\u001b[31m⠨\u001b[39m\u001b[31m⠁\u001b[39m\u001b[31m⠐\u001b[39m\u001b[0m⠀\u001b[0m⠀\u001b[31m⠈\u001b[39m\u001b[31m⠁\u001b[39m\u001b[31m⠄\u001b[39m\u001b[0m⠀\u001b[31m⠁\u001b[39m\u001b[0m⠀\u001b[0m⠀\u001b[31m⠂\u001b[39m\u001b[31m⠁\u001b[39m\u001b[31m⢈\u001b[39m\u001b[31m⠁\u001b[39m\u001b[0m⠀\u001b[0m⠀\u001b[31m⡁\u001b[39m\u001b[0m⠀\u001b[0m⠀\u001b[0m⠀\u001b[31m⢀\u001b[39m\u001b[31m⢰\u001b[39m\u001b[0m⠀\u001b[0m⠀\u001b[31m⠈\u001b[39m\u001b[0m⠀\u001b[31m⠈\u001b[39m\u001b[0m⠀\u001b[0m⠀\u001b[0m⠀\u001b[0m⠀\u001b[31m⡂\u001b[39m\u001b[0m⠀\u001b[90m│\u001b[39m    \n",
       "\u001b[90m         └──────────────────────────────────────────┘\u001b[39m    \n",
       "\u001b[90m         1\u001b[39m\u001b[90m                    \u001b[39m\u001b[90m                  10000\u001b[39m\n",
       "\u001b[0m                          nz = 600"
      ]
     },
     "execution_count": 13,
     "metadata": {},
     "output_type": "execute_result"
    }
   ],
   "source": [
    "A1 = A[1:10000, 1:10000]\n",
    "spy(A1, title = \"Sparsity of a Submatrix of A\")"
   ]
  },
  {
   "cell_type": "markdown",
   "metadata": {},
   "source": [
    "## Question 4: Dense Linear Algebra\n",
    "\n",
    "Consider the following methods to obtain the page ranks of the `SNAP/web-Google` data. \n",
    "\n",
    "1. A dense linear system solver such as LU decomposition.\n",
    "2. A dense eigen-solver for asymmetric matrix.\n",
    "\n",
    "For the LU approach, estimate (1) the memory usage and (2) how long it will take assuming that the LAPACK functions can achieve the theoretical throughput of your computer.\n",
    "\n",
    "The GE/LU approach will take\n",
    "$$2 \\times (109)^3/3/10^{12}≈6.66 \\text{ TB}$$\n",
    "\n",
    "While the amount of time it would take is\n",
    "\n",
    "$$6.66×10^{14} \\text{seconds} ≈20  \\text{ million years}$$"
   ]
  },
  {
   "cell_type": "markdown",
   "metadata": {},
   "source": [
    "## Question 5: Iterative Solvers\n",
    "\n",
    "Set the _teleportation_ parameter at $p = 0.85$. Consider the following methods for solving the PageRank problem. \n",
    "\n",
    "1. An iterative linear system solver such as GMRES.\n",
    "2. An iterative eigen-solver such as Arnoldi method.\n",
    "\n",
    "For iterative methods, we have many choices in Julia. See a list of existing Julia packages for linear solvers at this [page](https://jutho.github.io/KrylovKit.jl/stable/#Package-features-and-alternatives-1). The start-up code below uses the [KrylovKit.jl](https://github.com/Jutho/KrylovKit.jl) package. You can use other packages if you prefer. Make sure to utilize the special structure of $\\mathbf{P}$ (sparse + rank 1) to speed up the matrix-vector multiplication.\n"
   ]
  },
  {
   "cell_type": "markdown",
   "metadata": {},
   "source": [
    "### Step 1\n",
    "\n",
    "Let's implement a type `PageRankImPt` that mimics the matrix $\\mathbf{M} = \\mathbf{I} - \\mathbf{P}^T$. For iterative methods, all we need to provide is methods for evaluating $\\mathbf{M} \\mathbf{v}$ and $\\mathbf{M}^T \\mathbf{v}$ for arbitrary vector $\\mathbf{v}$."
   ]
  },
  {
   "cell_type": "code",
   "execution_count": 14,
   "metadata": {},
   "outputs": [],
   "source": [
    "using BenchmarkTools, LinearAlgebra, SparseArrays, Revise\n",
    "\n",
    "# a type for the matrix M = I - P^T in PageRank problem\n",
    "struct PageRankImPt{TA <: Number, IA <: Integer, T <: AbstractFloat} <: AbstractMatrix{T}\n",
    "    A         :: SparseMatrixCSC{TA, IA} # adjacency matrix\n",
    "    telep     :: T\n",
    "    z         :: Vector{T}\n",
    "    d         :: Vector{T} \n",
    "    storage1  :: Vector{T}\n",
    "    storage2  :: Vector{T}\n",
    "end\n",
    "\n",
    "# constructor\n",
    "function PageRankImPt(A::SparseMatrixCSC, telep::T) where T <: AbstractFloat\n",
    "    n = size(A, 1);\n",
    "    onez = ones(n)\n",
    "    r = A * onez\n",
    "    z = zeros(n)\n",
    "    d = similar(z)\n",
    "    for i in 1:n\n",
    "        if r[i] == 0\n",
    "            d[i], z[i] = 0, 1 / n\n",
    "        else\n",
    "            d[i], z[i] = telep / r[i], (1 - telep) / n\n",
    "        end\n",
    "    end\n",
    "    storage1 = similar(z)\n",
    "    storage2 = similar(z)\n",
    "    PageRankImPt(A, telep, z, d, storage1, storage2)\n",
    "end\n",
    "\n",
    "LinearAlgebra.issymmetric(::PageRankImPt) = false\n",
    "Base.size(M::PageRankImPt) = size(M.A)\n",
    "\n",
    "function Base.getindex(M::PageRankImPt, i, j) \n",
    "    if i == j\n",
    "        outsc = 1 - M.A[j, i] * M.d[i] - M.z[i]\n",
    "    else \n",
    "        outsc = - M.A[j, i] * M.d[i] - M.z[j]\n",
    "    end\n",
    "    return outsc\n",
    "end \n",
    "\n",
    "# overwrite `out` by `(I - Pt) * v`\n",
    "function LinearAlgebra.mul!(\n",
    "        out :: Vector{T}, \n",
    "        M   :: PageRankImPt{<:Number, <:Integer, T}, \n",
    "        v   :: Vector{T}) where T <: AbstractFloat\n",
    "    M.storage1 .= M.d .* v\n",
    "    ztv = dot(M.z, v)\n",
    "    mul!(M.storage2, transpose(M.A), M.storage1)\n",
    "    out .= v .- M.storage2 .- ztv \n",
    "    sleep(1e-2) \n",
    "    return out\n",
    "end\n",
    "\n",
    "function LinearAlgebra.mul!(\n",
    "        out :: Vector{T}, \n",
    "        Mt  :: Transpose{T, PageRankImPt{TA, IA, T}}, \n",
    "        v   :: Vector{T}) where {TA<:Number, IA<:Integer, T <: AbstractFloat}\n",
    "    M = Mt.parent\n",
    "    mul!(M.storage1, M.A, v)\n",
    "    M.storage1 .*= M.d\n",
    "    onetv = sum(v)\n",
    "    M.storage2 .= M.z .* onetv\n",
    "    out .= v .- M.storage1 .- M.storage2\n",
    "    return out\n",
    "end"
   ]
  },
  {
   "cell_type": "code",
   "execution_count": 15,
   "metadata": {},
   "outputs": [
    {
     "data": {
      "text/plain": [
       "916428-element Array{Float64,1}:\n",
       " 3.3783428216975054e-5\n",
       " 2.0710155392568165e-6\n",
       " 3.663065984832893e-6 \n",
       " 7.527510785028837e-7 \n",
       " 8.63328599674051e-7  \n",
       " 1.769418252415541e-6 \n",
       " 2.431230382883396e-7 \n",
       " 6.368417180141445e-7 \n",
       " 4.744973703681939e-7 \n",
       " 2.6895486110647536e-7\n",
       " 3.18574314847409e-6  \n",
       " 7.375106374416742e-7 \n",
       " 2.431230382883396e-7 \n",
       " ⋮                    \n",
       " 1.1305006040148547e-6\n",
       " 4.874825281822915e-6 \n",
       " 3.167946973112519e-6 \n",
       " 9.72688040308568e-7  \n",
       " 6.588614479285245e-7 \n",
       " 7.737011774300648e-7 \n",
       " 2.431230382883396e-7 \n",
       " 1.6219204214797293e-6\n",
       " 3.912130060551738e-7 \n",
       " 2.431230382883396e-7 \n",
       " 7.296033831163157e-6 \n",
       " 6.330939996912478e-7 "
      ]
     },
     "execution_count": 15,
     "metadata": {},
     "output_type": "execute_result"
    }
   ],
   "source": [
    "using DelimitedFiles\n",
    "\n",
    "isfile(\"pgrksol.csv\") || download(\"https://raw.githubusercontent.com/ucla-biostat-257-2020spring/ucla-biostat-257-2020spring.github.io/master/hw/hw3/pgrksol.csv\", \"./pgrksol.csv\")\n",
    "xsol = vec(readdlm(\"./pgrksol.csv\"))"
   ]
  },
  {
   "cell_type": "markdown",
   "metadata": {},
   "source": [
    "### Step 2\n",
    "We want to benchmark the hot functions `mul!` to make sure they are efficient and allocate litte memory."
   ]
  },
  {
   "cell_type": "code",
   "execution_count": 16,
   "metadata": {},
   "outputs": [],
   "source": [
    "M = PageRankImPt(A, 0.85)\n",
    "n = size(M, 1)\n",
    "\n",
    "@assert norm(M * xsol) < 1e-12"
   ]
  },
  {
   "cell_type": "code",
   "execution_count": 17,
   "metadata": {},
   "outputs": [
    {
     "data": {
      "text/plain": [
       "BenchmarkTools.Trial: \n",
       "  memory estimate:  176 bytes\n",
       "  allocs estimate:  8\n",
       "  --------------\n",
       "  minimum time:     36.081 ms (0.00% GC)\n",
       "  median time:      41.280 ms (0.00% GC)\n",
       "  mean time:        42.810 ms (0.00% GC)\n",
       "  maximum time:     62.295 ms (0.00% GC)\n",
       "  --------------\n",
       "  samples:          113\n",
       "  evals/sample:     1"
      ]
     },
     "execution_count": 17,
     "metadata": {},
     "output_type": "execute_result"
    }
   ],
   "source": [
    "M = PageRankImPt(A, 0.85)\n",
    "n = size(M, 1)\n",
    "v, out = ones(n), zeros(n)\n",
    "bm_mv = @benchmark mul!($out, $M, $v) setup=(fill!(out, 0); fill!(v, 1))"
   ]
  },
  {
   "cell_type": "code",
   "execution_count": 23,
   "metadata": {},
   "outputs": [
    {
     "data": {
      "text/plain": [
       "BenchmarkTools.Trial: \n",
       "  memory estimate:  0 bytes\n",
       "  allocs estimate:  0\n",
       "  --------------\n",
       "  minimum time:     23.350 ms (0.00% GC)\n",
       "  median time:      24.059 ms (0.00% GC)\n",
       "  mean time:        25.625 ms (0.00% GC)\n",
       "  maximum time:     35.302 ms (0.00% GC)\n",
       "  --------------\n",
       "  samples:          188\n",
       "  evals/sample:     1"
      ]
     },
     "execution_count": 23,
     "metadata": {},
     "output_type": "execute_result"
    }
   ],
   "source": [
    "bm_mtv = @benchmark mul!($out, $(transpose(M)), $v) setup=(fill!(out, 0); fill!(v, 1))"
   ]
  },
  {
   "cell_type": "code",
   "execution_count": 24,
   "metadata": {},
   "outputs": [
    {
     "data": {
      "text/plain": [
       "18.240000000000002"
      ]
     },
     "execution_count": 24,
     "metadata": {},
     "output_type": "execute_result"
    }
   ],
   "source": [
    "clamp(10 - median(bm_mv).memory / 100, 0, 10) + \n",
    "clamp(10 - median(bm_mtv).memory / 100, 0, 10)"
   ]
  },
  {
   "cell_type": "markdown",
   "metadata": {},
   "source": [
    "### Step 3\n",
    "Let's first try to solve the PageRank problem by the GMRES method for solving linear equations."
   ]
  },
  {
   "cell_type": "code",
   "execution_count": 25,
   "metadata": {},
   "outputs": [
    {
     "name": "stderr",
     "output_type": "stream",
     "text": [
      "┌ Info: Precompiling KrylovKit [0b1a1467-8014-51b9-945f-bf0ae24f4b77]\n",
      "└ @ Base loading.jl:1273\n"
     ]
    },
    {
     "data": {
      "text/plain": [
       "(([3.378342822183505e-5, 2.071015539245162e-6, 3.6630659852312598e-6, 7.527510785590288e-7, 8.63328599714724e-7, 1.7694182527349206e-6, 2.431230382908046e-7, 6.368417180736851e-7, 4.744973703742025e-7, 2.689548611092026e-7  …  3.1679469739726664e-6, 9.72688041021564e-7, 6.58861447853162e-7, 7.73701177470204e-7, 2.431230382908046e-7, 1.621920421422003e-6, 3.9121300606249734e-7, 2.431230382908046e-7, 7.296033831312915e-6, 6.3309399966679e-7], ConvergenceInfo: one converged value after 3 iterations and 72 applications of the linear map;\n",
       "norms of residuals are given by (7.821170948423244e-13,).\n",
       "), 6.717231701, 1010818508, 0.194015701, Base.GC_Diff(1010818508, 137, 0, 122905, 6, 0, 194015701, 4, 1))"
      ]
     },
     "execution_count": 25,
     "metadata": {},
     "output_type": "execute_result"
    }
   ],
   "source": [
    "using KrylovKit\n",
    "\n",
    "# normalize in-degrees to be the start point\n",
    "x0   = vec(sum(A, dims = 1)) .+ 1.0\n",
    "x0 ./= sum(x0)\n",
    "\n",
    "# right hand side\n",
    "b = zeros(n)\n",
    "\n",
    "# warm up (compilation)\n",
    "linsolve(M, b, x0, issymmetric = false, isposdef = false, maxiter = 1) \n",
    "# output is complex eigenvalue/eigenvector\n",
    "(x_gmres, info), time_gmres, = @timed linsolve(M, b, x0, issymmetric = false, isposdef = false)"
   ]
  },
  {
   "cell_type": "code",
   "execution_count": 26,
   "metadata": {},
   "outputs": [],
   "source": [
    "@assert norm(x_gmres - xsol) < 1e-8"
   ]
  },
  {
   "cell_type": "code",
   "execution_count": 27,
   "metadata": {},
   "outputs": [
    {
     "data": {
      "text/plain": [
       "20.0"
      ]
     },
     "execution_count": 27,
     "metadata": {},
     "output_type": "execute_result"
    }
   ],
   "source": [
    "clamp(20 / time_gmres * 20, 0, 20)"
   ]
  },
  {
   "cell_type": "markdown",
   "metadata": {},
   "source": [
    "### Step 4\n",
    "\n",
    "Let's first try to solve the PageRank problem by the Arnoldi method for solving eigen problems."
   ]
  },
  {
   "cell_type": "code",
   "execution_count": 28,
   "metadata": {},
   "outputs": [
    {
     "data": {
      "text/plain": [
       "((Complex{Float64}[-3.2947842204118646e-15 + 0.0im], Array{Complex{Float64},1}[[0.0056358269538073266 + 0.0im, 0.0003454914380782897 + 0.0im, 0.0006110808494125174 + 0.0im, 0.0001255756162603513 + 0.0im, 0.00014402240532803212 + 0.0im, 0.0002951783050398468 + 0.0im, 4.055832828677845e-5 + 0.0im, 0.00010623935784852037 + 0.0im, 7.915671116195254e-5 + 0.0im, 4.486765066724868e-5 + 0.0im  …  0.0005284839899797031 + 0.0im, 0.00016226599147988754 + 0.0im, 0.00010991273837609705 + 0.0im, 0.00012907055855751606 + 0.0im, 4.0558328286778445e-5 + 0.0im, 0.00027057238743204045 + 0.0im, 6.52630274833334e-5 + 0.0im, 4.0558328286778445e-5 + 0.0im, 0.0012171406601328041 + 0.0im, 0.00010561415510699052 + 0.0im]], ConvergenceInfo: one converged value after 7 iterations and 99 applications of the linear map;\n",
       "norms of residuals are given by (9.575495937447122e-14,).\n",
       "), 12.926760099, 1584217549, 0.244791699, Base.GC_Diff(1584217549, 213, 0, 143724, 48, 0, 244791699, 6, 0))"
      ]
     },
     "execution_count": 28,
     "metadata": {},
     "output_type": "execute_result"
    }
   ],
   "source": [
    "# warm up (compilation)\n",
    "eigsolve(M, x0, 1, :SR, issymmetric = false, maxiter = 1)\n",
    "# output is complex eigenvalue/eigenvector\n",
    "(vals, vecs, info), time_arnoldi, = @timed eigsolve(M, x0, 1, :SR, issymmetric = false)"
   ]
  },
  {
   "cell_type": "code",
   "execution_count": 29,
   "metadata": {},
   "outputs": [],
   "source": [
    "@assert abs(Real(vals[1])) < 1e-8"
   ]
  },
  {
   "cell_type": "code",
   "execution_count": 30,
   "metadata": {},
   "outputs": [],
   "source": [
    "x_arnoldi   = abs.(Real.(vecs[1]))\n",
    "x_arnoldi ./= sum(x_arnoldi)\n",
    "@assert norm(x_arnoldi - xsol) < 1e-8"
   ]
  },
  {
   "cell_type": "code",
   "execution_count": 31,
   "metadata": {},
   "outputs": [
    {
     "data": {
      "text/plain": [
       "20.0"
      ]
     },
     "execution_count": 31,
     "metadata": {},
     "output_type": "execute_result"
    }
   ],
   "source": [
    "clamp(20 / time_arnoldi * 20, 0, 20)"
   ]
  },
  {
   "cell_type": "markdown",
   "metadata": {},
   "source": [
    "## Question 6: Results\n",
    "\n",
    "The top twenty pages based on this method is:"
   ]
  },
  {
   "cell_type": "code",
   "execution_count": 32,
   "metadata": {},
   "outputs": [
    {
     "data": {
      "text/plain": [
       "20-element Array{Int64,1}:\n",
       " 597622\n",
       "  41910\n",
       " 163076\n",
       " 537040\n",
       " 384667\n",
       " 504141\n",
       " 486981\n",
       " 605857\n",
       "  32164\n",
       " 558792\n",
       " 551830\n",
       " 765335\n",
       " 751385\n",
       " 425771\n",
       " 908352\n",
       " 173977\n",
       "   7315\n",
       " 213433\n",
       " 885606\n",
       " 819224"
      ]
     },
     "execution_count": 32,
     "metadata": {},
     "output_type": "execute_result"
    }
   ],
   "source": [
    "sortperm(vec(x_arnoldi), rev = true)[1:20]"
   ]
  },
  {
   "cell_type": "markdown",
   "metadata": {},
   "source": [
    "Versus"
   ]
  },
  {
   "cell_type": "code",
   "execution_count": 34,
   "metadata": {},
   "outputs": [
    {
     "data": {
      "text/plain": [
       "20-element Array{Int64,1}:\n",
       " 506743\n",
       " 203749\n",
       " 305230\n",
       " 768092\n",
       " 808644\n",
       " 412411\n",
       " 600480\n",
       " 376429\n",
       " 156951\n",
       " 885729\n",
       " 667585\n",
       " 685696\n",
       " 282141\n",
       " 598189\n",
       " 579315\n",
       " 411594\n",
       " 321092\n",
       " 838279\n",
       " 302734\n",
       " 915274"
      ]
     },
     "execution_count": 34,
     "metadata": {},
     "output_type": "execute_result"
    }
   ],
   "source": [
    "sortperm(vec(inz), rev = true)[1:20]"
   ]
  },
  {
   "cell_type": "markdown",
   "metadata": {},
   "source": [
    "They are not the same. "
   ]
  }
 ],
 "metadata": {
  "kernelspec": {
   "display_name": "Julia 1.3.0",
   "language": "julia",
   "name": "julia-1.3"
  },
  "language_info": {
   "file_extension": ".jl",
   "mimetype": "application/julia",
   "name": "julia",
   "version": "1.3.0"
  }
 },
 "nbformat": 4,
 "nbformat_minor": 4
}
