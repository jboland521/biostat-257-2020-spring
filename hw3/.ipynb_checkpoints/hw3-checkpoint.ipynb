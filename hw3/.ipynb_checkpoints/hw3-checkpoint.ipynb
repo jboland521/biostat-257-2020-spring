{
 "cells": [
  {
   "cell_type": "markdown",
   "metadata": {},
   "source": [
    "## Homework 3\n",
    "### BIOSTAT 257\n",
    "#### Joanna Boland\n",
    "#### May 15, 2020"
   ]
  },
  {
   "cell_type": "markdown",
   "metadata": {},
   "source": [
    "## Question 1: Problem Structure \n",
    "\n",
    "Let $\\mathbf{A} \\in \\{0,1\\}^{n \\times n}$ be the connectivity matrix of $n$ web pages with entries,\n",
    "\\begin{eqnarray*}\n",
    "    a_{ij}= \\begin{cases},\n",
    "    1 & \\text{if page $i$ links to page $j$} \\\\,\n",
    "    0 & \\text{otherwise}\n",
    "    \\end{cases}.\n",
    "\\end{eqnarray*}\n",
    "$r_i = \\sum_j a_{ij}$ is the out-degree of page $i$. That is $r_i$ is the number of links on page $i$. Imagine a random surfer exploring the space of pages according to the following rules, \n",
    "* From a page $i$ with $r_i>0$, with probability $p$, (s)he randomly chooses a link on page $i$ (uniformly) and follows that link to the next page \n",
    "* with probability $1-p$, (s)he randomly chooses one page from the set of all $n$ pages (uniformly) and proceeds to that page, \n",
    "* From a page $i$ with $r_i=0$ (a dangling page), (s)he randomly chooses one page from the set of all $n$ pages (uniformly) and proceeds to that page, \n",
    "\n",
    "The process defines a Markov chain on the space of $n$ pages. Write the transition matrix $\\mathbf{P}$ of the Markov chain as a sparse matrix plus rank 1 matrix.\n",
    "\n",
    "We can write this in mathematical form as\n",
    "\n",
    "$$\n",
    "\\begin{eqnarray*}\n",
    "    p_{ij} = \\begin{cases}\n",
    "    \\frac{1}{r_i}p + \\frac{1}{n}(1 - p) & r_i > 0 \\\\\n",
    "    \\frac{1}{n} & r_i = 0\n",
    "    \\end{cases}\n",
    "\\end{eqnarray*}\n",
    "$$\n",
    "\n",
    "If we let $1$ be a vector of ones and $r$ is the vector containing all the $r_i$ values, then we can write $P$ as a matrix that is a sparse matrix plus rank 1 matrix as\n",
    "\n",
    "$$P = \\text{diag}\\Big(\\frac{p}{r}\\Big) + \\frac{1-p}{n}11^T$$\n",
    "\n",
    "where $\\frac{p}{r} = 0$ when $r_i = 0$. "
   ]
  },
  {
   "cell_type": "markdown",
   "metadata": {},
   "source": [
    "## Question 2: Relate to Numerical Linear Algebra\n",
    "\n",
    "According to standard Markov chain theory, the (random) position of the surfer converges to the stationary distribution $\\mathbf{x} = (x_1,\\ldots,x_n)^T$ of the Markov chain. $x_i$ has the natural interpretation of the proportion of times the surfer visits page $i$ in the long run. Therefore $\\mathbf{x}$ serves as page ranks: a higher $x_i$ means page $i$ is more visited. It is well-known that $\\mathbf{x}$ is the left eigenvector corresponding to the top eigenvalue 1 of the transition matrix $\\mathbf{P}$. That is $\\mathbf{P}^T \\mathbf{x} = \\mathbf{x}$. Therefore $\\mathbf{x}$ can be solved as an **eigen-problem**. It can also be cast as **solving a linear system**. Since the row sums of $\\mathbf{P}$ are 1, $\\mathbf{P}$ is rank deficient. We can replace the first equation by the $\\sum_{i=1}^n x_i = 1$.\n",
    "\n",
    "Hint: For iterative solvers, we don't need to replace the 1st equation. We can use the matrix $\\mathbf{I} - \\mathbf{P}^T$ directly if we start with a vector with all positive entries.\n"
   ]
  },
  {
   "cell_type": "markdown",
   "metadata": {},
   "source": [
    "## Question 3: Explore the Data"
   ]
  },
  {
   "cell_type": "code",
   "execution_count": null,
   "metadata": {},
   "outputs": [],
   "source": [
    "using MatrixDepot, SparseArrays, LinearAlgebra, UnicodePlots\n",
    "\n",
    "md = mdopen(\"SNAP/web-Google\")\n",
    "# display documentation for the SNAP/web-Google data\n",
    "\n",
    "# connectivity matrix\n",
    "A = md.A"
   ]
  },
  {
   "cell_type": "markdown",
   "metadata": {},
   "source": [
    "* There are 3 bits in a single digit, so if we had a matrix of 916428 x 916428 entries of zeros or 1, then the number of gigabytes of that matrix would be:"
   ]
  },
  {
   "cell_type": "code",
   "execution_count": null,
   "metadata": {},
   "outputs": [],
   "source": [
    "GB = ((916428)^2 * 3)/(8000000000)"
   ]
  },
  {
   "cell_type": "markdown",
   "metadata": {},
   "source": [
    "* The number of web pages is $916,428$ as the A matrix is and $n \\times n$ matrix where $n = $ total number of web page entries\n",
    "* Since the only stored entries are 1's and the rest are assumed to be 0's, then there are $5,105,039$ web links."
   ]
  },
  {
   "cell_type": "code",
   "execution_count": null,
   "metadata": {},
   "outputs": [],
   "source": [
    "r = vec(sum(A, dims = 1)) # out-degrees\n",
    "x = vec(sum(A, dims = 2)) # in-degrees\n",
    "count(iszero, r)"
   ]
  },
  {
   "cell_type": "markdown",
   "metadata": {},
   "source": [
    "* The number of dangling nodes is $201,883$."
   ]
  },
  {
   "cell_type": "code",
   "execution_count": null,
   "metadata": {},
   "outputs": [],
   "source": [
    "histogram(x, nbins = 25, closed = :left, title = \"Histogram of In-Degrees\")"
   ]
  },
  {
   "cell_type": "code",
   "execution_count": null,
   "metadata": {},
   "outputs": [],
   "source": [
    "histogram(r, nbins = 25, closed = :left, title = \"Histogram of Out-Degrees\")"
   ]
  },
  {
   "cell_type": "code",
   "execution_count": null,
   "metadata": {},
   "outputs": [],
   "source": [
    "A1 = A[1:10000, 1:10000]\n",
    "spy(A1, title = \"Sparsity of a Submatrix of A\")"
   ]
  },
  {
   "cell_type": "markdown",
   "metadata": {},
   "source": [
    "## Question 4: Dense Linear Algebra\n",
    "\n",
    "Consider the following methods to obtain the page ranks of the `SNAP/web-Google` data. \n",
    "\n",
    "1. A dense linear system solver such as LU decomposition.\n",
    "2. A dense eigen-solver for asymmetric matrix.\n",
    "\n",
    "For the LU approach, estimate (1) the memory usage and (2) how long it will take assuming that the LAPACK functions can achieve the theoretical throughput of your computer."
   ]
  },
  {
   "cell_type": "markdown",
   "metadata": {},
   "source": [
    "## Question 5: Iterative Solvers\n",
    "\n",
    "Set the _teleportation_ parameter at $p = 0.85$. Consider the following methods for solving the PageRank problem. \n",
    "\n",
    "1. An iterative linear system solver such as GMRES.\n",
    "2. An iterative eigen-solver such as Arnoldi method.\n",
    "\n",
    "For iterative methods, we have many choices in Julia. See a list of existing Julia packages for linear solvers at this [page](https://jutho.github.io/KrylovKit.jl/stable/#Package-features-and-alternatives-1). The start-up code below uses the [KrylovKit.jl](https://github.com/Jutho/KrylovKit.jl) package. You can use other packages if you prefer. Make sure to utilize the special structure of $\\mathbf{P}$ (sparse + rank 1) to speed up the matrix-vector multiplication.\n"
   ]
  },
  {
   "cell_type": "markdown",
   "metadata": {},
   "source": [
    "### Step 1\n",
    "\n",
    "Let's implement a type `PageRankImPt` that mimics the matrix $\\mathbf{M} = \\mathbf{I} - \\mathbf{P}^T$. For iterative methods, all we need to provide is methods for evaluating $\\mathbf{M} \\mathbf{v}$ and $\\mathbf{M}^T \\mathbf{v}$ for arbitrary vector $\\mathbf{v}$."
   ]
  },
  {
   "cell_type": "code",
   "execution_count": null,
   "metadata": {},
   "outputs": [],
   "source": [
    "using BenchmarkTools, LinearAlgebra, SparseArrays, Revise\n",
    "\n",
    "# a type for the matrix M = I - P^T in PageRank problem\n",
    "struct PageRankImPt{TA <: Number, IA <: Integer, T <: AbstractFloat} <: AbstractMatrix{T}\n",
    "    A         :: SparseMatrixCSC{TA, IA} # adjacency matrix\n",
    "    telep     :: T\n",
    "    r         :: Vector{T}\n",
    "    d         :: Vector{T}\n",
    "    z         :: Vector{T} \n",
    "    one       :: Vector{T}\n",
    "    AtDtvb    :: Vector{T}\n",
    "    dtv       :: Vector{T}\n",
    "    AtDtv     :: Vector{T}\n",
    "    o1dtv     :: Vector{T} \n",
    "    out       :: Vector{T}\n",
    "    Av        :: Vector{T}\n",
    "    DAv       :: Vector{T}\n",
    "    ztonetv   :: Vector{T}\n",
    "end\n",
    "\n",
    "# constructor\n",
    "function PageRankImPt(A::SparseMatrixCSC, telep::T) where T <: AbstractFloat\n",
    "    n = size(A, 1)\n",
    "    one = ones(n)\n",
    "    r = A * one\n",
    "    d = Vector{Float64}(undef, n)\n",
    "    z = Vector{Float64}(undef, n)\n",
    "    dtv = Vector{Float64}(undef, n)\n",
    "    AtDtvb = Vector{Float64}(undef, n)\n",
    "    o1dtv = Vector{Float64}(undef, n)\n",
    "    out = Vector{Float64}(undef, n)\n",
    "    Av = Vector{Float64}(undef, n)\n",
    "    DAv = Vector{Float64}(undef, n)\n",
    "    ztonetv = Vector{Float64}(undef, n)\n",
    "    for i in 1:n\n",
    "        if r[i] == 0\n",
    "            d[i], z[i] = 0, 1 / n\n",
    "        else \n",
    "            d[i], z[i] = telep / r[i], (1 - telep) / n\n",
    "        end\n",
    "    end\n",
    "    return(A, telep, n, one, r, d, z, dtv, AtDtvb, o1dtv, Av, DAv, ztonetv, out)\n",
    "end\n",
    "\n",
    "LinearAlgebra.issymmetric(::PageRankImPt) = false\n",
    "Base.size(M::PageRankImPt) = size(M.A)\n",
    "\n",
    "function Base.getindex(M::PageRankImPt, i, j) \n",
    "    if i == j\n",
    "        outsc = 1 - M.A[j, i] * M.d[i] - M.z[i]\n",
    "    else \n",
    "        outsc = - M.A[j, i] * M.d[i] - M.z[j]\n",
    "    end\n",
    "    return outsc\n",
    "end \n",
    "\n",
    "# overwrite `out` by `(I - Pt) * v`\n",
    "function LinearAlgebra.mul!(\n",
    "        out :: Vector{T}, \n",
    "        M   :: PageRankImPt{<:Number, <:Integer, T}, \n",
    "        v   :: Vector{T}) where T <: AbstractFloat\n",
    "    M.dtv .= M.d .* v\n",
    "    ztv = dot(M.z, v)\n",
    "    mul!(M.AtDtvb, transpose(M.A), M.dtv)\n",
    "    M.o1dtv = ones(n) * M.dtv\n",
    "    axpby!(-1, M.AtDtvb, -1, M.o1dtv)\n",
    "    M.out = v - M.o1dtv\n",
    "    sleep(1e-2) \n",
    "    return M.out\n",
    "end\n",
    "\n",
    "# overwrite `out` by `(I - P) * v`\n",
    "function LinearAlgebra.mul!(\n",
    "        out :: Vector{T}, \n",
    "        Mt  :: Transpose{T, PageRankImPt{TA, IA, T}}, \n",
    "        v   :: Vector{T}) where {TA<:Number, IA<:Integer, T <: AbstractFloat}\n",
    "    M = Mt.parent\n",
    "    mul!(M.Av, M.A, v)\n",
    "    onetv = dot(ones(n), v)\n",
    "    M.DAv .= M.Av .* M.d\n",
    "    M.ztonetv .= M.z .* onetv\n",
    "    axpby!(-1, M.DAv, -1, M.ztonetv)\n",
    "    M.out = v - M.ztonetv\n",
    "    return M.out\n",
    "end"
   ]
  },
  {
   "cell_type": "code",
   "execution_count": null,
   "metadata": {},
   "outputs": [],
   "source": [
    "using DelimitedFiles\n",
    "\n",
    "isfile(\"pgrksol.csv\") || download(\"https://raw.githubusercontent.com/ucla-biostat-257-2020spring/ucla-biostat-257-2020spring.github.io/master/hw/hw3/pgrksol.csv\", \"./pgrksol.csv\")\n",
    "xsol = vec(readdlm(\"./pgrksol.csv\"))"
   ]
  },
  {
   "cell_type": "code",
   "execution_count": 1,
   "metadata": {},
   "outputs": [
    {
     "ename": "UndefVarError",
     "evalue": "UndefVarError: PageRankImPt not defined",
     "output_type": "error",
     "traceback": [
      "UndefVarError: PageRankImPt not defined",
      "",
      "Stacktrace:",
      " [1] top-level scope at In[1]:1"
     ]
    }
   ],
   "source": [
    "M = PageRankImPt(A, 0.85)\n",
    "n = size(M, 1)\n",
    "\n",
    "@assert norm(transpose(M) * ones(n)) < 1e-12"
   ]
  },
  {
   "cell_type": "code",
   "execution_count": null,
   "metadata": {},
   "outputs": [],
   "source": [
    "M = PageRankImPt(A, 0.85)"
   ]
  },
  {
   "cell_type": "code",
   "execution_count": null,
   "metadata": {},
   "outputs": [],
   "source": [
    "@assert M * xsol ≈ zeros(n)"
   ]
  },
  {
   "cell_type": "code",
   "execution_count": null,
   "metadata": {},
   "outputs": [],
   "source": []
  }
 ],
 "metadata": {
  "kernelspec": {
   "display_name": "Julia 1.3.0",
   "language": "julia",
   "name": "julia-1.3"
  },
  "language_info": {
   "file_extension": ".jl",
   "mimetype": "application/julia",
   "name": "julia",
   "version": "1.3.0"
  }
 },
 "nbformat": 4,
 "nbformat_minor": 4
}
