{
 "cells": [
  {
   "cell_type": "markdown",
   "metadata": {},
   "source": [
    "# Homework 1\n",
    "\n",
    "## Question 2\n",
    "\n",
    "### 1. Associative rule for addition says (x + y) + z == x + (y + z). Check association rule using x = 0.1, y = 0.1 and z = 1.0 in Julia. Explain what you find."
   ]
  },
  {
   "cell_type": "code",
   "execution_count": 8,
   "metadata": {},
   "outputs": [
    {
     "data": {
      "text/plain": [
       "false"
      ]
     },
     "execution_count": 8,
     "metadata": {},
     "output_type": "execute_result"
    }
   ],
   "source": [
    "x, y, z = 0.1, 0.1, 1.0\n",
    "(x + y) + z == x + (y + z)"
   ]
  },
  {
   "cell_type": "code",
   "execution_count": 35,
   "metadata": {},
   "outputs": [
    {
     "data": {
      "text/plain": [
       "(1.2, 1.2000000000000002)"
      ]
     },
     "execution_count": 35,
     "metadata": {},
     "output_type": "execute_result"
    }
   ],
   "source": [
    "(x + y) + z, x + (y + z)"
   ]
  },
  {
   "cell_type": "markdown",
   "metadata": {},
   "source": [
    "This is due to catastrophic cancellation of numbers of different magnitudes. \n",
    "\n",
    "### 2. Do floating-point numbers obey the associative rule for multiplication: (x * y) * z == x * (y * z)?"
   ]
  },
  {
   "cell_type": "markdown",
   "metadata": {},
   "source": [
    "## Question 4\n",
    "Create the vector x = (0.988, 0.989, 0.990, ..., 1.010, 1.011, 1.012).\n",
    "\n",
    "### 1.  "
   ]
  },
  {
   "cell_type": "code",
   "execution_count": 45,
   "metadata": {},
   "outputs": [
    {
     "data": {
      "text/plain": [
       "25-element Array{Float64,1}:\n",
       " -4.263256414560601e-14 \n",
       " -3.019806626980426e-14 \n",
       " -1.4210854715202004e-14\n",
       " -7.993605777301127e-15 \n",
       " -6.217248937900877e-15 \n",
       "  2.6645352591003757e-15\n",
       " -8.881784197001252e-15 \n",
       " -3.552713678800501e-15 \n",
       " -1.7763568394002505e-15\n",
       " -2.6645352591003757e-15\n",
       " -8.881784197001252e-16 \n",
       " -1.7763568394002505e-15\n",
       "  0.0                   \n",
       " -5.329070518200751e-15 \n",
       " -2.6645352591003757e-15\n",
       "  1.7763568394002505e-15\n",
       " -1.7763568394002505e-15\n",
       "  6.217248937900877e-15 \n",
       " -1.7763568394002505e-15\n",
       "  0.0                   \n",
       " -4.440892098500626e-15 \n",
       " -3.552713678800501e-15 \n",
       "  7.105427357601002e-15 \n",
       "  1.1546319456101628e-14\n",
       "  4.618527782440651e-14 "
      ]
     },
     "execution_count": 45,
     "metadata": {},
     "output_type": "execute_result"
    }
   ],
   "source": [
    "x = collect(0.988:0.001:1.012)\n",
    "y = map(x -> x^7 - 7 * x^6 + 21 * x^5 - 35 * x^4 + 35 * x^3 - 21 * x^2 + 7 * x - 1, x)"
   ]
  },
  {
   "cell_type": "code",
   "execution_count": null,
   "metadata": {},
   "outputs": [],
   "source": []
  }
 ],
 "metadata": {
  "kernelspec": {
   "display_name": "Julia 1.3.0",
   "language": "julia",
   "name": "julia-1.3"
  },
  "language_info": {
   "file_extension": ".jl",
   "mimetype": "application/julia",
   "name": "julia",
   "version": "1.3.0"
  }
 },
 "nbformat": 4,
 "nbformat_minor": 4
}
