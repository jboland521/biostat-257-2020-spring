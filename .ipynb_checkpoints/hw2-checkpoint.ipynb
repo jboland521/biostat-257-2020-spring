{
 "cells": [
  {
   "cell_type": "markdown",
   "metadata": {},
   "source": [
    "## BIOSTAT 257 Homework 2\n",
    "\n",
    "Consider a linear mixed effects model\n",
    "\n",
    "$$Y_i = X_i\\beta + Z_i\\gamma + \\epsilon_i, \\quad i = 1,\\ldots,n$$\n",
    "\n",
    "where\n",
    "\n",
    "- $Y_i \\in \\mathbb{R}^{n_i}$ is the reponse vector of the $i$-th individual,\n",
    "- $X_i \\in \\mathbb{R}^{n_i \\times p}$ is the fixed effect predictor matrix of  $i$-th individual,\n",
    "- $Z_i \\in \\mathbb{R}^{n_i \\times q}$ is the random effect predictor matrix of  $i$-th individual, \n",
    "- $\\epsilon_i \\in \\mathbb{R}^{n_i}$ are multivariate normal $N(0_{n_i}, \\sigma^2 I_{n_i})$,\n",
    "- $\\beta \\in \\mathbb{R}^{p}$ are fixed effects, and\n",
    "- $\\gamma \\in \\mathbb{R}^{q}$ are random effects assumed to be $N(0_{q}, \\Sigma_{q \\times q})$ independent of $\\epsilon_i$."
   ]
  },
  {
   "cell_type": "markdown",
   "metadata": {},
   "source": [
    "### Question 1: Formula\n",
    "\n",
    "Write down the log-likelihood of the  $i$-th datum  $(Y_i,X_i,Z_i)$  given parameters $(\\beta,\\Sigma,\\sigma^2)$.\n",
    "\n",
    "The marginal distribution of $Y_i \\sim N(X_i \\beta, Z_i \\Sigma Z_i^T + \\sigma^2 I_{n_i})$\n",
    "\n",
    "$$\\ell(\\beta,\\Sigma,\\sigma^2) = -\\frac{n_i}{2}\\text{log}(2\\pi) - \\frac{1}{2}\\text{log}|Z_i \\Sigma Z_i^T + \\sigma^2 I_{n_i}| - \\frac{1}{2}(Y_i - X_i \\beta)^T(Z_i \\Sigma Z_i^T + \\sigma^2 I_{n_i})^{-1}(Y_i - X_i \\beta)$$\n",
    "\n",
    "We can use Woodbury to help us calculate the inverse of the covariance matrix as\n",
    "\n",
    "$$(Z_i \\Sigma Z_i^T + \\sigma^2 I_{n_i})^{-1} = \\frac{1}{\\sigma^2}I -\\frac{1}{\\sigma^4}Z\\Bigg(\\Sigma^{-1} + \\frac{1}{\\sigma^2}Z^TZ\\Bigg)^{-1}Z^T$$\n",
    "\n",
    "and we can use the subsequent properties of determinants to \n",
    "\n",
    "$$\\text{det}(\\sigma^2I + Z\\Sigma Z^T) = \\sigma^{2n}\\text{det}(\\Sigma)\\text{det}\\Bigg(\\Sigma^{-1} +\\frac{1}{\\sigma^2}Z^TZ\\Bigg\n",
    ")$$"
   ]
  },
  {
   "cell_type": "markdown",
   "metadata": {},
   "source": [
    "### Question 2: Start-up Code\n",
    "\n",
    "Use the following template to define a type `LmmObs` that holds an LMM datum $(y_i,X_i,Z_i)$."
   ]
  },
  {
   "cell_type": "code",
   "execution_count": 28,
   "metadata": {},
   "outputs": [
    {
     "data": {
      "text/plain": [
       "LmmObs"
      ]
     },
     "execution_count": 28,
     "metadata": {},
     "output_type": "execute_result"
    }
   ],
   "source": [
    "# define a type that holds LMM datum\n",
    "struct LmmObs{T <: AbstractFloat}\n",
    "    # data\n",
    "    y :: Vector{T}\n",
    "    X :: Matrix{T}\n",
    "    Z :: Matrix{T}\n",
    "    # working arrays\n",
    "    # whatever intermediate arrays you may want to pre-allocate\n",
    "    res        :: Vector{T}\n",
    "    storage_q  :: Vector{T}\n",
    "    ztz        :: Matrix{T}\n",
    "    storage_qq :: Matrix{T}\n",
    "end\n",
    "\n",
    "# constructor\n",
    "function LmmObs(\n",
    "        y::Vector{T}, \n",
    "        X::Matrix{T}, \n",
    "        Z::Matrix{T}) where T <: AbstractFloat\n",
    "    res        = similar(y)\n",
    "    storage_q  = Vector{T}(undef, size(Z, 2))\n",
    "    ztz        = transpose(Z) * Z\n",
    "    storage_qq = similar(ztz)\n",
    "    LmmObs(y, X, Z, res, storage_q, ztz, storage_qq)\n",
    "end\n"
   ]
  },
  {
   "cell_type": "markdown",
   "metadata": {},
   "source": [
    "Write a function, with interface `logl!(obs, β, L, σ²)` that evaluates the log-likelihood of the $i$-th datum. Here `L` is the lower triangular Cholesky factor from the Cholesky decomposition `Σ=LL'`. Make your code efficient in the $n_i≫q$ case. Think the intensive longitudinal measurement setting."
   ]
  },
  {
   "cell_type": "code",
   "execution_count": 53,
   "metadata": {},
   "outputs": [
    {
     "ename": "ErrorException",
     "evalue": "syntax: \"-((1 // 2))\" is not a valid function argument name",
     "output_type": "error",
     "traceback": [
      "syntax: \"-((1 // 2))\" is not a valid function argument name",
      "",
      "Stacktrace:",
      " [1] top-level scope at C:\\Users\\jbola\\.julia\\packages\\IJulia\\yLI42\\src\\kernel.jl:52"
     ]
    }
   ],
   "source": [
    "using BenchmarkTools, Distributions, LinearAlgebra, Random\n",
    "\n",
    "function logl!(\n",
    "        obs :: LmmObs{T}, \n",
    "        β   :: Vector{T}, \n",
    "        L   :: Matrix{T}, \n",
    "        σ²  :: T) where T <: AbstractFloat\n",
    "    n, p, q = size(obs.X, 1), size(obs.X, 2), size(obs.Z, 2)    \n",
    "    # TODO: compute and return the log-likelihood\n",
    "    res = y - X * β\n",
    "    logdet = -(1//2) * log(det((Z * L * L' * Z' + σ² * I)))\n",
    "    quad = -(1//2) * res' * inv(Z * L * L' * Z' + σ² * I) * res\n",
    "    c = -(n//2) * log(2 * π)\n",
    "    l = c + logdet + quad\n",
    "    return quad\n",
    "end"
   ]
  },
  {
   "cell_type": "markdown",
   "metadata": {},
   "source": [
    "Hint: This function shouldn't be very long. Mine, obeying 80-character rule, is 25 lines. If you find yourself writing very long code, you're on the wrong track. Think about algorithm first then use BLAS functions to reduce memory allocations."
   ]
  },
  {
   "cell_type": "markdown",
   "metadata": {},
   "source": [
    "### Question 3: Correctness\n",
    "\n",
    "Compare your result (both accuracy and timing) to the Distributions.jl package using following data.\n"
   ]
  },
  {
   "cell_type": "code",
   "execution_count": 49,
   "metadata": {},
   "outputs": [
    {
     "data": {
      "text/plain": [
       "LmmObs{Float64}([5.739048710854997, 5.705395720270055, 2.7368899643050355, 1.4201223592870755, -0.2099433929180451, 3.5886971824690486, -1.3778538474575956, -0.08406026821055246, -2.208007878450787, 1.309558511583542  …  1.2947876180172684, -1.9701265304395086, -2.040383092851745, -1.4590296825658675, 0.18616271231054726, 1.0681247149968018, 2.2292080864625254, 1.1952385354603545, 1.1310626949609701, -0.43507816286713785], [1.0 -2.506566300781151 … 0.5863780184080776 1.1092991040518192; 1.0 -0.974090320735282 … 1.4143507320583761 0.45608259198567447; … ; 1.0 -1.0076371084863895 … -1.3241972696483915 1.4547609424344008; 1.0 0.38036793320364776 … -0.5857507269707397 1.796804266836504], [1.0 -0.6380567326757537 1.4738982136806946; 1.0 -2.0711110232845926 0.21422658785510312; … ; 1.0 0.5917731507133951 -0.9163364468263059; 1.0 0.9463732120394507 -0.325860403600768], [0.10242625124792681, 1.301428169875126, -0.7132050880088938, 0.3480728641048403, -2.377558161127805, 0.8031853256662527, -1.8887487107102672, -1.297865832250453, -4.936161394750432, -3.0440059236075854  …  -0.561334973606056, -4.906656990103004, -2.6052788409024403, -4.377310857064913, -3.285980654955158, -0.5862710201668986, 0.6304894451767753, -1.2660665295473756, -1.9199388500085135, -2.747043736514613], [1.338691104e-315, 1.33869126e-315, 1.33869142e-315], [2000.0 -11.2035856885878 -23.35638533913959; -11.2035856885878 1972.7426082447305 27.303296982632173; -23.35638533913959 27.303296982632173 2034.203494486357], [0.0 1.5e-323 3.0e-323; 5.0e-324 5.0e-324 5.0e-324; 1.33869814e-315 1.338698145e-315 NaN])"
      ]
     },
     "execution_count": 49,
     "metadata": {},
     "output_type": "execute_result"
    }
   ],
   "source": [
    "Random.seed!(257)\n",
    "# dimension\n",
    "n, p, q = 2000, 5, 3\n",
    "# predictors\n",
    "X  = [ones(n) randn(n, p - 1)]\n",
    "Z  = [ones(n) randn(n, q - 1)]\n",
    "# parameter values\n",
    "β  = [2.0; -1.0; rand(p - 2)]\n",
    "σ² = 1.5\n",
    "Σ  = fill(0.1, q, q) + 0.9I\n",
    "# generate y\n",
    "y  = X * β + Z * rand(MvNormal(Σ)) + sqrt(σ²) * randn(n)\n",
    "\n",
    "# form an LmmObs object\n",
    "obs = LmmObs(y, X, Z)"
   ]
  },
  {
   "cell_type": "markdown",
   "metadata": {},
   "source": [
    "This is the standard way to evaluate log-density of a multivariate normal, using the Distributions.jl package. Let's evaluate the log-likelihood of this datum."
   ]
  },
  {
   "cell_type": "code",
   "execution_count": 50,
   "metadata": {},
   "outputs": [
    {
     "data": {
      "text/plain": [
       "-3247.456858063827"
      ]
     },
     "execution_count": 50,
     "metadata": {},
     "output_type": "execute_result"
    }
   ],
   "source": [
    "μ  = X * β\n",
    "Ω  = Z * Σ * transpose(Z) +  σ² * I\n",
    "mvn = MvNormal(μ, Symmetric(Ω)) # MVN(μ, Σ)\n",
    "logpdf(mvn, y)"
   ]
  },
  {
   "cell_type": "markdown",
   "metadata": {},
   "source": [
    "Check that your answer matches that from Distributions.jl"
   ]
  },
  {
   "cell_type": "code",
   "execution_count": 51,
   "metadata": {},
   "outputs": [
    {
     "data": {
      "text/plain": [
       "-1837.8770664093454"
      ]
     },
     "execution_count": 51,
     "metadata": {},
     "output_type": "execute_result"
    }
   ],
   "source": [
    "L = Matrix(cholesky(Σ).L)\n",
    "logl!(obs, β, L, σ²)"
   ]
  },
  {
   "cell_type": "markdown",
   "metadata": {},
   "source": [
    "You will lose all 15 + 30 + 30 = 75 points if the following statement throws AssertError."
   ]
  },
  {
   "cell_type": "code",
   "execution_count": 39,
   "metadata": {},
   "outputs": [
    {
     "ename": "AssertionError",
     "evalue": "AssertionError: logl!(obs, β, Matrix((cholesky(Σ)).L), σ²) ≈ logpdf(mvn, y)",
     "output_type": "error",
     "traceback": [
      "AssertionError: logl!(obs, β, Matrix((cholesky(Σ)).L), σ²) ≈ logpdf(mvn, y)",
      "",
      "Stacktrace:",
      " [1] top-level scope at In[39]:1"
     ]
    }
   ],
   "source": [
    "@assert logl!(obs, β, Matrix(cholesky(Σ).L), σ²) ≈ logpdf(mvn, y)"
   ]
  },
  {
   "cell_type": "markdown",
   "metadata": {},
   "source": [
    "### Question 4: Efficiency\n",
    "\n",
    "Benchmarking your code and compare to the Distributions.jl function `logpdf`."
   ]
  },
  {
   "cell_type": "code",
   "execution_count": 24,
   "metadata": {},
   "outputs": [
    {
     "data": {
      "text/plain": [
       "BenchmarkTools.Trial: \n",
       "  memory estimate:  30.55 MiB\n",
       "  allocs estimate:  5\n",
       "  --------------\n",
       "  minimum time:     25.690 ms (0.00% GC)\n",
       "  median time:      30.706 ms (0.00% GC)\n",
       "  mean time:        37.924 ms (14.57% GC)\n",
       "  maximum time:     89.691 ms (29.96% GC)\n",
       "  --------------\n",
       "  samples:          133\n",
       "  evals/sample:     1"
      ]
     },
     "execution_count": 24,
     "metadata": {},
     "output_type": "execute_result"
    }
   ],
   "source": [
    "# benchmark the `logpdf` function in Distribution.jl\n",
    "bm1 = @benchmark logpdf($mvn, $y)"
   ]
  },
  {
   "cell_type": "code",
   "execution_count": 124,
   "metadata": {},
   "outputs": [
    {
     "ename": "MethodError",
     "evalue": "MethodError: no method matching //(::Int64, ::Float64)\nClosest candidates are:\n  //(::Integer, !Matched::Integer) at rational.jl:44\n  //(::Integer, !Matched::Rational) at rational.jl:51\n  //(!Matched::Complex, ::Real) at rational.jl:60\n  ...",
     "output_type": "error",
     "traceback": [
      "MethodError: no method matching //(::Int64, ::Float64)\nClosest candidates are:\n  //(::Integer, !Matched::Integer) at rational.jl:44\n  //(::Integer, !Matched::Rational) at rational.jl:51\n  //(!Matched::Complex, ::Real) at rational.jl:60\n  ...",
      "",
      "Stacktrace:",
      " [1] logl!(::LmmObs{Float64}, ::Array{Float64,1}, ::Array{Float64,2}, ::Float64) at .\\In[120]:12",
      " [2] ##core#452(::LmmObs{Float64}, ::Array{Float64,1}, ::Array{Float64,2}, ::Float64) at C:\\Users\\jbola\\.julia\\packages\\BenchmarkTools\\eCEpo\\src\\execution.jl:371",
      " [3] ##sample#453(::BenchmarkTools.Parameters) at C:\\Users\\jbola\\.julia\\packages\\BenchmarkTools\\eCEpo\\src\\execution.jl:377",
      " [4] #_run#9(::Bool, ::String, ::Base.Iterators.Pairs{Symbol,Integer,NTuple{4,Symbol},NamedTuple{(:samples, :evals, :gctrial, :gcsample),Tuple{Int64,Int64,Bool,Bool}}}, ::typeof(BenchmarkTools._run), ::BenchmarkTools.Benchmark{Symbol(\"##benchmark#451\")}, ::BenchmarkTools.Parameters) at C:\\Users\\jbola\\.julia\\packages\\BenchmarkTools\\eCEpo\\src\\execution.jl:405",
      " [5] (::BenchmarkTools.var\"#kw##_run\")(::NamedTuple{(:verbose, :samples, :evals, :gctrial, :gcsample),Tuple{Bool,Int64,Int64,Bool,Bool}}, ::typeof(BenchmarkTools._run), ::BenchmarkTools.Benchmark{Symbol(\"##benchmark#451\")}, ::BenchmarkTools.Parameters) at .\\none:0",
      " [6] (::Base.var\"#inner#2\"{Base.Iterators.Pairs{Symbol,Integer,NTuple{5,Symbol},NamedTuple{(:verbose, :samples, :evals, :gctrial, :gcsample),Tuple{Bool,Int64,Int64,Bool,Bool}}},typeof(BenchmarkTools._run),Tuple{BenchmarkTools.Benchmark{Symbol(\"##benchmark#451\")},BenchmarkTools.Parameters}})() at .\\essentials.jl:712",
      " [7] #invokelatest#1 at .\\essentials.jl:713 [inlined]",
      " [8] #invokelatest at .\\none:0 [inlined]",
      " [9] #run_result#37 at C:\\Users\\jbola\\.julia\\packages\\BenchmarkTools\\eCEpo\\src\\execution.jl:32 [inlined]",
      " [10] #run_result at .\\none:0 [inlined]",
      " [11] #run#40(::Nothing, ::Float64, ::Float64, ::Base.Iterators.Pairs{Symbol,Integer,NTuple{5,Symbol},NamedTuple{(:verbose, :samples, :evals, :gctrial, :gcsample),Tuple{Bool,Int64,Int64,Bool,Bool}}}, ::typeof(run), ::BenchmarkTools.Benchmark{Symbol(\"##benchmark#451\")}, ::BenchmarkTools.Parameters) at C:\\Users\\jbola\\.julia\\packages\\BenchmarkTools\\eCEpo\\src\\execution.jl:94",
      " [12] #run at .\\none:0 [inlined] (repeats 2 times)",
      " [13] #warmup#45 at C:\\Users\\jbola\\.julia\\packages\\BenchmarkTools\\eCEpo\\src\\execution.jl:141 [inlined]",
      " [14] warmup(::BenchmarkTools.Benchmark{Symbol(\"##benchmark#451\")}) at C:\\Users\\jbola\\.julia\\packages\\BenchmarkTools\\eCEpo\\src\\execution.jl:141",
      " [15] top-level scope at C:\\Users\\jbola\\.julia\\packages\\BenchmarkTools\\eCEpo\\src\\execution.jl:287",
      " [16] top-level scope at In[124]:3"
     ]
    }
   ],
   "source": [
    "# benchmark your implementation\n",
    "L = Matrix(cholesky(Σ).L)\n",
    "bm2 = @benchmark logl!($obs, $β, $L, $σ²)"
   ]
  },
  {
   "cell_type": "markdown",
   "metadata": {},
   "source": [
    "The points you will get is\n",
    "$$\\frac{x}{1000} \\times 30,$$\n",
    "\n",
    "where $x$ is the speedup of your program against the standard method."
   ]
  },
  {
   "cell_type": "code",
   "execution_count": null,
   "metadata": {},
   "outputs": [],
   "source": [
    "# this is the points you'll get\n",
    "clamp(median(bm1).time / median(bm2).time / 1000 * 30, 0, 30)"
   ]
  },
  {
   "cell_type": "markdown",
   "metadata": {},
   "source": [
    "Hint: Apparently I am using 1000 as denominator because I expect your code to be at least  1000×  faster than the standard method."
   ]
  },
  {
   "cell_type": "markdown",
   "metadata": {},
   "source": [
    "### Question 5: Memory\n",
    "\n",
    "You want to avoid memory allocation in the \"hot\" function `logl!`. You will lose 1 point for each `1 KiB = 1024 bytes` memory allocation. In other words, the points you get for this question is"
   ]
  },
  {
   "cell_type": "code",
   "execution_count": null,
   "metadata": {},
   "outputs": [],
   "source": [
    "clamp(30 - median(bm2).memory / 1024, 0, 30)"
   ]
  },
  {
   "cell_type": "markdown",
   "metadata": {},
   "source": [
    "Hint: I am able to reduce the memory allocation to 0 bytes."
   ]
  },
  {
   "cell_type": "markdown",
   "metadata": {},
   "source": [
    "### Question 6: Misc.\n",
    "\n",
    "Coding style, Git workflow, etc. For reproducibity, make sure we (TA and myself) can run your Jupyter Notebook. That is how we grade Q4 and Q5. If we cannot run it, you will get zero points."
   ]
  },
  {
   "cell_type": "code",
   "execution_count": null,
   "metadata": {},
   "outputs": [],
   "source": []
  }
 ],
 "metadata": {
  "kernelspec": {
   "display_name": "Julia 1.3.0",
   "language": "julia",
   "name": "julia-1.3"
  },
  "language_info": {
   "file_extension": ".jl",
   "mimetype": "application/julia",
   "name": "julia",
   "version": "1.3.0"
  }
 },
 "nbformat": 4,
 "nbformat_minor": 4
}
