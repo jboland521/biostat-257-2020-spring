{
 "cells": [
  {
   "cell_type": "markdown",
   "metadata": {},
   "source": [
    "## BIOSTAT 257 Homework 2\n",
    "\n",
    "Consider a linear mixed effects model\n",
    "\n",
    "$$Y_i = X_i\\beta + Z_i\\gamma + \\epsilon_i, \\quad i = 1,\\ldots,n$$\n",
    "\n",
    "where\n",
    "\n",
    "- $Y_i \\in \\mathbb{R}^{n_i}$ is the reponse vector of the $i$-th individual,\n",
    "- $X_i \\in \\mathbb{R}^{n_i \\times p}$ is the fixed effect predictor matrix of  $i$-th individual,\n",
    "- $Z_i \\in \\mathbb{R}^{n_i \\times q}$ is the random effect predictor matrix of  $i$-th individual, \n",
    "- $\\epsilon_i \\in \\mathbb{R}^{n_i}$ are multivariate normal $N(0_{n_i}, \\sigma^2 I_{n_i})$,\n",
    "- $\\beta \\in \\mathbb{R}^{p}$ are fixed effects, and\n",
    "- $\\gamma \\in \\mathbb{R}^{q}$ are random effects assumed to be $N(0_{q}, \\Sigma_{q \\times q})$ independent of $\\epsilon_i$."
   ]
  },
  {
   "cell_type": "markdown",
   "metadata": {},
   "source": [
    "### Question 1: Formula\n",
    "\n",
    "Write down the log-likelihood of the  $i$-th datum  $(Y_i,X_i,Z_i)$  given parameters $(\\beta,\\Sigma,\\sigma^2)$.\n",
    "\n",
    "The marginal distribution of $Y_i \\sim N(X_i \\beta, Z_i \\Sigma Z_i^T + \\sigma^2 I_{n_i})$\n",
    "\n",
    "$$\\ell(\\beta,\\Sigma,\\sigma^2) = -\\frac{n_i}{2}\\text{log}(2\\pi) - \\frac{1}{2}\\text{log}|Z_i \\Sigma Z_i^T + \\sigma^2 I_{n_i}| - \\frac{1}{2}(Y_i - X_i \\beta)^T(Z_i \\Sigma Z_i^T + \\sigma^2 I_{n_i})^{-1}(Y_i - X_i \\beta)$$\n",
    "\n",
    "We can use Woodbury to help us calculate the inverse of the covariance matrix as\n",
    "\n",
    "$$(Z_i \\Sigma Z_i^T + \\sigma^2 I_{n_i})^{-1} = \\frac{1}{\\sigma^2}I -\\frac{1}{\\sigma^4}Z\\Bigg(\\Sigma^{-1} + \\frac{1}{\\sigma^2}Z^TZ\\Bigg)^{-1}Z^T$$\n",
    "\n",
    "and we can use the subsequent properties of determinants to \n",
    "\n",
    "$$\\text{det}(\\sigma^2I + Z\\Sigma Z^T) = \\sigma^{2n}\\text{det}(\\Sigma)\\text{det}\\Bigg(\\Sigma^{-1} +\\frac{1}{\\sigma^2}Z^TZ\\Bigg\n",
    ")$$"
   ]
  },
  {
   "cell_type": "markdown",
   "metadata": {},
   "source": [
    "### Question 2: Start-up Code\n",
    "\n",
    "Use the following template to define a type `LmmObs` that holds an LMM datum $(y_i,X_i,Z_i)$."
   ]
  },
  {
   "cell_type": "code",
   "execution_count": 16,
   "metadata": {},
   "outputs": [
    {
     "data": {
      "text/plain": [
       "LmmObs"
      ]
     },
     "execution_count": 16,
     "metadata": {},
     "output_type": "execute_result"
    }
   ],
   "source": [
    "# define a type that holds LMM datum\n",
    "struct LmmObs{T <: AbstractFloat}\n",
    "    # data\n",
    "    y :: Vector{T}\n",
    "    X :: Matrix{T}\n",
    "    Z :: Matrix{T}\n",
    "    # working arrays\n",
    "    # whatever intermediate arrays you may want to pre-allocate\n",
    "    res        :: Vector{T}\n",
    "    storage_q  :: Vector{T}\n",
    "    ztz        :: Matrix{T}\n",
    "    storage_qq :: Matrix{T}\n",
    "end\n",
    "\n",
    "# constructor\n",
    "function LmmObs(\n",
    "        y::Vector{T}, \n",
    "        X::Matrix{T}, \n",
    "        Z::Matrix{T}) where T <: AbstractFloat\n",
    "    res        = similar(y)\n",
    "    storage_q  = Vector{T}(undef, size(Z, 2))\n",
    "    ztz        = transpose(Z) * Z\n",
    "    storage_qq = similar(ztz)\n",
    "    LmmObs(y, X, Z, res, storage_q, ztz, storage_qq)\n",
    "end\n"
   ]
  },
  {
   "cell_type": "markdown",
   "metadata": {},
   "source": [
    "Write a function, with interface `logl!(obs, β, L, σ²)` that evaluates the log-likelihood of the $i$-th datum. Here `L` is the lower triangular Cholesky factor from the Cholesky decomposition `Σ=LL'`. Make your code efficient in the $n_i≫q$ case. Think the intensive longitudinal measurement setting."
   ]
  },
  {
   "cell_type": "code",
   "execution_count": 50,
   "metadata": {},
   "outputs": [
    {
     "data": {
      "text/plain": [
       "logl! (generic function with 1 method)"
      ]
     },
     "execution_count": 50,
     "metadata": {},
     "output_type": "execute_result"
    }
   ],
   "source": [
    "using BenchmarkTools, Distributions, LinearAlgebra, Random\n",
    "\n",
    "function logl!(\n",
    "        obs :: LmmObs{T}, \n",
    "        β   :: Vector{T}, \n",
    "        L   :: Matrix{T}, \n",
    "        σ²  :: T) where T <: AbstractFloat\n",
    "    n, p, q = size(obs.X, 1), size(obs.X, 2), size(obs.Z, 2)    \n",
    "    # TODO: compute and return the log-likelihood\n",
    "    res = y - X * β\n",
    "    ztz = transpose(Z) * Z\n",
    "    c = -(n/2) * log(2 * π)\n",
    "    logdet = n * log(σ²) + 2 * LinearAlgebra.logdet(L) + LinearAlgebra.logdet(inv(L * L') + (1/σ²) * ztz)\n",
    "    quad = res' * inv(Z * L * L' * Z' + σ² * I) * res\n",
    "    l = c - (1/2) * logdet - (1/2) * quad\n",
    "    return l\n",
    "end"
   ]
  },
  {
   "cell_type": "markdown",
   "metadata": {},
   "source": [
    "Hint: This function shouldn't be very long. Mine, obeying 80-character rule, is 25 lines. If you find yourself writing very long code, you're on the wrong track. Think about algorithm first then use BLAS functions to reduce memory allocations."
   ]
  },
  {
   "cell_type": "markdown",
   "metadata": {},
   "source": [
    "### Question 3: Correctness\n",
    "\n",
    "Compare your result (both accuracy and timing) to the Distributions.jl package using following data.\n"
   ]
  },
  {
   "cell_type": "code",
   "execution_count": 51,
   "metadata": {},
   "outputs": [
    {
     "data": {
      "text/plain": [
       "LmmObs{Float64}([5.739048710854997, 5.705395720270055, 2.7368899643050355, 1.4201223592870755, -0.2099433929180451, 3.5886971824690486, -1.3778538474575956, -0.08406026821055246, -2.208007878450787, 1.309558511583542  …  1.2947876180172684, -1.9701265304395086, -2.040383092851745, -1.4590296825658675, 0.18616271231054726, 1.0681247149968018, 2.2292080864625254, 1.1952385354603545, 1.1310626949609701, -0.43507816286713785], [1.0 -2.506566300781151 … 0.5863780184080776 1.1092991040518192; 1.0 -0.974090320735282 … 1.4143507320583761 0.45608259198567447; … ; 1.0 -1.0076371084863895 … -1.3241972696483915 1.4547609424344008; 1.0 0.38036793320364776 … -0.5857507269707397 1.796804266836504], [1.0 -0.6380567326757537 1.4738982136806946; 1.0 -2.0711110232845926 0.21422658785510312; … ; 1.0 0.5917731507133951 -0.9163364468263059; 1.0 0.9463732120394507 -0.325860403600768], [0.9505714856316271, 0.37092858612266166, -0.44449895072661133, 0.7146876210613555, 0.16037645936873557, 0.6082404954570331, -0.09959009926459961, 1.7651674152152412, -0.06441031814008213, -0.8633644206116653  …  0.6674805213030699, -0.2589337919634689, -1.18124045531064, -0.3971569969237507, -0.21906952367523957, 0.5342707180645272, 1.3166246198467406, 0.07541586464654326, 0.20673774835277814, 0.04305419322321369], [8.8155129e-316, 5.70839337e-316, 5.70839337e-316], [2000.0 -11.2035856885878 -23.35638533913959; -11.2035856885878 1972.7426082447305 27.303296982632173; -23.35638533913959 27.303296982632173 2034.203494486357], [1.404636457e-315 1.40463693e-315 1.404637406e-315; 1.404636615e-315 1.40463709e-315 1.404637564e-315; 1.404636773e-315 1.40463725e-315 1.40463772e-315])"
      ]
     },
     "execution_count": 51,
     "metadata": {},
     "output_type": "execute_result"
    }
   ],
   "source": [
    "Random.seed!(257)\n",
    "# dimension\n",
    "n, p, q = 2000, 5, 3\n",
    "# predictors\n",
    "X  = [ones(n) randn(n, p - 1)]\n",
    "Z  = [ones(n) randn(n, q - 1)]\n",
    "# parameter values\n",
    "β  = [2.0; -1.0; rand(p - 2)]\n",
    "σ² = 1.5\n",
    "Σ  = fill(0.1, q, q) + 0.9I\n",
    "# generate y\n",
    "y  = X * β + Z * rand(MvNormal(Σ)) + sqrt(σ²) * randn(n)\n",
    "\n",
    "# form an LmmObs object\n",
    "obs = LmmObs(y, X, Z)"
   ]
  },
  {
   "cell_type": "markdown",
   "metadata": {},
   "source": [
    "This is the standard way to evaluate log-density of a multivariate normal, using the Distributions.jl package. Let's evaluate the log-likelihood of this datum."
   ]
  },
  {
   "cell_type": "code",
   "execution_count": 52,
   "metadata": {},
   "outputs": [
    {
     "data": {
      "text/plain": [
       "-3247.456858063827"
      ]
     },
     "execution_count": 52,
     "metadata": {},
     "output_type": "execute_result"
    }
   ],
   "source": [
    "μ  = X * β\n",
    "Ω  = Z * Σ * transpose(Z) +  σ² * I\n",
    "mvn = MvNormal(μ, Symmetric(Ω)) # MVN(μ, Σ)\n",
    "logpdf(mvn, y)"
   ]
  },
  {
   "cell_type": "markdown",
   "metadata": {},
   "source": [
    "Check that your answer matches that from Distributions.jl"
   ]
  },
  {
   "cell_type": "code",
   "execution_count": 53,
   "metadata": {},
   "outputs": [
    {
     "data": {
      "text/plain": [
       "-3247.456858063826"
      ]
     },
     "execution_count": 53,
     "metadata": {},
     "output_type": "execute_result"
    }
   ],
   "source": [
    "L = Matrix(cholesky(Σ).L)\n",
    "logl!(obs, β, L, σ²)"
   ]
  },
  {
   "cell_type": "markdown",
   "metadata": {},
   "source": [
    "You will lose all 15 + 30 + 30 = 75 points if the following statement throws AssertError."
   ]
  },
  {
   "cell_type": "code",
   "execution_count": 54,
   "metadata": {},
   "outputs": [],
   "source": [
    "@assert logl!(obs, β, Matrix(cholesky(Σ).L), σ²) ≈ logpdf(mvn, y)"
   ]
  },
  {
   "cell_type": "markdown",
   "metadata": {},
   "source": [
    "### Question 4: Efficiency\n",
    "\n",
    "Benchmarking your code and compare to the Distributions.jl function `logpdf`."
   ]
  },
  {
   "cell_type": "code",
   "execution_count": 55,
   "metadata": {},
   "outputs": [
    {
     "data": {
      "text/plain": [
       "BenchmarkTools.Trial: \n",
       "  memory estimate:  30.55 MiB\n",
       "  allocs estimate:  5\n",
       "  --------------\n",
       "  minimum time:     12.160 ms (0.00% GC)\n",
       "  median time:      12.785 ms (0.00% GC)\n",
       "  mean time:        15.033 ms (12.64% GC)\n",
       "  maximum time:     28.803 ms (41.98% GC)\n",
       "  --------------\n",
       "  samples:          334\n",
       "  evals/sample:     1"
      ]
     },
     "execution_count": 55,
     "metadata": {},
     "output_type": "execute_result"
    }
   ],
   "source": [
    "# benchmark the `logpdf` function in Distribution.jl\n",
    "bm1 = @benchmark logpdf($mvn, $y)"
   ]
  },
  {
   "cell_type": "code",
   "execution_count": 56,
   "metadata": {},
   "outputs": [
    {
     "data": {
      "text/plain": [
       "BenchmarkTools.Trial: \n",
       "  memory estimate:  92.69 MiB\n",
       "  allocs estimate:  47\n",
       "  --------------\n",
       "  minimum time:     182.091 ms (0.00% GC)\n",
       "  median time:      201.078 ms (3.16% GC)\n",
       "  mean time:        206.315 ms (2.93% GC)\n",
       "  maximum time:     251.909 ms (5.56% GC)\n",
       "  --------------\n",
       "  samples:          25\n",
       "  evals/sample:     1"
      ]
     },
     "execution_count": 56,
     "metadata": {},
     "output_type": "execute_result"
    }
   ],
   "source": [
    "# benchmark your implementation\n",
    "L = Matrix(cholesky(Σ).L)\n",
    "bm2 = @benchmark logl!($obs, $β, $L, $σ²)"
   ]
  },
  {
   "cell_type": "markdown",
   "metadata": {},
   "source": [
    "The points you will get is\n",
    "$$\\frac{x}{1000} \\times 30,$$\n",
    "\n",
    "where $x$ is the speedup of your program against the standard method."
   ]
  },
  {
   "cell_type": "code",
   "execution_count": 57,
   "metadata": {},
   "outputs": [
    {
     "data": {
      "text/plain": [
       "0.0019074081911456295"
      ]
     },
     "execution_count": 57,
     "metadata": {},
     "output_type": "execute_result"
    }
   ],
   "source": [
    "# this is the points you'll get\n",
    "clamp(median(bm1).time / median(bm2).time / 1000 * 30, 0, 30)"
   ]
  },
  {
   "cell_type": "markdown",
   "metadata": {},
   "source": [
    "Hint: Apparently I am using 1000 as denominator because I expect your code to be at least  1000×  faster than the standard method."
   ]
  },
  {
   "cell_type": "markdown",
   "metadata": {},
   "source": [
    "### Question 5: Memory\n",
    "\n",
    "You want to avoid memory allocation in the \"hot\" function `logl!`. You will lose 1 point for each `1 KiB = 1024 bytes` memory allocation. In other words, the points you get for this question is"
   ]
  },
  {
   "cell_type": "code",
   "execution_count": 134,
   "metadata": {},
   "outputs": [
    {
     "data": {
      "text/plain": [
       "0.0"
      ]
     },
     "execution_count": 134,
     "metadata": {},
     "output_type": "execute_result"
    }
   ],
   "source": [
    "clamp(30 - median(bm2).memory / 1024, 0, 30)"
   ]
  },
  {
   "cell_type": "markdown",
   "metadata": {},
   "source": [
    "Hint: I am able to reduce the memory allocation to 0 bytes."
   ]
  },
  {
   "cell_type": "markdown",
   "metadata": {},
   "source": [
    "### Question 6: Misc.\n",
    "\n",
    "Coding style, Git workflow, etc. For reproducibity, make sure we (TA and myself) can run your Jupyter Notebook. That is how we grade Q4 and Q5. If we cannot run it, you will get zero points."
   ]
  },
  {
   "cell_type": "code",
   "execution_count": null,
   "metadata": {},
   "outputs": [],
   "source": []
  },
  {
   "cell_type": "code",
   "execution_count": null,
   "metadata": {},
   "outputs": [],
   "source": []
  }
 ],
 "metadata": {
  "kernelspec": {
   "display_name": "Julia 1.3.0",
   "language": "julia",
   "name": "julia-1.3"
  },
  "language_info": {
   "file_extension": ".jl",
   "mimetype": "application/julia",
   "name": "julia",
   "version": "1.3.0"
  }
 },
 "nbformat": 4,
 "nbformat_minor": 4
}
