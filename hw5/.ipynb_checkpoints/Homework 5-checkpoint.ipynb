{
 "cells": [
  {
   "cell_type": "markdown",
   "metadata": {},
   "source": [
    "## BIOSTAT 257: Homework 5\n",
    "### Joanna Boland\n",
    "\n",
    "Again we continue with the linear mixed effects model (LMM)\n",
    "$$\n",
    "    \\mathbf{Y}_i = \\mathbf{X}_i \\boldsymbol{\\beta} + \\mathbf{Z}_i \\boldsymbol{\\gamma} + \\boldsymbol{\\epsilon}_i, \\quad i=1,\\ldots,n,\n",
    "$$\n",
    "where   \n",
    "- $\\mathbf{Y}_i \\in \\mathbb{R}^{n_i}$ is the response vector of $i$-th individual,  \n",
    "- $\\mathbf{X}_i \\in \\mathbb{R}^{n_i \\times p}$ is the fixed effects predictor matrix of $i$-th individual,  \n",
    "- $\\mathbf{Z}_i \\in \\mathbb{R}^{n_i \\times q}$ is the random effects predictor matrix of $i$-th individual,  \n",
    "- $\\boldsymbol{\\epsilon}_i \\in \\mathbb{R}^{n_i}$ are multivariate normal $N(\\mathbf{0}_{n_i},\\sigma^2 \\mathbf{I}_{n_i})$,  \n",
    "- $\\boldsymbol{\\beta} \\in \\mathbb{R}^p$ are fixed effects, and  \n",
    "- $\\boldsymbol{\\gamma} \\in \\mathbb{R}^q$ are random effects assumed to be $N(\\mathbf{0}_q, \\boldsymbol{\\Sigma}_{q \\times q}$) independent of $\\boldsymbol{\\epsilon}_i$.\n",
    "\n",
    "The log-likelihood of the $i$-th datum $(\\mathbf{y}_i, \\mathbf{X}_i, \\mathbf{Z}_i)$ is \n",
    "$$\n",
    "    \\ell_i(\\boldsymbol{\\beta}, \\mathbf{L}, \\sigma_0^2) = - \\frac{n_i}{2} \\log (2\\pi) - \\frac{1}{2} \\log \\det \\boldsymbol{\\Omega}_i - \\frac{1}{2} (\\mathbf{y} - \\mathbf{X}_i \\boldsymbol{\\beta})^T \\boldsymbol{\\Omega}_i^{-1} (\\mathbf{y} - \\mathbf{X}_i \\boldsymbol{\\beta}),\n",
    "$$\n",
    "where\n",
    "$$\n",
    "    \\boldsymbol{\\Omega}_i = \\sigma^2 \\mathbf{I}_{n_i} + \\mathbf{Z}_i \\boldsymbol{\\Sigma} \\mathbf{Z}_i^T.\n",
    "$$\n",
    "Given $m$ independent data points $(\\mathbf{y}_i, \\mathbf{X}_i, \\mathbf{Z}_i)$, $i=1,\\ldots,m$, we seek the maximum likelihood estimate (MLE) by maximizing the log-likelihood\n",
    "$$\n",
    "\\ell(\\boldsymbol{\\beta}, \\boldsymbol{\\Sigma}, \\sigma_0^2) = \\sum_{i=1}^m \\ell_i(\\boldsymbol{\\beta}, \\boldsymbol{\\Sigma}, \\sigma_0^2).\n",
    "$$\n",
    "\n",
    "In HW4, we used the nonlinear programming (NLP) approach (Newton type algorithms) for optimization. In this assignment, we derive and implement an expectation-maximization (EM) algorithm for the same problem."
   ]
  },
  {
   "cell_type": "code",
   "execution_count": 1,
   "metadata": {},
   "outputs": [],
   "source": [
    "# load necessary packages; make sure install them first\n",
    "using BenchmarkTools, Distributions, LinearAlgebra, Random, Revise"
   ]
  },
  {
   "cell_type": "markdown",
   "metadata": {},
   "source": [
    "### Question 1: Refresher on Normal-Normal Model\n",
    "\n",
    "Assume the conditional distribution\n",
    "$$\n",
    "\\mathbf{y} \\mid \\boldsymbol{\\gamma} \\sim N(\\mathbf{X} \\boldsymbol{\\beta} + \\mathbf{Z} \\boldsymbol{\\gamma}, \\sigma^2 \\mathbf{I}_n)\n",
    "$$\n",
    "and the prior distribution\n",
    "$$\n",
    "\\boldsymbol{\\gamma} \\sim N(\\mathbf{0}_q, \\boldsymbol{\\Sigma}).\n",
    "$$\n",
    "By the Bayes theorem, the posterior distribution is\n",
    "\\begin{eqnarray*}\n",
    "f(\\boldsymbol{\\gamma} \\mid \\mathbf{y}) &=& \\frac{f(\\mathbf{y} \\mid \\boldsymbol{\\gamma}) \\times f(\\boldsymbol{\\gamma})}{f(\\mathbf{y})}, \\end{eqnarray*}\n",
    "where $f$ denotes corresponding density. \n",
    "\n",
    "Note that\n",
    "\\begin{eqnarray*}\n",
    "f(\\boldsymbol{\\gamma}) &\\propto& \\text{exp}\\Bigg(-\\frac{1}{2}\\boldsymbol{\\gamma}^T\\boldsymbol{\\Sigma}^{-1} \\boldsymbol{\\gamma}\\Bigg), \\\\ \n",
    "f(\\mathbf{y} \\mid \\boldsymbol{\\gamma}) &\\propto& \\text{exp}\\Bigg(-\\frac{1}{2}(\\mathbf{y} - \\mathbf{X} \\boldsymbol{\\beta} + \\mathbf{Z} \\boldsymbol{\\gamma})^T(\\sigma^2 \\mathbf{I}_n)^{-1} (\\mathbf{y} - \\mathbf{X} \\boldsymbol{\\beta} + \\mathbf{Z} \\boldsymbol{\\gamma})\\Bigg) \\\\\n",
    "f(\\mathbf{y} \\mid \\boldsymbol{\\gamma}) &\\propto& \\text{exp}\\Bigg(-\\frac{1}{2}\\sigma^{-2}\\boldsymbol{\\gamma}^T\\mathbf{Z}^T\\mathbf{Z}\\boldsymbol{\\gamma} - \\sigma^{-2}\\boldsymbol{\\gamma}^T\\mathbf{Z}^T(\\mathbf{y} - \\mathbf{X} \\boldsymbol{\\beta})\\Bigg) \\\\\n",
    "f(\\boldsymbol{\\gamma} \\mid \\mathbf{y}) &\\propto& f(\\mathbf{y} \\mid \\boldsymbol{\\gamma}) f(\\boldsymbol{\\gamma}) \\\\\n",
    "f(\\boldsymbol{\\gamma} \\mid \\mathbf{y}) &\\propto& \\text{exp}\\Bigg(-\\frac{1}{2}\\boldsymbol{\\gamma}^T\\boldsymbol{\\Sigma}^{-1} \\boldsymbol{\\gamma} -\\frac{1}{2}\\sigma^{-2}\\boldsymbol{\\gamma}^T\\mathbf{Z}^T\\mathbf{Z}\\boldsymbol{\\gamma} - \\sigma^{-2}\\boldsymbol{\\gamma}^T\\mathbf{Z}^T(\\mathbf{y} - \\mathbf{X} \\boldsymbol{\\beta})\\Bigg) \\\\\n",
    "f(\\boldsymbol{\\gamma} \\mid \\mathbf{y}) &\\propto& \\text{exp}\\Bigg(-\\frac{1}{2}\\boldsymbol{\\gamma}^T(\\boldsymbol{\\Sigma}^{-1} + \\sigma^{-2}\\mathbf{Z}^T\\mathbf{Z}) \\boldsymbol{\\gamma}^T - \\sigma^{-2}\\boldsymbol{\\gamma}^T\\mathbf{Z}^T(\\mathbf{y} - \\mathbf{X} \\boldsymbol{\\beta})\\Bigg)\n",
    "\\end{eqnarray*}\n",
    "\n",
    "Therefore, using properties of normal distributions and completing the square, we know that \n",
    "\n",
    "$$\\mathbf{y} \\mid \\boldsymbol{\\gamma} \\sim N(A^{-1}b, A^{-1})$$,\n",
    "\n",
    "where\n",
    "$$A = \\boldsymbol{\\Sigma}^{-1} + \\sigma^{-2}\\mathbf{Z}^T\\mathbf{Z}, \\quad b = \\sigma^{-2}\\mathbf{Z}^T(\\mathbf{y} - \\mathbf{X} \\boldsymbol{\\beta})$$\n",
    "\n",
    "Therefore, by the Woodbury Identity\n",
    "\n",
    "$$\\text{Var} (\\boldsymbol{\\gamma} \\mid \\mathbf{y}) = (\\boldsymbol{\\Sigma}^{-1} + \\sigma^{-2}\\mathbf{Z}^T\\mathbf{Z})^{-1}$$\n",
    "$$\\text{Var} (\\boldsymbol{\\gamma} \\mid \\mathbf{y}) = \\boldsymbol{\\Sigma} - \\boldsymbol{\\Sigma}\\mathbf{Z}^T(\\sigma^{2}\\mathbf{I} + \\mathbf{Z}\\boldsymbol{\\Sigma}\\mathbf{Z}^T)^{-1}\\mathbf{Z}\\boldsymbol{\\Sigma}$$,\n",
    "\n",
    "and additionally\n",
    "\n",
    "\\begin{eqnarray*}\n",
    "\\mathbb{E} (\\boldsymbol{\\gamma} \\mid \\mathbf{y}) &=& \\sigma^{-2} (\\sigma^{-2} \\mathbf{Z}^T \\mathbf{Z} + \\boldsymbol{\\Sigma}^{-1})^{-1 } \\mathbf{Z}^T (\\mathbf{y} - \\mathbf{X} \\boldsymbol{\\beta}) \\\\\n",
    "&=& \\sigma^{-2}(\\boldsymbol{\\Sigma} - \\boldsymbol{\\Sigma}\\mathbf{Z}^T(\\sigma^{2}\\mathbf{I} + \\mathbf{Z}\\boldsymbol{\\Sigma}\\mathbf{Z}^T)^{-1}\\mathbf{Z}\\boldsymbol{\\Sigma})\\mathbf{Z}^T (\\mathbf{y} - \\mathbf{X} \\boldsymbol{\\beta}) \\\\\n",
    "&=& \\boldsymbol{\\Sigma}\\mathbf{Z}^T(\\sigma^{-2}\\mathbf{I} - \\sigma^{-2}(\\sigma^{2}\\mathbf{I} + \\mathbf{Z}\\boldsymbol{\\Sigma}\\mathbf{Z}^T)^{-1}\\mathbf{Z}\\boldsymbol{\\Sigma}\\mathbf{Z}^T)(\\mathbf{y} - \\mathbf{X} \\boldsymbol{\\beta}) \\\\\n",
    "&=& \\boldsymbol{\\Sigma}\\mathbf{Z}^T(\\sigma^{2}\\mathbf{I} + \\mathbf{Z}\\boldsymbol{\\Sigma}\\mathbf{Z}^T)^{-1}(\\sigma^{-2}\\mathbf{I}(\\sigma^{2}\\mathbf{I} + \\mathbf{Z}\\boldsymbol{\\Sigma}\\mathbf{Z}^T) - \\sigma^{-2}\\mathbf{Z}\\boldsymbol{\\Sigma}\\mathbf{Z}^T)(\\mathbf{y} - \\mathbf{X} \\boldsymbol{\\beta}) \\\\\n",
    "&=& \\boldsymbol{\\Sigma}\\mathbf{Z}^T(\\sigma^{2}\\mathbf{I} + \\mathbf{Z}\\boldsymbol{\\Sigma}\\mathbf{Z}^T)^{-1}(\\mathbf{I} + \\sigma^{-2}\\mathbf{Z}\\boldsymbol{\\Sigma}\\mathbf{Z}^T - \\sigma^{-2}\\mathbf{Z}\\boldsymbol{\\Sigma}\\mathbf{Z}^T)(\\mathbf{y} - \\mathbf{X} \\boldsymbol{\\beta}) \\\\\n",
    "&=& \\boldsymbol{\\Sigma}\\mathbf{Z}^T(\\sigma^{2}\\mathbf{I} + \\mathbf{Z}\\boldsymbol{\\Sigma}\\mathbf{Z}^T)^{-1}(\\mathbf{y} - \\mathbf{X} \\boldsymbol{\\beta})\n",
    "\\end{eqnarray*}"
   ]
  },
  {
   "cell_type": "markdown",
   "metadata": {},
   "source": [
    "### Question 2: Derive EM Algorithm\n",
    "\n",
    "1. Write down the complete log-likelihood\n",
    "\n",
    "\\begin{eqnarray*}\n",
    "\\sum_{i=1}^m \\log f(\\mathbf{y}_i, \\boldsymbol{\\gamma}_i \\mid \\boldsymbol{\\beta}, \\boldsymbol{\\Sigma}, \\sigma^2) &=& \\sum_{i=1}^m [\\log f(\\mathbf{y}_i \\mid  \\boldsymbol{\\gamma}_i,\\boldsymbol{\\beta}, \\sigma^2) + \\log f( \\boldsymbol{\\gamma}_i \\mid \\boldsymbol{\\Sigma})] \\\\\n",
    "&=& \\sum_{i=1}^m \\Bigg[- \\frac{n_i}{2} \\log (2\\pi) - \\frac{1}{2} \\log \\det (\\sigma^{2}\\mathbf{I}_{n_i}) - \\frac{1}{2} (\\mathbf{y}_i - \\mathbf{X}_i \\boldsymbol{\\beta} - \\mathbf{Z}_i \\boldsymbol{\\gamma}_i)^T \\sigma^{-2}\\mathbf{I}_{n_i} (\\mathbf{y}_i - \\mathbf{X}_i \\boldsymbol{\\beta} - \\mathbf{Z}_i \\boldsymbol{\\gamma}_i)\n",
    "- \\frac{q}{2} \\log (2\\pi) - \\frac{1}{2} \\log \\det \\boldsymbol{\\Sigma} - \\frac{1}{2} \\boldsymbol{\\gamma}_i^T \\Sigma^{-1}\\boldsymbol{\\gamma}_i\\Bigg] \n",
    "\\end{eqnarray*}\n",
    "\n",
    "2. Derive the $Q$ function (E-step).\n",
    "\n",
    "\\begin{eqnarray*}\n",
    "Q(\\boldsymbol{\\beta}, \\boldsymbol{\\Sigma}, \\sigma^2 \\mid \\boldsymbol{\\beta}^{(t)}, \\boldsymbol{\\Sigma}^{(t)}, \\sigma^{2(t)}) &=& E_{\\boldsymbol{\\gamma}}\\Bigg[\\sum_{i=1}^m \\log f(\\mathbf{y}_i, \\boldsymbol{\\gamma}_i \\mid \\boldsymbol{\\beta}, \\boldsymbol{\\Sigma}, \\sigma^2)\\mid \\mathbf{y}_i \\Bigg] \\\\\n",
    "&=& \\sum_{i}- \\frac{n_i}{2} \\log (2\\pi) - \\frac{1}{2\\sigma^{2}}\\sum_{i}E[\\mathbf{r}^T\\mathbf{r}] - \\sum_{i}\\frac{1}{2}\\log \\det (\\sigma^{2}\\mathbf{I}_{n_i}) - \\sum_{i}\\frac{1}{2} \\log \\det \\boldsymbol{\\Sigma} - \\frac{1}{2} \\sum_{i}E[\\boldsymbol{\\gamma}^T \\Sigma^{-1}\\boldsymbol{\\gamma}]\n",
    "\\end{eqnarray*}\n",
    "\n",
    "where \n",
    "\n",
    "$$E[\\mathbf{r}^T\\mathbf{r}] = (\\mathbf{y}_i - \\mathbf{X}_i \\boldsymbol{\\beta})^T(\\mathbf{y}_i - \\mathbf{X}_i \\boldsymbol{\\beta}) - 2(\\mathbf{y}_i - \\mathbf{X}_i \\boldsymbol{\\beta})^TZ\\mathbb{E} (\\boldsymbol{\\gamma} \\mid \\mathbf{y}) + \\mathbb{E} (\\boldsymbol{\\gamma} \\mid \\mathbf{y})^T\\mathbf{Z}_i^T\\mathbf{Z}_i \\mathbb{E} (\\boldsymbol{\\gamma} \\mid \\mathbf{y})$$,\n",
    "$$\\mathbb{E} [\\boldsymbol{\\gamma}^T\\boldsymbol{\\gamma}] = \\text{Var} (\\boldsymbol{\\gamma} \\mid \\mathbf{y}) + \\mathbb{E} (\\boldsymbol{\\gamma} \\mid \\mathbf{y})\\mathbb{E} (\\boldsymbol{\\gamma} \\mid \\mathbf{y})^T$$\n",
    "\n",
    "3. Derive the EM (or ECM) update of $\\boldsymbol{\\beta}$, $\\boldsymbol{\\Sigma}$, and $\\sigma^2$ (M-step). \n",
    "\\begin{eqnarray*}\n",
    "\\frac{\\partial Q}{\\partial \\boldsymbol{\\beta}} &=& \\frac{1}{2\\sigma^{2}}\\sum_{i}\\bigg(2(\\mathbf{y}_i - \\mathbf{X}_i \\boldsymbol{\\beta})^T\\mathbf{X}_i + 2\\mathbf{X}_i^TZ_i\\mathbb{E} (\\boldsymbol{\\gamma} \\mid \\mathbf{y})\\bigg) = 0 \\\\\n",
    "&\\rightarrow& \\boldsymbol{\\beta} = \\frac{\\sum_{i}[\\mathbf{X}_i^T\\mathbf{y}_i +\\mathbf{X}_i^TZ_i\\mathbb{E} (\\boldsymbol{\\gamma} \\mid \\mathbf{y}) ]}{\\sum_{i}[\\mathbf{X}_i^T\\mathbf{X}_i]}\n",
    "\\end{eqnarray*}\n",
    "\n",
    "\\begin{eqnarray*}\n",
    "\\frac{\\partial Q}{\\partial \\sigma^{2}} &=& -\\frac{1}{2}\\sum_{i}\\Bigg[\\frac{n_i}{\\sigma^{2}} - \\frac{1}{\\sigma^{4}}E[\\mathbf{r}^T\\mathbf{r}]\\Bigg] = 0 \\\\\n",
    "&\\rightarrow& \\sigma^{2} = \\frac{\\sum_{i}E[\\mathbf{r}^T\\mathbf{r}]}{\\sum_{i}n_i}\n",
    "\\end{eqnarray*}\n",
    "\n",
    "\\begin{eqnarray*}\n",
    "\\frac{\\partial Q}{\\partial\\boldsymbol{\\Sigma}} &=& m - \\sum_{i}\\boldsymbol{\\Sigma}^{-1}\\text{Var} (\\boldsymbol{\\gamma} \\mid \\mathbf{y}) \\boldsymbol{\\Sigma}^{-1} -  \\sum_{i} \\mathbb{E} (\\boldsymbol{\\gamma} \\mid \\mathbf{y})\\mathbb{E} (\\boldsymbol{\\gamma} \\mid \\mathbf{y})^T\\boldsymbol{\\Sigma}^{-1} = 0 \\\\\n",
    "&\\rightarrow& \\boldsymbol{\\Sigma} = \\frac{\\sum_{i}\\text{Var} (\\boldsymbol{\\gamma} \\mid \\mathbf{y}) + \\sum_{i}\\mathbb{E} (\\boldsymbol{\\gamma} \\mid \\mathbf{y})\\mathbb{E} (\\boldsymbol{\\gamma} \\mid \\mathbf{y})^T}{m}\n",
    "\\end{eqnarray*}"
   ]
  },
  {
   "cell_type": "markdown",
   "metadata": {},
   "source": [
    "### Question 3: Objective of a single datum\n",
    "\n",
    "We modify the code from HW4 to evaluate the objective, the conditional mean of $\\boldsymbol{\\gamma}$, and the conditional variance of $\\boldsymbol{\\gamma}$. Start-up code is provided below. You do _not_ have to use this code."
   ]
  },
  {
   "cell_type": "code",
   "execution_count": 2,
   "metadata": {},
   "outputs": [
    {
     "data": {
      "text/plain": [
       "logl!"
      ]
     },
     "execution_count": 2,
     "metadata": {},
     "output_type": "execute_result"
    }
   ],
   "source": [
    "# define a type that holds an LMM datum\n",
    "struct LmmObs{T <: AbstractFloat}\n",
    "    # data\n",
    "    y          :: Vector{T}\n",
    "    X          :: Matrix{T}\n",
    "    Z          :: Matrix{T}\n",
    "    # posterior mean and variance of random effects γ\n",
    "    μγ         :: Vector{T} # posterior mean of random effects\n",
    "    νγ         :: Matrix{T} # posterior variance of random effects\n",
    "    # TODO: add whatever intermediate arrays you may want to pre-allocate\n",
    "    yty        :: T\n",
    "    rtr        :: Vector{T}\n",
    "    xty        :: Vector{T}\n",
    "    zty        :: Vector{T}\n",
    "    ztr        :: Vector{T}\n",
    "    ltztr      :: Vector{T}\n",
    "    xtr        :: Vector{T}\n",
    "    storage_p  :: Vector{T}\n",
    "    storage_q  :: Vector{T}\n",
    "    storage_q2  :: Vector{T}\n",
    "    xtx        :: Matrix{T}\n",
    "    ztx        :: Matrix{T}\n",
    "    ztz        :: Matrix{T}\n",
    "    ltztzl     :: Matrix{T}\n",
    "    storage_qq :: Matrix{T}\n",
    "    storage_qq2:: Matrix{T}\n",
    "end\n",
    "\n",
    "\"\"\"\n",
    "    LmmObs(y::Vector, X::Matrix, Z::Matrix)\n",
    "\n",
    "Create an LMM datum of type `LmmObs`.\n",
    "\"\"\"\n",
    "function LmmObs(\n",
    "    y::Vector{T}, \n",
    "    X::Matrix{T}, \n",
    "    Z::Matrix{T}) where T <: AbstractFloat\n",
    "    n, p, q = size(X, 1), size(X, 2), size(Z, 2)\n",
    "    μγ         = Vector{T}(undef, q)\n",
    "    νγ         = Matrix{T}(undef, q, q)\n",
    "    yty        = abs2(norm(y))\n",
    "    rtr        = Vector{T}(undef, 1)\n",
    "    xty        = transpose(X) * y\n",
    "    zty        = transpose(Z) * y\n",
    "    ztr        = similar(zty)\n",
    "    ltztr      = similar(zty)\n",
    "    xtr        = Vector{T}(undef, p)\n",
    "    storage_p  = similar(xtr)\n",
    "    storage_q  = Vector{T}(undef, q)\n",
    "    storage_q2  = Vector{T}(undef, q)\n",
    "    xtx        = transpose(X) * X\n",
    "    ztx        = transpose(Z) * X\n",
    "    ztz        = transpose(Z) * Z\n",
    "    ltztzl     = similar(ztz)\n",
    "    storage_qq = similar(ztz)\n",
    "    storage_qq2 = similar(ztz)\n",
    "\n",
    "    LmmObs(y, X, Z, μγ, νγ, \n",
    "        yty, rtr, xty, zty, ztr, ltztr, xtr,\n",
    "        storage_p, storage_q, storage_q2,\n",
    "        xtx, ztx, ztz, ltztzl, storage_qq, storage_qq2)\n",
    "end\n",
    "\n",
    "\"\"\"\n",
    "    logl!(obs::LmmObs, β, Σ, L, σ², updater = false)\n",
    "\n",
    "Evaluate the log-likelihood of a single LMM datum at parameter values `β`, `Σ`, \n",
    "and `σ²`. The lower triangular Cholesky factor `L` of `Σ` must be supplied too.\n",
    "The fields `obs.μγ` and `obs.νγ` are overwritten by the posterior mean and \n",
    "posterior variance of random effects. If `updater==true`, fields `obs.ztr`, \n",
    "`obs.xtr`, and `obs.rtr` are updated according to input parameter values. \n",
    "Otherwise, it assumes these three fields are pre-computed. \n",
    "\"\"\"\n",
    "function logl!(\n",
    "        obs     :: LmmObs{T}, \n",
    "        β       :: Vector{T}, \n",
    "        Σ       :: Matrix{T},\n",
    "        L       :: Matrix{T},\n",
    "        σ²      :: T,\n",
    "        updater :: Bool = false\n",
    "        ) where T <: AbstractFloat\n",
    "    n, p, q = size(obs.X, 1), size(obs.X, 2), size(obs.Z, 2)\n",
    "    σ²inv   = inv(σ²)\n",
    "    ####################\n",
    "    # Evaluate objective\n",
    "    ####################\n",
    "    # form the q-by-q matrix: Lt Zt Z L\n",
    "    copy!(obs.ltztzl, obs.ztz)\n",
    "    BLAS.trmm!('L', 'L', 'T', 'N', T(1), L, obs.ltztzl) # O(q^3)\n",
    "    BLAS.trmm!('R', 'L', 'N', 'N', T(1), L, obs.ltztzl) # O(q^3)        \n",
    "    # form the q-by-q matrix: M = σ² I + Lt Zt Z L\n",
    "    copy!(obs.storage_qq, obs.ltztzl)\n",
    "    @inbounds for j in 1:q\n",
    "        obs.storage_qq[j, j] += σ²\n",
    "    end\n",
    "    LAPACK.potrf!('U', obs.storage_qq) # O(q^3)\n",
    "    # Zt * res\n",
    "    updater && BLAS.gemv!('N', T(-1), obs.ztx, β, T(1), copy!(obs.ztr, obs.zty)) # O(pq)\n",
    "    # Lt * (Zt * res)\n",
    "    BLAS.trmv!('L', 'T', 'N', L, copy!(obs.ltztr, obs.ztr))    # O(q^2)\n",
    "    # storage_q = (Mchol.U') \\ (Lt * (Zt * res))\n",
    "    BLAS.trsv!('U', 'T', 'N', obs.storage_qq, copy!(obs.storage_q, obs.ltztr)) # O(q^3)\n",
    "    # Xt * res = Xt * y - Xt * X * β\n",
    "    updater && BLAS.gemv!('N', T(-1), obs.xtx, β, T(1), copy!(obs.xtr, obs.xty))\n",
    "    # l2 norm of residual vector\n",
    "    updater && (obs.rtr[1] = obs.yty - dot(obs.xty, β) - dot(obs.xtr, β))\n",
    "    # assemble pieces\n",
    "    logl::T = n * log(2π) + (n - q) * log(σ²) # constant term\n",
    "    @inbounds for j in 1:q # log det term\n",
    "        logl += 2log(obs.storage_qq[j, j])\n",
    "    end\n",
    "    qf    = abs2(norm(obs.storage_q)) # quadratic form term\n",
    "    logl += (obs.rtr[1] - qf) * σ²inv \n",
    "    logl /= -2\n",
    "    ######################################\n",
    "    # TODO: Evaluate posterior mean and variance\n",
    "    ###################################### \n",
    "    \n",
    "    copy!(obs.storage_qq2, L)\n",
    "    LAPACK.trtri!('L', 'N', obs.storage_qq2)\n",
    "    BLAS.gemm!('T','N',T(1),obs.storage_qq2, obs.storage_qq2, T(0), obs.storage_qq) \n",
    "    BLAS.axpy!(1/σ², obs.ztz, obs.storage_qq)\n",
    "    \n",
    "    copy!(obs.storage_qq2, obs.storage_qq)\n",
    "    LAPACK.potrf!('U',obs.storage_qq2) \n",
    "    LAPACK.potri!('U', obs.storage_qq2)\n",
    "    LinearAlgebra.copytri!(obs.storage_qq2, 'U')\n",
    "\n",
    "    BLAS.gemm!('N','N', T(1), obs.storage_qq2, obs.ztr, T(0), obs.storage_q2)\n",
    "    obs.storage_q2 ./= σ²\n",
    "    \n",
    "    obs.μγ .= obs.storage_q2\n",
    "    obs.νγ .= obs.storage_qq2\n",
    "    \n",
    "    ###################\n",
    "    # Return\n",
    "    ###################        \n",
    "    return logl\n",
    "end"
   ]
  },
  {
   "cell_type": "markdown",
   "metadata": {},
   "source": [
    "It is a good idea to test correctness and efficiency of the single datum objective/posterior mean/var evaluator here. It's the same test datum in HW2 and HW4."
   ]
  },
  {
   "cell_type": "code",
   "execution_count": 3,
   "metadata": {},
   "outputs": [],
   "source": [
    "Random.seed!(257)\n",
    "# dimension\n",
    "n, p, q = 2000, 5, 3\n",
    "# predictors\n",
    "X = [ones(n) randn(n, p - 1)]\n",
    "Z = [ones(n) randn(n, q - 1)]\n",
    "# parameter values\n",
    "β  = [2.0; -1.0; rand(p - 2)]\n",
    "σ² = 1.5\n",
    "Σ  = fill(0.1, q, q) + 0.9I # compound symmetry \n",
    "L  = Matrix(cholesky(Symmetric(Σ)).L)\n",
    "# generate y\n",
    "y  = X * β + Z * rand(MvNormal(Σ)) + sqrt(σ²) * randn(n)\n",
    "\n",
    "# form the LmmObs object\n",
    "obs = LmmObs(y, X, Z);"
   ]
  },
  {
   "cell_type": "markdown",
   "metadata": {},
   "source": [
    "#### Correctness"
   ]
  },
  {
   "cell_type": "code",
   "execution_count": 4,
   "metadata": {},
   "outputs": [
    {
     "name": "stdout",
     "output_type": "stream",
     "text": [
      "logl = logl!(obs, β, Σ, L, σ², false) = -2254.123717479025\n",
      "obs.μγ = [6.94931033774e-313, 3.893588555e-315, 7.96855086e-315]\n",
      "obs.νγ = [0.0007495521480103861 4.188026819522357e-6 8.595028349011145e-6; 4.188026819522357e-6 0.0007599372708603274 -1.0092121486077345e-5; 8.595028349011145e-6 -1.0092121486077345e-5 0.0007370698232610101]\n"
     ]
    }
   ],
   "source": [
    "@show logl = logl!(obs, β, Σ, L, σ², false)\n",
    "@show obs.μγ\n",
    "@show obs.νγ;"
   ]
  },
  {
   "cell_type": "markdown",
   "metadata": {},
   "source": [
    "You will lose all 20 points if following statement throws `AssertionError`."
   ]
  },
  {
   "cell_type": "code",
   "execution_count": 5,
   "metadata": {},
   "outputs": [
    {
     "ename": "AssertionError",
     "evalue": "AssertionError: abs(logl - -3247.4568580638247) < 1.0e-8",
     "output_type": "error",
     "traceback": [
      "AssertionError: abs(logl - -3247.4568580638247) < 1.0e-8",
      "",
      "Stacktrace:",
      " [1] top-level scope at In[5]:1"
     ]
    }
   ],
   "source": [
    "@assert abs(logl - (-3247.4568580638247)) < 1e-8\n",
    "@assert norm(obs.μγ - [-1.7352999248278138, \n",
    "        -1.2234665777052611, -0.25020190407767146]) < 1e-8\n",
    "@assert norm(obs.νγ - [0.0007495521482876466 4.188026899159083e-6 8.595028393969659e-6; \n",
    "        4.1880268803062436e-6 0.0007599372708508531 -1.0092121451703577e-5; \n",
    "        8.595028373480989e-6 -1.009212147054782e-5 0.0007370698230021235]) < 1e-8"
   ]
  },
  {
   "cell_type": "markdown",
   "metadata": {},
   "source": [
    "#### Efficiency\n",
    "Benchmark for efficiency."
   ]
  },
  {
   "cell_type": "code",
   "execution_count": 6,
   "metadata": {},
   "outputs": [
    {
     "data": {
      "text/plain": [
       "BenchmarkTools.Trial: \n",
       "  memory estimate:  0 bytes\n",
       "  allocs estimate:  0\n",
       "  --------------\n",
       "  minimum time:     1.400 μs (0.00% GC)\n",
       "  median time:      1.600 μs (0.00% GC)\n",
       "  mean time:        1.611 μs (0.00% GC)\n",
       "  maximum time:     6.130 μs (0.00% GC)\n",
       "  --------------\n",
       "  samples:          10000\n",
       "  evals/sample:     10"
      ]
     },
     "execution_count": 6,
     "metadata": {},
     "output_type": "execute_result"
    }
   ],
   "source": [
    "bm_obj = @benchmark logl!($obs, $β, $Σ, $L, $σ², true)"
   ]
  },
  {
   "cell_type": "code",
   "execution_count": 7,
   "metadata": {},
   "outputs": [
    {
     "data": {
      "text/plain": [
       "10.0"
      ]
     },
     "execution_count": 7,
     "metadata": {},
     "output_type": "execute_result"
    }
   ],
   "source": [
    "clamp(10 / (median(bm_obj).time / 1e3) * 10, 0, 10)"
   ]
  },
  {
   "cell_type": "markdown",
   "metadata": {},
   "source": [
    "### Question 4. LmmModel type\n",
    "\n",
    "We modify the `LmmModel` type in HW4 to hold all data points, model parameters, and intermediate arrays."
   ]
  },
  {
   "cell_type": "code",
   "execution_count": 8,
   "metadata": {},
   "outputs": [
    {
     "data": {
      "text/plain": [
       "LmmModel"
      ]
     },
     "execution_count": 8,
     "metadata": {},
     "output_type": "execute_result"
    }
   ],
   "source": [
    "# define a type that holds LMM model (data + parameters)\n",
    "struct LmmModel{T <: AbstractFloat}\n",
    "    # data\n",
    "    data    :: Vector{LmmObs{T}}\n",
    "    # parameters\n",
    "    β       :: Vector{T}\n",
    "    Σ       :: Matrix{T}\n",
    "    L       :: Matrix{T}\n",
    "    σ²      :: Vector{T}    \n",
    "    # TODO: add whatever intermediate arrays you may want to pre-allocate\n",
    "    xty     :: Vector{T}\n",
    "    xtr     :: Vector{T}\n",
    "    ztr2    :: Vector{T}\n",
    "    xtxinv  :: Matrix{T}\n",
    "    ztz2    :: Matrix{T}\n",
    "    storage_p  :: Vector{T}\n",
    "    storage_q  :: Vector{T}\n",
    "end\n",
    "\n",
    "\"\"\"\n",
    "    LmmModel(data::Vector{LmmObs})\n",
    "\n",
    "Create an LMM model that contains data and parameters.\n",
    "\"\"\"\n",
    "function LmmModel(obsvec::Vector{LmmObs{T}}) where T <: AbstractFloat\n",
    "    # dims\n",
    "    p      = size(obsvec[1].X, 2)\n",
    "    q      = size(obsvec[1].Z, 2)\n",
    "    # parameters\n",
    "    β      = Vector{T}(undef, p)\n",
    "    Σ      = Matrix{T}(undef, q, q)\n",
    "    L      = Matrix{T}(undef, q, q)\n",
    "    σ²     = Vector{T}(undef, 1)    \n",
    "    # intermediate arrays\n",
    "    xty    = zeros(T, p)\n",
    "    xtr    = similar(xty)\n",
    "    ztr2   = Vector{T}(undef, abs2(q))\n",
    "    xtxinv = zeros(T, p, p)\n",
    "    # pre-calculate \\sum_i Xi^T Xi and \\sum_i Xi^T y_i\n",
    "    @inbounds for i in eachindex(obsvec)\n",
    "        obs = obsvec[i]\n",
    "        BLAS.axpy!(T(1), obs.xtx, xtxinv)\n",
    "        BLAS.axpy!(T(1), obs.xty, xty)\n",
    "    end\n",
    "    # invert X'X\n",
    "    LAPACK.potrf!('U', xtxinv)\n",
    "    LAPACK.potri!('U', xtxinv)\n",
    "    LinearAlgebra.copytri!(xtxinv, 'U')\n",
    "    ztz2   = Matrix{T}(undef, abs2(q), abs2(q))\n",
    "    storage_p = zeros(T, p)\n",
    "    storage_q = zeros(T, q)\n",
    "    LmmModel(obsvec, β, Σ, L, σ², xty, xtr, ztr2, xtxinv, ztz2, \n",
    "        storage_p, storage_q)\n",
    "end"
   ]
  },
  {
   "cell_type": "markdown",
   "metadata": {},
   "source": [
    "### Question 5. Implement EM update\n",
    "\n",
    "Let's write the key function `update_em!` that performs one iteration of EM update."
   ]
  },
  {
   "cell_type": "code",
   "execution_count": 9,
   "metadata": {},
   "outputs": [
    {
     "data": {
      "text/plain": [
       "update_em!"
      ]
     },
     "execution_count": 9,
     "metadata": {},
     "output_type": "execute_result"
    }
   ],
   "source": [
    "\"\"\"\n",
    "    update_em!(m::LmmModel, updater::Bool = false)\n",
    "\n",
    "Perform one iteration of EM update. It returns the log-likelihood calculated \n",
    "from input `m.β`, `m.Σ`, `m.L`, and `m.σ²`. These fields are then overwritten \n",
    "by the next EM iterate. The fields `m.data[i].xtr`, `m.data[i].ztr`, and \n",
    "`m.data[i].rtr` are updated according to the resultant `m.β`. If `updater==true`, \n",
    "the function first updates `m.data[i].xtr`, `m.data[i].ztr`, and \n",
    "`m.data[i].rtr` according to `m.β`. If `updater==false`, it assumes these fields \n",
    "are pre-computed.\n",
    "\"\"\"\n",
    "function update_em!(m::LmmModel{T}, updater::Bool = false) where T <: AbstractFloat\n",
    "    logl = zero(T)\n",
    "    fill!(m.storage_p, 0)\n",
    "    @inbounds for i in eachindex(m.data)\n",
    "        logl += logl!(m.data[i], m.β, m.Σ, m.L, m.σ²[1], updater)\n",
    "        BLAS.gemv!('T', T(-1), m.data[i].ztx, m.data[i].μγ, T(1), m.storage_p)\n",
    "    end\n",
    "    # TODO: update m.β\n",
    "    BLAS.axpy!(T(1), m.xty, m.storage_p)\n",
    "    BLAS.gemv!('N', T(1), m.xtxinv, m.storage_p, T(0), m.β)\n",
    "    # TODO: update m.data[i].ztr, m.data[i].xtr, m.data[i].rtr\n",
    "    @inbounds for i in eachindex(m.data)\n",
    "        BLAS.gemv!('N', T(-1), m.data[i].ztx, m.β, T(1), copy!(m.data[i].ztr, m.data[i].zty))\n",
    "        BLAS.gemv!('N', T(-1), m.data[i].xtx, m.β, T(1), copy!(m.data[i].xtr, m.data[i].xty))\n",
    "        m.data[i].rtr[1] = m.data[i].yty - dot(m.data[i].xty, m.β) - dot(m.data[i].xtr, m.β)\n",
    "    end\n",
    "    # TODO: update m.σ²\n",
    "    nsum = zero(T)\n",
    "    nErtr = zero(T)\n",
    "    @inbounds for i in eachindex(m.data)\n",
    "        nsum += size(m.data[i].X, 1)\n",
    "        BLAS.gemv!('N', T(1), m.data[i].ztz, m.data[i].μγ, T(0), m.storage_q)\n",
    "        BLAS.axpy!(T(-2), m.data[i].ztr, m.storage_q)\n",
    "        nErtr += m.data[i].rtr[1] + dot(m.data[i].ztz, m.data[i].νγ) + dot(m.storage_q, m.data[i].μγ)\n",
    "    end\n",
    "    m.σ²[1] = nErtr/nsum\n",
    "    # BLAS.axpy!(T(nErtr/nsum), ones(1), copy!(m.σ², zeros(1)))\n",
    "    # update m.Σ and m.L\n",
    "    fill!(m.Σ, 0)\n",
    "    @inbounds for i in eachindex(m.data)\n",
    "        BLAS.axpy!(T(1), m.data[i].νγ, m.Σ)\n",
    "        BLAS.gemm!('N', 'T', T(1), m.data[i].μγ, m.data[i].μγ, T(1), m.Σ)\n",
    "    end\n",
    "    m.Σ ./= length(m.data)\n",
    "    LAPACK.potrf!('L', copy!(m.L, m.Σ))\n",
    "    # return log-likelihood at input parameter values\n",
    "    logl\n",
    "end"
   ]
  },
  {
   "cell_type": "markdown",
   "metadata": {},
   "source": [
    "### Question 6: Test Data\n",
    "\n",
    "Let's generate a fake longitudinal data set (same as HW4) to test our algorithm."
   ]
  },
  {
   "cell_type": "code",
   "execution_count": 10,
   "metadata": {},
   "outputs": [],
   "source": [
    "Random.seed!(257)\n",
    "\n",
    "# dimension\n",
    "m      = 1000 # number of individuals\n",
    "ns     = rand(1500:2000, m) # numbers of observations per individual\n",
    "p      = 5 # number of fixed effects, including intercept\n",
    "q      = 3 # number of random effects, including intercept\n",
    "obsvec = Vector{LmmObs{Float64}}(undef, m)\n",
    "# true parameter values\n",
    "βtrue  = [0.1; 6.5; -3.5; 1.0; 5]\n",
    "σ²true = 1.5\n",
    "σtrue  = sqrt(σ²true)\n",
    "Σtrue  = Matrix(Diagonal([2.0; 1.2; 1.0]))\n",
    "Ltrue  = Matrix(cholesky(Symmetric(Σtrue)).L)\n",
    "# generate data\n",
    "for i in 1:m\n",
    "    # first column intercept, remaining entries iid std normal\n",
    "    X = Matrix{Float64}(undef, ns[i], p)\n",
    "    X[:, 1] .= 1\n",
    "    @views Distributions.rand!(Normal(), X[:, 2:p])\n",
    "    # first column intercept, remaining entries iid std normal\n",
    "    Z = Matrix{Float64}(undef, ns[i], q)\n",
    "    Z[:, 1] .= 1\n",
    "    @views Distributions.rand!(Normal(), Z[:, 2:q])\n",
    "    # generate y\n",
    "    y = X * βtrue .+ Z * (Ltrue * randn(q)) .+ σtrue * randn(ns[i])\n",
    "    # form a LmmObs instance\n",
    "    obsvec[i] = LmmObs(y, X, Z)\n",
    "end\n",
    "# form a LmmModel instance\n",
    "lmm = LmmModel(obsvec);"
   ]
  },
  {
   "cell_type": "markdown",
   "metadata": {},
   "source": [
    "#### Correctness\n",
    "\n",
    "Evaluate log-likelihood and gradient at the true parameter values."
   ]
  },
  {
   "cell_type": "code",
   "execution_count": 11,
   "metadata": {},
   "outputs": [
    {
     "name": "stdout",
     "output_type": "stream",
     "text": [
      "obj1 = update_em!(lmm, true) = -2.8547126486833016e6\n",
      "lmm.β = [0.09999267262798336, 6.5001444038353, -3.498793255670913, 1.0004987618552155, 5.000049480766921]\n",
      "lmm.Σ = [2.0571260191161262 -0.010005181563164108 0.01814786873039591; -0.010005181563164108 1.1823115059222267 -0.022667932474031035; 0.01814786873039591 -0.022667932474031035 0.9380104634208108]\n",
      "lmm.L = [1.4342684613126395 -0.010005181563164108 0.01814786873039591; -0.006975808109178798 1.087319108644491 -0.022667932474031035; 0.012653048728260412 -0.020766366611781148 0.968204070326311]\n",
      "lmm.σ² = [1.4990442693980928]\n",
      "\n",
      "obj2 = update_em!(lmm, false) = -2.854710039433825e6\n",
      "lmm.β = [0.09998547635122734, 6.50014468720541, -3.498791271256962, 1.0004995324309305, 5.00004950690825]\n",
      "lmm.Σ = [2.0571717496845676 -0.00999842235599315 0.018139900492303546; -0.00999842235599315 1.1822841240900164 -0.02266378717146305; 0.018139900492303546 -0.02266378717146305 0.9379034897185352]\n",
      "lmm.L = [1.4342844033470377 -0.00999842235599315 0.018139900492303546; -0.006971017974301952 1.0873065478504296 -0.02266378717146305; 0.01264735254038347 -0.020762886321440802 0.9681489744578865]\n",
      "lmm.σ² = [1.4990443122721484]\n"
     ]
    },
    {
     "data": {
      "text/plain": [
       "1-element Array{Float64,1}:\n",
       " 1.4990443122721484"
      ]
     },
     "execution_count": 11,
     "metadata": {},
     "output_type": "execute_result"
    }
   ],
   "source": [
    "copy!(lmm.β, βtrue)\n",
    "copy!(lmm.Σ, Σtrue)\n",
    "copy!(lmm.L, Ltrue)\n",
    "lmm.σ²[1] = σ²true\n",
    "@show obj1 = update_em!(lmm, true)\n",
    "@show lmm.β\n",
    "@show lmm.Σ\n",
    "@show lmm.L\n",
    "@show lmm.σ²\n",
    "println()\n",
    "lmm.σ²[1] = σ²true\n",
    "@show obj2 = update_em!(lmm, false)\n",
    "@show lmm.β\n",
    "@show lmm.Σ\n",
    "@show lmm.L\n",
    "@show lmm.σ²"
   ]
  },
  {
   "cell_type": "markdown",
   "metadata": {},
   "source": [
    "Test correctness. You will loss all 30 points if following code throws `AssertError`."
   ]
  },
  {
   "cell_type": "code",
   "execution_count": 12,
   "metadata": {},
   "outputs": [
    {
     "ename": "AssertionError",
     "evalue": "AssertionError: abs(obj2 - -2.8547098610621705e6) < 1.0e-6",
     "output_type": "error",
     "traceback": [
      "AssertionError: abs(obj2 - -2.8547098610621705e6) < 1.0e-6",
      "",
      "Stacktrace:",
      " [1] top-level scope at In[12]:2"
     ]
    }
   ],
   "source": [
    "@assert abs(obj1 - (-2.854712648683302e6)) < 1e-6\n",
    "@assert abs(obj2 - (-2.8547098610621705e6)) < 1e-6"
   ]
  },
  {
   "cell_type": "markdown",
   "metadata": {},
   "source": [
    "#### Efficiency\n",
    "\n",
    "Test efficiency of EM update."
   ]
  },
  {
   "cell_type": "code",
   "execution_count": 13,
   "metadata": {},
   "outputs": [
    {
     "data": {
      "text/plain": [
       "BenchmarkTools.Trial: \n",
       "  memory estimate:  0 bytes\n",
       "  allocs estimate:  0\n",
       "  --------------\n",
       "  minimum time:     1.752 ms (0.00% GC)\n",
       "  median time:      1.950 ms (0.00% GC)\n",
       "  mean time:        1.973 ms (0.00% GC)\n",
       "  maximum time:     3.362 ms (0.00% GC)\n",
       "  --------------\n",
       "  samples:          2528\n",
       "  evals/sample:     1"
      ]
     },
     "execution_count": 13,
     "metadata": {},
     "output_type": "execute_result"
    }
   ],
   "source": [
    "bm_emupdate = @benchmark update_em!($lmm, true) setup=(\n",
    "    copy!(lmm.β, βtrue);\n",
    "    copy!(lmm.Σ, Σtrue);\n",
    "    copy!(lmm.L, Ltrue);\n",
    "    lmm.σ²[1] = σ²true)"
   ]
  },
  {
   "cell_type": "markdown",
   "metadata": {},
   "source": [
    "My median run time is 2.17ms. You will get full credit if your median run time is within 10ms. The points you will get are"
   ]
  },
  {
   "cell_type": "code",
   "execution_count": 14,
   "metadata": {},
   "outputs": [
    {
     "data": {
      "text/plain": [
       "10.0"
      ]
     },
     "execution_count": 14,
     "metadata": {},
     "output_type": "execute_result"
    }
   ],
   "source": [
    "clamp(10 / (median(bm_emupdate).time / 1e6) * 10, 0, 10)"
   ]
  },
  {
   "cell_type": "markdown",
   "metadata": {},
   "source": [
    "#### Memory\n",
    "\n",
    "You will lose 1 point for each 100 bytes memory allocation. So the points you will get is"
   ]
  },
  {
   "cell_type": "code",
   "execution_count": 15,
   "metadata": {},
   "outputs": [
    {
     "data": {
      "text/plain": [
       "10.0"
      ]
     },
     "execution_count": 15,
     "metadata": {},
     "output_type": "execute_result"
    }
   ],
   "source": [
    "clamp(10 - median(bm_emupdate).memory / 100, 0, 10)"
   ]
  },
  {
   "cell_type": "markdown",
   "metadata": {},
   "source": [
    "### Question 7: Starting point\n",
    "\n",
    "We use the same least squares estimates as in HW4 as starting point. "
   ]
  },
  {
   "cell_type": "code",
   "execution_count": 16,
   "metadata": {},
   "outputs": [
    {
     "data": {
      "text/plain": [
       "kron_axpy!"
      ]
     },
     "execution_count": 16,
     "metadata": {},
     "output_type": "execute_result"
    }
   ],
   "source": [
    "\"\"\"\n",
    "    init_ls!(m::LmmModel)\n",
    "\n",
    "Initialize parameters of a `LmmModel` object from the least squares estimate. \n",
    "`m.β`, `m.L`, and `m.σ²` are overwritten with the least squares estimates.\n",
    "\"\"\"\n",
    "function init_ls!(m::LmmModel{T}) where T <: AbstractFloat\n",
    "    p, q = size(m.data[1].X, 2), size(m.data[1].Z, 2)\n",
    "    # LS estimate for β\n",
    "    mul!(m.β, m.xtxinv, m.xty)\n",
    "    # LS etimate for σ2 and Σ\n",
    "    rss, ntotal = zero(T), 0\n",
    "    fill!(m.ztz2, 0)\n",
    "    fill!(m.ztr2, 0)    \n",
    "    @inbounds for i in eachindex(m.data)\n",
    "        obs = m.data[i]\n",
    "        ntotal += length(obs.y)\n",
    "        # update Xt * res\n",
    "        BLAS.gemv!('N', T(-1), obs.xtx, m.β, T(1), copy!(obs.xtr, obs.xty))\n",
    "        # rss of i-th individual\n",
    "        rss += obs.yty - dot(obs.xty, m.β) - dot(obs.xtr, m.β)\n",
    "        # update Zi' * res\n",
    "        BLAS.gemv!('N', T(-1), obs.ztx, m.β, T(1), copy!(obs.ztr, obs.zty))\n",
    "        # Zi'Zi ⊗ Zi'Zi\n",
    "        kron_axpy!(obs.ztz, obs.ztz, m.ztz2)\n",
    "        # Zi'res ⊗ Zi'res\n",
    "        kron_axpy!(obs.ztr, obs.ztr, m.ztr2)\n",
    "    end\n",
    "    m.σ²[1] = rss / ntotal\n",
    "    # LS estimate for Σ = LLt\n",
    "    LAPACK.potrf!('U', m.ztz2)\n",
    "    BLAS.trsv!('U', 'T', 'N', m.ztz2, m.ztr2)\n",
    "    BLAS.trsv!('U', 'N', 'N', m.ztz2, m.ztr2)\n",
    "    copyto!(m.Σ, m.ztr2)\n",
    "    copy!(m.L, m.Σ)\n",
    "    LAPACK.potrf!('L', m.L)\n",
    "    for j in 2:q, i in 1:j-1\n",
    "        m.L[i, j] = 0\n",
    "    end\n",
    "    m\n",
    "end\n",
    "\n",
    "\"\"\"\n",
    "    kron_axpy!(A, X, Y)\n",
    "\n",
    "Overwrite `Y` with `A ⊗ X + Y`. Same as `Y += kron(A, X)` but\n",
    "more memory efficient.\n",
    "\"\"\"\n",
    "function kron_axpy!(\n",
    "        A::AbstractVecOrMat{T},\n",
    "        X::AbstractVecOrMat{T},\n",
    "        Y::AbstractVecOrMat{T}\n",
    "        ) where T <: Real\n",
    "    m, n = size(A, 1), size(A, 2)\n",
    "    p, q = size(X, 1), size(X, 2)\n",
    "    @assert size(Y, 1) == m * p\n",
    "    @assert size(Y, 2) == n * q\n",
    "    @inbounds for j in 1:n\n",
    "        coffset = (j - 1) * q\n",
    "        for i in 1:m\n",
    "            a = A[i, j]\n",
    "            roffset = (i - 1) * p            \n",
    "            for l in 1:q\n",
    "                r = roffset + 1\n",
    "                c = coffset + l\n",
    "                for k in 1:p                \n",
    "                    Y[r, c] += a * X[k, l]\n",
    "                    r += 1\n",
    "                end\n",
    "            end\n",
    "        end\n",
    "    end\n",
    "    Y\n",
    "end"
   ]
  },
  {
   "cell_type": "code",
   "execution_count": 17,
   "metadata": {},
   "outputs": [
    {
     "name": "stdout",
     "output_type": "stream",
     "text": [
      "lmm.β = [0.08757868042872417, 6.498740647737429, -3.497052864661033, 0.9971817478195708, 5.000992653697893]\n",
      "lmm.Σ = [2.04716308425845 -0.0029959722919697665 0.018911797660621295; -0.0029959722919697665 1.1870496027555333 -0.012600387416032002; 0.018911797660621288 -0.012600387416032002 0.9228737560869615]\n",
      "lmm.L = [1.4307910693942878 0.0 0.0; -0.0020939271680232695 1.08951604771318 0.0; 0.013217721346714461 -0.011539720315817301 0.9605029322102014]\n",
      "lmm.σ² = [5.66724466129435]\n"
     ]
    },
    {
     "data": {
      "text/plain": [
       "1-element Array{Float64,1}:\n",
       " 5.66724466129435"
      ]
     },
     "execution_count": 17,
     "metadata": {},
     "output_type": "execute_result"
    }
   ],
   "source": [
    "init_ls!(lmm)\n",
    "@show lmm.β\n",
    "@show lmm.Σ\n",
    "@show lmm.L\n",
    "@show lmm.σ²"
   ]
  },
  {
   "cell_type": "markdown",
   "metadata": {},
   "source": [
    "### Question 8: Estimation by EM\n",
    "\n",
    "We write a function `fit!` that implements the EM algorithm for estimating LMM."
   ]
  },
  {
   "cell_type": "code",
   "execution_count": 18,
   "metadata": {},
   "outputs": [
    {
     "data": {
      "text/plain": [
       "fit!"
      ]
     },
     "execution_count": 18,
     "metadata": {},
     "output_type": "execute_result"
    }
   ],
   "source": [
    "\"\"\"\n",
    "    fit!(m::LmmModel)\n",
    "\n",
    "Fit an `LmmModel` object by MLE using a EM algorithm. Start point \n",
    "should be provided in `m.β`, `m.σ²`, `m.L`.\n",
    "\"\"\"\n",
    "function fit!(\n",
    "        m       :: LmmModel;\n",
    "        maxiter :: Integer       = 10_000,\n",
    "        ftolrel :: AbstractFloat = 1e-12,\n",
    "        prtfreq :: Integer       = 0\n",
    "    )\n",
    "    obj = update_em!(m, true)\n",
    "    for iter in 0:maxiter\n",
    "        obj_old = obj\n",
    "        # EM update\n",
    "        obj = update_em!(m, false)\n",
    "        # print obj\n",
    "        prtfreq > 0 && rem(iter, prtfreq) == 0 && println(\"iter=$iter, obj=$obj\")\n",
    "        # check monotonicity\n",
    "        obj < obj_old && (@warn \"monotoniciy violated\")\n",
    "        # check convergence criterion\n",
    "        (obj - obj_old) < ftolrel * (abs(obj_old) + 1) && break\n",
    "        # warning about non-convergence\n",
    "        iter == maxiter && (@warn \"maximum iterations reached\")\n",
    "    end\n",
    "    m\n",
    "end"
   ]
  },
  {
   "cell_type": "markdown",
   "metadata": {},
   "source": [
    "### Question 9: Test drive\n",
    "\n",
    "Now we can run our EM algorithm to compute the MLE."
   ]
  },
  {
   "cell_type": "code",
   "execution_count": 19,
   "metadata": {},
   "outputs": [
    {
     "name": "stdout",
     "output_type": "stream",
     "text": [
      "iter=0, obj=-2.854719634983941e6\n",
      "iter=100, obj=-2.8547097914011586e6\n",
      "iter=200, obj=-2.854709790941388e6\n",
      "iter=300, obj=-2.854709790516994e6\n",
      "iter=400, obj=-2.854709790125188e6\n",
      "iter=500, obj=-2.8547097897634436e6\n",
      "iter=600, obj=-2.854709789429399e6\n",
      "iter=700, obj=-2.854709789120896e6\n",
      "  1.474494 seconds (92.24 k allocations: 4.570 MiB)\n",
      "objective value at solution: -2.8547097889812905e6\n",
      "\n",
      "solution values:\n",
      "lmm.β = [0.08626393611024938, 6.500144688454773, -3.4987912684803137, 1.0004995348309655, 5.000049506865842]\n",
      "lmm.σ² = [1.499042674929252]\n",
      "lmm.L * transpose(lmm.L) = [2.0573193143925343 -0.021106436052820587 0.036368303364311544; -0.021106436052820587 1.1827982898983043 -0.044605719896592934; 0.036368303364311544 -0.044605719896592934 0.9379038242810036]\n"
     ]
    },
    {
     "data": {
      "text/plain": [
       "3×3 Array{Float64,2}:\n",
       "  2.05732    -0.0211064   0.0363683\n",
       " -0.0211064   1.1828     -0.0446057\n",
       "  0.0363683  -0.0446057   0.937904 "
      ]
     },
     "execution_count": 19,
     "metadata": {},
     "output_type": "execute_result"
    }
   ],
   "source": [
    "# initialize from least squares\n",
    "init_ls!(lmm)\n",
    "\n",
    "@time fit!(lmm, prtfreq = 100);\n",
    "\n",
    "println(\"objective value at solution: \", update_em!(lmm)); println()\n",
    "println(\"solution values:\")\n",
    "@show lmm.β\n",
    "@show lmm.σ²\n",
    "@show lmm.L * transpose(lmm.L)"
   ]
  },
  {
   "cell_type": "markdown",
   "metadata": {},
   "source": [
    "#### Correctness\n",
    "\n",
    "You get 10 points if the following code does not throw `AssertError`."
   ]
  },
  {
   "cell_type": "code",
   "execution_count": 20,
   "metadata": {},
   "outputs": [],
   "source": [
    "# objective at solution should be close enough to the optimal\n",
    "@assert update_em!(lmm) > -2.85471e6"
   ]
  },
  {
   "cell_type": "markdown",
   "metadata": {},
   "source": [
    "#### Efficiency\n",
    "\n",
    "My median run time 1.8s. You get 10 points if your median run time is within 5s."
   ]
  },
  {
   "cell_type": "code",
   "execution_count": 21,
   "metadata": {},
   "outputs": [
    {
     "data": {
      "text/plain": [
       "BenchmarkTools.Trial: \n",
       "  memory estimate:  0 bytes\n",
       "  allocs estimate:  0\n",
       "  --------------\n",
       "  minimum time:     1.439 s (0.00% GC)\n",
       "  median time:      1.579 s (0.00% GC)\n",
       "  mean time:        1.547 s (0.00% GC)\n",
       "  maximum time:     1.590 s (0.00% GC)\n",
       "  --------------\n",
       "  samples:          4\n",
       "  evals/sample:     1"
      ]
     },
     "execution_count": 21,
     "metadata": {},
     "output_type": "execute_result"
    }
   ],
   "source": [
    "bm_em = @benchmark fit!($lmm) setup = (init_ls!(lmm))"
   ]
  },
  {
   "cell_type": "code",
   "execution_count": 22,
   "metadata": {},
   "outputs": [
    {
     "data": {
      "text/plain": [
       "10.0"
      ]
     },
     "execution_count": 22,
     "metadata": {},
     "output_type": "execute_result"
    }
   ],
   "source": [
    "# this is the points you get\n",
    "clamp(5 / (median(bm_em).time / 1e9) * 10, 0, 10)"
   ]
  },
  {
   "cell_type": "markdown",
   "metadata": {},
   "source": [
    "### Question 10: EM vs Newton type algorithms\n",
    "\n",
    "Contrast EM algorithm to the Newton type algorithms (gradient free, gradient based, using Hessian) in HW4, in terms of the stability, convergence rate (how fast the algorithm is converging),  final objective value, total run time, derivation, and implementation efforts. "
   ]
  },
  {
   "cell_type": "markdown",
   "metadata": {},
   "source": [
    "First, the amout of time it takes EM to fit rather than a Newton type algorithim is incredibly fast. It probably is 10 fold faster than our around 10 second runtime from hw4. The EM algorithm hits the target log likelihood as well as the estimated paramter values just as well as the newton method. Although, the downside is that it is very difficult to derive while the Newton method is more straightforward and intuitive. Implementation wise it was also much more complex and difficult to write the code than with Newton method. If you're trying to optimize run time than EM seems the most logical, but it is important to note it is much more difficult to implement. "
   ]
  }
 ],
 "metadata": {
  "kernelspec": {
   "display_name": "Julia 1.3.0",
   "language": "julia",
   "name": "julia-1.3"
  },
  "language_info": {
   "file_extension": ".jl",
   "mimetype": "application/julia",
   "name": "julia",
   "version": "1.3.0"
  }
 },
 "nbformat": 4,
 "nbformat_minor": 4
}
